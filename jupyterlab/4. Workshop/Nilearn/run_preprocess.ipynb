{
 "cells": [
  {
   "cell_type": "markdown",
   "id": "dab7d6b0-bafa-4dd2-82ea-5bd5edb07fb4",
   "metadata": {},
   "source": [
    "# Reference\n",
    "- dcm2nifti & change file name : Thanks to 강민석 교수님.. \n",
    "- Denoising process: https://github.com/cosanlab/vmPFC_dynamics/blob/master/Notebooks/1_VMPFC_Denoise.ipynb"
   ]
  },
  {
   "cell_type": "markdown",
   "id": "aa420368-1e25-41ea-8de0-911347b4a3c2",
   "metadata": {},
   "source": [
    "# 0. Make a BIDS format "
   ]
  },
  {
   "cell_type": "code",
   "execution_count": null,
   "id": "9e43233c-1e92-455c-bdc3-016564a1cc09",
   "metadata": {},
   "outputs": [],
   "source": [
    "# Change fieldmap name with shell script !                 \n",
    "path = '/mnt/c/Users/since/Desktop/Kdrama_prac/bash_create_folders_in_nifti.sh' #파일이 존재하는 로컬 경로 설정. 스크립트 들어가서 먼저 변수 설정 바꿔주기.. \n",
    "sp.call(path, shell=True)"
   ]
  },
  {
   "cell_type": "markdown",
   "id": "5791e08c-c9fd-47f6-b843-8418ed844a07",
   "metadata": {
    "tags": []
   },
   "source": [
    "# 1. dcm2nifti : Conver dcm data to nifti"
   ]
  },
  {
   "cell_type": "raw",
   "id": "9b14da32-73be-4502-b902-4dd1bed5ab09",
   "metadata": {},
   "source": [
    "- 설치 리스트 \n",
    "conda install -c conda-forge dcm2niix"
   ]
  },
  {
   "cell_type": "code",
   "execution_count": 2,
   "id": "0cabba9c-9c59-498b-a1fb-a29f065052f8",
   "metadata": {},
   "outputs": [],
   "source": [
    "from nipype.interfaces.dcm2nii import Dcm2niix\n",
    "import nipype.interfaces.io as nio\n",
    "import warnings\n",
    "import subprocess as sp\n",
    "\n",
    "warnings.filterwarnings(action='ignore')"
   ]
  },
  {
   "cell_type": "code",
   "execution_count": 3,
   "id": "004d9f4c-5996-4049-b2ac-aa68454cedff",
   "metadata": {},
   "outputs": [],
   "source": [
    "subjsource = nio.DataGrabber()"
   ]
  },
  {
   "cell_type": "code",
   "execution_count": 9,
   "id": "34c0add3-9647-429f-b53a-02e34f49f9dc",
   "metadata": {},
   "outputs": [
    {
     "name": "stdout",
     "output_type": "stream",
     "text": [
      "['/mnt/c/Users/since/Desktop/Kdrama_prac/dicom/S14', '/mnt/c/Users/since/Desktop/Kdrama_prac/dicom/S15', '/mnt/c/Users/since/Desktop/Kdrama_prac/dicom/S16']\n"
     ]
    }
   ],
   "source": [
    "subjsource.inputs.base_directory = '/mnt/c/Users/since/Desktop/Kdrama_prac/dicom' # make sure to change output directory below\n",
    "#subjsource.inputs.template = 'S1[0-5]'\n",
    "subjsource.inputs.template = 'S1[4-6]'\n",
    "subjsource.inputs.sort_filelist = True\n",
    "subjresults = subjsource.run()\n",
    "\n",
    "converter = Dcm2niix()\n",
    "\n",
    "if isinstance(subjresults.outputs.outfiles,str):\n",
    "    subjresults.outputs.outfiles = [subjresults.outputs.outfiles]\n",
    "    \n",
    "print(subjresults.outputs.outfiles)"
   ]
  },
  {
   "cell_type": "code",
   "execution_count": 10,
   "id": "e9397912-858f-421d-94de-6c5f5f3e9b27",
   "metadata": {
    "tags": []
   },
   "outputs": [
    {
     "name": "stdout",
     "output_type": "stream",
     "text": [
      "/mnt/c/Users/since/Desktop/Kdrama_prac/data/\n",
      "sub-14\n",
      "cur_file is /mnt/c/Users/since/Desktop/Kdrama_prac/dicom/S14/ENCODING-1_0009\n",
      "230712-12:06:13,366 nipype.interface INFO:\n",
      "\t stdout 2023-07-12T12:06:13.366834:Chris Rorden's dcm2niiX version v1.0.20230411  GCC12.2.0 x86-64 (64-bit Linux)\n",
      "230712-12:06:13,367 nipype.interface INFO:\n",
      "\t stdout 2023-07-12T12:06:13.366834:Found 477 DICOM file(s)\n",
      "230712-12:06:13,368 nipype.interface INFO:\n",
      "\t stdout 2023-07-12T12:06:13.366834:Convert 477 DICOM as /mnt/c/Users/since/Desktop/Kdrama_prac/data/sub-14/func/sub-14_task-encoding_run-1_bold (80x80x48x477)\n",
      "230712-12:06:14,521 nipype.interface INFO:\n",
      "\t stdout 2023-07-12T12:06:14.521013:Compress: \"/usr/bin/pigz\" -b 960 -n -f -5 \"/mnt/c/Users/since/Desktop/Kdrama_prac/data/sub-14/func/sub-14_task-encoding_run-1_bold.nii\"\n",
      "230712-12:06:14,521 nipype.interface INFO:\n",
      "\t stdout 2023-07-12T12:06:14.521013:Conversion required 12.556428 seconds (1.988587 for core code).\n",
      "/mnt/c/Users/since/Desktop/Kdrama_prac/data/sub-14/func/sub-14_task-encoding_run-1_bold\n",
      "cur_file is /mnt/c/Users/since/Desktop/Kdrama_prac/dicom/S14/ENCODING-3_0011\n",
      "230712-12:06:25,927 nipype.interface INFO:\n",
      "\t stdout 2023-07-12T12:06:25.927414:Chris Rorden's dcm2niiX version v1.0.20230411  GCC12.2.0 x86-64 (64-bit Linux)\n",
      "230712-12:06:25,928 nipype.interface INFO:\n",
      "\t stdout 2023-07-12T12:06:25.927414:Found 477 DICOM file(s)\n",
      "230712-12:06:25,928 nipype.interface INFO:\n",
      "\t stdout 2023-07-12T12:06:25.927414:Convert 477 DICOM as /mnt/c/Users/since/Desktop/Kdrama_prac/data/sub-14/func/sub-14_task-encoding_run-2_bold (80x80x48x477)\n",
      "230712-12:06:26,763 nipype.interface INFO:\n",
      "\t stdout 2023-07-12T12:06:26.763120:Compress: \"/usr/bin/pigz\" -b 960 -n -f -5 \"/mnt/c/Users/since/Desktop/Kdrama_prac/data/sub-14/func/sub-14_task-encoding_run-2_bold.nii\"\n",
      "230712-12:06:26,763 nipype.interface INFO:\n",
      "\t stdout 2023-07-12T12:06:26.763120:Conversion required 12.125083 seconds (1.948100 for core code).\n",
      "/mnt/c/Users/since/Desktop/Kdrama_prac/data/sub-14/func/sub-14_task-encoding_run-2_bold\n",
      "cur_file is /mnt/c/Users/since/Desktop/Kdrama_prac/dicom/S14/RECALL-1_0010\n",
      "230712-12:06:32,752 nipype.interface INFO:\n",
      "\t stdout 2023-07-12T12:06:32.752308:Chris Rorden's dcm2niiX version v1.0.20230411  GCC12.2.0 x86-64 (64-bit Linux)\n",
      "230712-12:06:32,753 nipype.interface INFO:\n",
      "\t stdout 2023-07-12T12:06:32.752308:Found 256 DICOM file(s)\n",
      "230712-12:06:32,753 nipype.interface INFO:\n",
      "\t stdout 2023-07-12T12:06:32.752308:Convert 256 DICOM as /mnt/c/Users/since/Desktop/Kdrama_prac/data/sub-14/func/sub-14_task-recall_run-1_bold (80x80x48x256)\n",
      "230712-12:06:33,250 nipype.interface INFO:\n",
      "\t stdout 2023-07-12T12:06:33.250259:Compress: \"/usr/bin/pigz\" -b 960 -n -f -5 \"/mnt/c/Users/since/Desktop/Kdrama_prac/data/sub-14/func/sub-14_task-recall_run-1_bold.nii\"\n",
      "230712-12:06:33,250 nipype.interface INFO:\n",
      "\t stdout 2023-07-12T12:06:33.250259:Conversion required 6.380761 seconds (1.030218 for core code).\n",
      "/mnt/c/Users/since/Desktop/Kdrama_prac/data/sub-14/func/sub-14_task-recall_run-1_bold\n",
      "cur_file is /mnt/c/Users/since/Desktop/Kdrama_prac/dicom/S14/RECALL-2_0012\n",
      "230712-12:06:44,581 nipype.interface INFO:\n",
      "\t stdout 2023-07-12T12:06:44.581503:Chris Rorden's dcm2niiX version v1.0.20230411  GCC12.2.0 x86-64 (64-bit Linux)\n",
      "230712-12:06:44,582 nipype.interface INFO:\n",
      "\t stdout 2023-07-12T12:06:44.581503:Found 483 DICOM file(s)\n",
      "230712-12:06:44,582 nipype.interface INFO:\n",
      "\t stdout 2023-07-12T12:06:44.581503:Convert 483 DICOM as /mnt/c/Users/since/Desktop/Kdrama_prac/data/sub-14/func/sub-14_task-recall_run-2_bold (80x80x48x483)\n",
      "230712-12:06:45,434 nipype.interface INFO:\n",
      "\t stdout 2023-07-12T12:06:45.434628:Compress: \"/usr/bin/pigz\" -b 960 -n -f -5 \"/mnt/c/Users/since/Desktop/Kdrama_prac/data/sub-14/func/sub-14_task-recall_run-2_bold.nii\"\n",
      "230712-12:06:45,435 nipype.interface INFO:\n",
      "\t stdout 2023-07-12T12:06:45.434628:Conversion required 12.094152 seconds (2.006711 for core code).\n",
      "/mnt/c/Users/since/Desktop/Kdrama_prac/data/sub-14/func/sub-14_task-recall_run-2_bold\n",
      "cur_file is /mnt/c/Users/since/Desktop/Kdrama_prac/dicom/S14/T1_MPRAGE_SAG_1_0ISO_0005\n",
      "230712-12:06:49,434 nipype.interface INFO:\n",
      "\t stdout 2023-07-12T12:06:49.434206:Chris Rorden's dcm2niiX version v1.0.20230411  GCC12.2.0 x86-64 (64-bit Linux)\n",
      "230712-12:06:49,434 nipype.interface INFO:\n",
      "\t stdout 2023-07-12T12:06:49.434206:Found 192 DICOM file(s)\n",
      "230712-12:06:49,435 nipype.interface INFO:\n",
      "\t stdout 2023-07-12T12:06:49.434206:Convert 192 DICOM as /mnt/c/Users/since/Desktop/Kdrama_prac/data/sub-14/anat/sub-14_T1w (256x256x192x1)\n",
      "230712-12:06:49,662 nipype.interface INFO:\n",
      "\t stdout 2023-07-12T12:06:49.661977:Compress: \"/usr/bin/pigz\" -b 960 -n -f -5 \"/mnt/c/Users/since/Desktop/Kdrama_prac/data/sub-14/anat/sub-14_T1w.nii\"\n",
      "230712-12:06:49,662 nipype.interface INFO:\n",
      "\t stdout 2023-07-12T12:06:49.661977:Conversion required 4.130375 seconds (0.747298 for core code).\n",
      "/mnt/c/Users/since/Desktop/Kdrama_prac/data/sub-14/anat/sub-14_T1w\n",
      "cur_file is /mnt/c/Users/since/Desktop/Kdrama_prac/dicom/S14/GRE_FIELD_MAPPING_3MM_0014\n",
      "230712-12:06:52,664 nipype.interface INFO:\n",
      "\t stdout 2023-07-12T12:06:52.664478:Chris Rorden's dcm2niiX version v1.0.20230411  GCC12.2.0 x86-64 (64-bit Linux)\n",
      "230712-12:06:52,665 nipype.interface INFO:\n",
      "\t stdout 2023-07-12T12:06:52.664478:Found 144 DICOM file(s)\n",
      "230712-12:06:52,665 nipype.interface INFO:\n",
      "\t stdout 2023-07-12T12:06:52.664478:Slices not stacked: echo varies (TE 4.92, 7.38; echo 1, 2). Use 'merge 2D slices' option to force stacking\n",
      "230712-12:06:52,666 nipype.interface INFO:\n",
      "\t stdout 2023-07-12T12:06:52.664478:Convert 72 DICOM as /mnt/c/Users/since/Desktop/Kdrama_prac/data/sub-14/fmap/sub-14_fmap_e1 (110x110x72x1)\n",
      "230712-12:06:53,172 nipype.interface INFO:\n",
      "\t stdout 2023-07-12T12:06:53.172626:Compress: \"/usr/bin/pigz\" -b 960 -n -f -5 \"/mnt/c/Users/since/Desktop/Kdrama_prac/data/sub-14/fmap/sub-14_fmap_e1.nii\"\n",
      "230712-12:06:53,173 nipype.interface INFO:\n",
      "\t stdout 2023-07-12T12:06:53.172626:Convert 72 DICOM as /mnt/c/Users/since/Desktop/Kdrama_prac/data/sub-14/fmap/sub-14_fmap_e2 (110x110x72x1)\n",
      "230712-12:06:53,249 nipype.interface INFO:\n",
      "\t stdout 2023-07-12T12:06:53.249364:Compress: \"/usr/bin/pigz\" -b 960 -n -f -5 \"/mnt/c/Users/since/Desktop/Kdrama_prac/data/sub-14/fmap/sub-14_fmap_e2.nii\"\n",
      "230712-12:06:53,249 nipype.interface INFO:\n",
      "\t stdout 2023-07-12T12:06:53.249364:Conversion required 3.489849 seconds (0.542973 for core code).\n",
      "/mnt/c/Users/since/Desktop/Kdrama_prac/data/sub-14/fmap/sub-14_fmap\n",
      "cur_file is /mnt/c/Users/since/Desktop/Kdrama_prac/dicom/S14/GRE_FIELD_MAPPING_3MM_0015\n",
      "230712-12:06:55,56 nipype.interface INFO:\n",
      "\t stdout 2023-07-12T12:06:55.056189:Chris Rorden's dcm2niiX version v1.0.20230411  GCC12.2.0 x86-64 (64-bit Linux)\n",
      "230712-12:06:55,57 nipype.interface INFO:\n",
      "\t stdout 2023-07-12T12:06:55.056189:Found 72 DICOM file(s)\n",
      "230712-12:06:55,57 nipype.interface INFO:\n",
      "\t stdout 2023-07-12T12:06:55.056189:Convert 72 DICOM as /mnt/c/Users/since/Desktop/Kdrama_prac/data/sub-14/fmap/sub-14_fmap_e2_ph (110x110x72x1)\n",
      "230712-12:06:55,142 nipype.interface INFO:\n",
      "\t stdout 2023-07-12T12:06:55.142280:Compress: \"/usr/bin/pigz\" -b 960 -n -f -5 \"/mnt/c/Users/since/Desktop/Kdrama_prac/data/sub-14/fmap/sub-14_fmap_e2_ph.nii\"\n",
      "230712-12:06:55,143 nipype.interface INFO:\n",
      "\t stdout 2023-07-12T12:06:55.142280:Conversion required 1.767958 seconds (0.275038 for core code).\n",
      "/mnt/c/Users/since/Desktop/Kdrama_prac/data/sub-14/fmap/sub-14_fmap\n",
      "cur_file is /mnt/c/Users/since/Desktop/Kdrama_prac/dicom/S14/PA_MOVIE_0013\n",
      "230712-12:06:55,796 nipype.interface INFO:\n",
      "\t stdout 2023-07-12T12:06:55.796883:Chris Rorden's dcm2niiX version v1.0.20230411  GCC12.2.0 x86-64 (64-bit Linux)\n",
      "230712-12:06:55,797 nipype.interface INFO:\n",
      "\t stdout 2023-07-12T12:06:55.796883:Found 20 DICOM file(s)\n",
      "230712-12:06:55,798 nipype.interface INFO:\n",
      "\t stdout 2023-07-12T12:06:55.796883:Convert 20 DICOM as /mnt/c/Users/since/Desktop/Kdrama_prac/data/sub-14/fmap/sub-14_dir-pa_epi (80x80x48x20)\n",
      "230712-12:06:55,921 nipype.interface INFO:\n",
      "\t stdout 2023-07-12T12:06:55.921283:Compress: \"/usr/bin/pigz\" -b 960 -n -f -5 \"/mnt/c/Users/since/Desktop/Kdrama_prac/data/sub-14/fmap/sub-14_dir-pa_epi.nii\"\n",
      "230712-12:06:55,921 nipype.interface INFO:\n",
      "\t stdout 2023-07-12T12:06:55.921283:Conversion required 0.686567 seconds (0.097676 for core code).\n",
      "/mnt/c/Users/since/Desktop/Kdrama_prac/data/sub-14/fmap/sub-14_dir-pa_epi\n",
      "/mnt/c/Users/since/Desktop/Kdrama_prac/data/\n",
      "sub-15\n",
      "cur_file is /mnt/c/Users/since/Desktop/Kdrama_prac/dicom/S15/ENCODING-1_0007\n",
      "230712-12:07:06,925 nipype.interface INFO:\n",
      "\t stdout 2023-07-12T12:07:06.925489:Chris Rorden's dcm2niiX version v1.0.20230411  GCC12.2.0 x86-64 (64-bit Linux)\n",
      "230712-12:07:06,926 nipype.interface INFO:\n",
      "\t stdout 2023-07-12T12:07:06.925489:Found 477 DICOM file(s)\n",
      "230712-12:07:06,926 nipype.interface INFO:\n",
      "\t stdout 2023-07-12T12:07:06.925489:Convert 477 DICOM as /mnt/c/Users/since/Desktop/Kdrama_prac/data/sub-15/func/sub-15_task-encoding_run-1_bolda (80x80x48x477)\n",
      "230712-12:07:07,774 nipype.interface INFO:\n",
      "\t stdout 2023-07-12T12:07:07.774209:Compress: \"/usr/bin/pigz\" -b 960 -n -f -5 \"/mnt/c/Users/since/Desktop/Kdrama_prac/data/sub-15/func/sub-15_task-encoding_run-1_bolda.nii\"\n",
      "230712-12:07:07,774 nipype.interface INFO:\n",
      "\t stdout 2023-07-12T12:07:07.774209:Conversion required 11.749863 seconds (1.893239 for core code).\n",
      "/mnt/c/Users/since/Desktop/Kdrama_prac/data/sub-15/func/sub-15_task-encoding_run-1_bold\n",
      "cur_file is /mnt/c/Users/since/Desktop/Kdrama_prac/dicom/S15/ENCODING-3_0009\n",
      "230712-12:07:19,3 nipype.interface INFO:\n",
      "\t stdout 2023-07-12T12:07:19.003590:Chris Rorden's dcm2niiX version v1.0.20230411  GCC12.2.0 x86-64 (64-bit Linux)\n",
      "230712-12:07:19,4 nipype.interface INFO:\n",
      "\t stdout 2023-07-12T12:07:19.003590:Found 477 DICOM file(s)\n",
      "230712-12:07:19,4 nipype.interface INFO:\n",
      "\t stdout 2023-07-12T12:07:19.003590:Convert 477 DICOM as /mnt/c/Users/since/Desktop/Kdrama_prac/data/sub-15/func/sub-15_task-encoding_run-2_bolda (80x80x48x477)\n",
      "230712-12:07:19,862 nipype.interface INFO:\n",
      "\t stdout 2023-07-12T12:07:19.862837:Compress: \"/usr/bin/pigz\" -b 960 -n -f -5 \"/mnt/c/Users/since/Desktop/Kdrama_prac/data/sub-15/func/sub-15_task-encoding_run-2_bolda.nii\"\n",
      "230712-12:07:19,863 nipype.interface INFO:\n",
      "\t stdout 2023-07-12T12:07:19.862837:Conversion required 11.998461 seconds (1.922407 for core code).\n",
      "/mnt/c/Users/since/Desktop/Kdrama_prac/data/sub-15/func/sub-15_task-encoding_run-2_bold\n",
      "cur_file is /mnt/c/Users/since/Desktop/Kdrama_prac/dicom/S15/RECALL-1_0008\n",
      "230712-12:07:25,573 nipype.interface INFO:\n",
      "\t stdout 2023-07-12T12:07:25.573742:Chris Rorden's dcm2niiX version v1.0.20230411  GCC12.2.0 x86-64 (64-bit Linux)\n",
      "230712-12:07:25,574 nipype.interface INFO:\n",
      "\t stdout 2023-07-12T12:07:25.573742:Found 247 DICOM file(s)\n",
      "230712-12:07:25,574 nipype.interface INFO:\n",
      "\t stdout 2023-07-12T12:07:25.573742:Convert 247 DICOM as /mnt/c/Users/since/Desktop/Kdrama_prac/data/sub-15/func/sub-15_task-recall_run-1_bolda (80x80x48x247)\n",
      "230712-12:07:26,69 nipype.interface INFO:\n",
      "\t stdout 2023-07-12T12:07:26.069480:Compress: \"/usr/bin/pigz\" -b 960 -n -f -5 \"/mnt/c/Users/since/Desktop/Kdrama_prac/data/sub-15/func/sub-15_task-recall_run-1_bolda.nii\"\n",
      "230712-12:07:26,70 nipype.interface INFO:\n",
      "\t stdout 2023-07-12T12:07:26.069480:Conversion required 6.102359 seconds (0.988675 for core code).\n",
      "/mnt/c/Users/since/Desktop/Kdrama_prac/data/sub-15/func/sub-15_task-recall_run-1_bold\n",
      "cur_file is /mnt/c/Users/since/Desktop/Kdrama_prac/dicom/S15/RECALL-2_0010\n",
      "230712-12:07:34,268 nipype.interface INFO:\n",
      "\t stdout 2023-07-12T12:07:34.268048:Chris Rorden's dcm2niiX version v1.0.20230411  GCC12.2.0 x86-64 (64-bit Linux)\n",
      "230712-12:07:34,268 nipype.interface INFO:\n",
      "\t stdout 2023-07-12T12:07:34.268048:Found 356 DICOM file(s)\n",
      "230712-12:07:34,269 nipype.interface INFO:\n",
      "\t stdout 2023-07-12T12:07:34.268048:Convert 356 DICOM as /mnt/c/Users/since/Desktop/Kdrama_prac/data/sub-15/func/sub-15_task-recall_run-2_bolda (80x80x48x356)\n",
      "230712-12:07:34,952 nipype.interface INFO:\n",
      "\t stdout 2023-07-12T12:07:34.952665:Compress: \"/usr/bin/pigz\" -b 960 -n -f -5 \"/mnt/c/Users/since/Desktop/Kdrama_prac/data/sub-15/func/sub-15_task-recall_run-2_bolda.nii\"\n",
      "230712-12:07:34,953 nipype.interface INFO:\n",
      "\t stdout 2023-07-12T12:07:34.952665:Conversion required 8.789223 seconds (1.422016 for core code).\n",
      "/mnt/c/Users/since/Desktop/Kdrama_prac/data/sub-15/func/sub-15_task-recall_run-2_bold\n",
      "cur_file is /mnt/c/Users/since/Desktop/Kdrama_prac/dicom/S15/T1_MPRAGE_SAG_1_0ISO_0005\n",
      "230712-12:07:39,415 nipype.interface INFO:\n",
      "\t stdout 2023-07-12T12:07:39.415498:Chris Rorden's dcm2niiX version v1.0.20230411  GCC12.2.0 x86-64 (64-bit Linux)\n",
      "230712-12:07:39,416 nipype.interface INFO:\n",
      "\t stdout 2023-07-12T12:07:39.415498:Found 192 DICOM file(s)\n",
      "230712-12:07:39,416 nipype.interface INFO:\n",
      "\t stdout 2023-07-12T12:07:39.415498:Convert 192 DICOM as /mnt/c/Users/since/Desktop/Kdrama_prac/data/sub-15/anat/sub-15_T1wa (256x256x192x1)\n",
      "230712-12:07:39,621 nipype.interface INFO:\n",
      "\t stdout 2023-07-12T12:07:39.621681:Compress: \"/usr/bin/pigz\" -b 960 -n -f -5 \"/mnt/c/Users/since/Desktop/Kdrama_prac/data/sub-15/anat/sub-15_T1wa.nii\"\n",
      "230712-12:07:39,622 nipype.interface INFO:\n",
      "\t stdout 2023-07-12T12:07:39.621681:Conversion required 4.554059 seconds (0.754236 for core code).\n",
      "/mnt/c/Users/since/Desktop/Kdrama_prac/data/sub-15/anat/sub-15_T1w\n",
      "cur_file is /mnt/c/Users/since/Desktop/Kdrama_prac/dicom/S15/GRE_FIELD_MAPPING_3MM_0012\n",
      "230712-12:07:42,651 nipype.interface INFO:\n",
      "\t stdout 2023-07-12T12:07:42.651481:Chris Rorden's dcm2niiX version v1.0.20230411  GCC12.2.0 x86-64 (64-bit Linux)\n",
      "230712-12:07:42,652 nipype.interface INFO:\n",
      "\t stdout 2023-07-12T12:07:42.651481:Found 144 DICOM file(s)\n",
      "230712-12:07:42,652 nipype.interface INFO:\n",
      "\t stdout 2023-07-12T12:07:42.651481:Slices not stacked: echo varies (TE 4.92, 7.38; echo 1, 2). Use 'merge 2D slices' option to force stacking\n",
      "230712-12:07:42,653 nipype.interface INFO:\n",
      "\t stdout 2023-07-12T12:07:42.651481:Convert 72 DICOM as /mnt/c/Users/since/Desktop/Kdrama_prac/data/sub-15/fmap/sub-15_fmap_e1 (110x110x72x1)\n",
      "230712-12:07:43,147 nipype.interface INFO:\n",
      "\t stdout 2023-07-12T12:07:43.147098:Compress: \"/usr/bin/pigz\" -b 960 -n -f -5 \"/mnt/c/Users/since/Desktop/Kdrama_prac/data/sub-15/fmap/sub-15_fmap_e1.nii\"\n",
      "230712-12:07:43,147 nipype.interface INFO:\n",
      "\t stdout 2023-07-12T12:07:43.147098:Convert 72 DICOM as /mnt/c/Users/since/Desktop/Kdrama_prac/data/sub-15/fmap/sub-15_fmap_e2 (110x110x72x1)\n",
      "230712-12:07:43,233 nipype.interface INFO:\n",
      "\t stdout 2023-07-12T12:07:43.233147:Compress: \"/usr/bin/pigz\" -b 960 -n -f -5 \"/mnt/c/Users/since/Desktop/Kdrama_prac/data/sub-15/fmap/sub-15_fmap_e2.nii\"\n",
      "230712-12:07:43,233 nipype.interface INFO:\n",
      "\t stdout 2023-07-12T12:07:43.233147:Conversion required 3.513675 seconds (0.541421 for core code).\n",
      "/mnt/c/Users/since/Desktop/Kdrama_prac/data/sub-15/fmap/sub-15_fmap\n",
      "cur_file is /mnt/c/Users/since/Desktop/Kdrama_prac/dicom/S15/GRE_FIELD_MAPPING_3MM_0013\n",
      "230712-12:07:45,60 nipype.interface INFO:\n",
      "\t stdout 2023-07-12T12:07:45.060513:Chris Rorden's dcm2niiX version v1.0.20230411  GCC12.2.0 x86-64 (64-bit Linux)\n",
      "230712-12:07:45,61 nipype.interface INFO:\n",
      "\t stdout 2023-07-12T12:07:45.060513:Found 72 DICOM file(s)\n",
      "230712-12:07:45,61 nipype.interface INFO:\n",
      "\t stdout 2023-07-12T12:07:45.060513:Convert 72 DICOM as /mnt/c/Users/since/Desktop/Kdrama_prac/data/sub-15/fmap/sub-15_fmap_e2_ph (110x110x72x1)\n",
      "230712-12:07:45,148 nipype.interface INFO:\n",
      "\t stdout 2023-07-12T12:07:45.148396:Compress: \"/usr/bin/pigz\" -b 960 -n -f -5 \"/mnt/c/Users/since/Desktop/Kdrama_prac/data/sub-15/fmap/sub-15_fmap_e2_ph.nii\"\n",
      "230712-12:07:45,149 nipype.interface INFO:\n",
      "\t stdout 2023-07-12T12:07:45.148396:Conversion required 1.789935 seconds (0.276056 for core code).\n",
      "/mnt/c/Users/since/Desktop/Kdrama_prac/data/sub-15/fmap/sub-15_fmap\n",
      "cur_file is /mnt/c/Users/since/Desktop/Kdrama_prac/dicom/S15/PA_MOVIE_0011\n",
      "230712-12:07:45,796 nipype.interface INFO:\n",
      "\t stdout 2023-07-12T12:07:45.796705:Chris Rorden's dcm2niiX version v1.0.20230411  GCC12.2.0 x86-64 (64-bit Linux)\n",
      "230712-12:07:45,797 nipype.interface INFO:\n",
      "\t stdout 2023-07-12T12:07:45.796705:Found 20 DICOM file(s)\n",
      "230712-12:07:45,798 nipype.interface INFO:\n",
      "\t stdout 2023-07-12T12:07:45.796705:Convert 20 DICOM as /mnt/c/Users/since/Desktop/Kdrama_prac/data/sub-15/fmap/sub-15_dir-pa_epia (80x80x48x20)\n",
      "230712-12:07:45,926 nipype.interface INFO:\n",
      "\t stdout 2023-07-12T12:07:45.926759:Compress: \"/usr/bin/pigz\" -b 960 -n -f -5 \"/mnt/c/Users/since/Desktop/Kdrama_prac/data/sub-15/fmap/sub-15_dir-pa_epia.nii\"\n",
      "230712-12:07:45,927 nipype.interface INFO:\n",
      "\t stdout 2023-07-12T12:07:45.926759:Conversion required 0.683608 seconds (0.095006 for core code).\n",
      "/mnt/c/Users/since/Desktop/Kdrama_prac/data/sub-15/fmap/sub-15_dir-pa_epi\n",
      "/mnt/c/Users/since/Desktop/Kdrama_prac/data/\n",
      "sub-16\n",
      "cur_file is /mnt/c/Users/since/Desktop/Kdrama_prac/dicom/S16/ENCODING-1_0008\n",
      "230712-12:07:56,896 nipype.interface INFO:\n",
      "\t stdout 2023-07-12T12:07:56.896150:Chris Rorden's dcm2niiX version v1.0.20230411  GCC12.2.0 x86-64 (64-bit Linux)\n",
      "230712-12:07:56,896 nipype.interface INFO:\n",
      "\t stdout 2023-07-12T12:07:56.896150:Found 477 DICOM file(s)\n",
      "230712-12:07:56,897 nipype.interface INFO:\n",
      "\t stdout 2023-07-12T12:07:56.896150:Convert 477 DICOM as /mnt/c/Users/since/Desktop/Kdrama_prac/data/sub-16/func/sub-16_task-encoding_run-1_bold (80x80x48x477)\n",
      "230712-12:07:57,717 nipype.interface INFO:\n",
      "\t stdout 2023-07-12T12:07:57.717788:Compress: \"/usr/bin/pigz\" -b 960 -n -f -5 \"/mnt/c/Users/since/Desktop/Kdrama_prac/data/sub-16/func/sub-16_task-encoding_run-1_bold.nii\"\n",
      "230712-12:07:57,718 nipype.interface INFO:\n",
      "\t stdout 2023-07-12T12:07:57.717788:Conversion required 11.682839 seconds (1.905130 for core code).\n",
      "/mnt/c/Users/since/Desktop/Kdrama_prac/data/sub-16/func/sub-16_task-encoding_run-1_bold\n",
      "cur_file is /mnt/c/Users/since/Desktop/Kdrama_prac/dicom/S16/ENCODING-3_0010\n",
      "230712-12:08:08,959 nipype.interface INFO:\n",
      "\t stdout 2023-07-12T12:08:08.959639:Chris Rorden's dcm2niiX version v1.0.20230411  GCC12.2.0 x86-64 (64-bit Linux)\n",
      "230712-12:08:08,960 nipype.interface INFO:\n",
      "\t stdout 2023-07-12T12:08:08.959639:Found 477 DICOM file(s)\n",
      "230712-12:08:08,960 nipype.interface INFO:\n",
      "\t stdout 2023-07-12T12:08:08.959639:Convert 477 DICOM as /mnt/c/Users/since/Desktop/Kdrama_prac/data/sub-16/func/sub-16_task-encoding_run-2_bold (80x80x48x477)\n",
      "230712-12:08:09,813 nipype.interface INFO:\n",
      "\t stdout 2023-07-12T12:08:09.813821:Compress: \"/usr/bin/pigz\" -b 960 -n -f -5 \"/mnt/c/Users/since/Desktop/Kdrama_prac/data/sub-16/func/sub-16_task-encoding_run-2_bold.nii\"\n",
      "230712-12:08:09,814 nipype.interface INFO:\n",
      "\t stdout 2023-07-12T12:08:09.813821:Conversion required 12.004414 seconds (1.918771 for core code).\n",
      "/mnt/c/Users/since/Desktop/Kdrama_prac/data/sub-16/func/sub-16_task-encoding_run-2_bold\n",
      "cur_file is /mnt/c/Users/since/Desktop/Kdrama_prac/dicom/S16/RECALL-1_0009\n",
      "230712-12:08:18,177 nipype.interface INFO:\n",
      "\t stdout 2023-07-12T12:08:18.177360:Chris Rorden's dcm2niiX version v1.0.20230411  GCC12.2.0 x86-64 (64-bit Linux)\n",
      "230712-12:08:18,178 nipype.interface INFO:\n",
      "\t stdout 2023-07-12T12:08:18.177360:Found 357 DICOM file(s)\n",
      "230712-12:08:18,178 nipype.interface INFO:\n",
      "\t stdout 2023-07-12T12:08:18.177360:Convert 357 DICOM as /mnt/c/Users/since/Desktop/Kdrama_prac/data/sub-16/func/sub-16_task-recall_run-1_bold (80x80x48x357)\n",
      "230712-12:08:18,856 nipype.interface INFO:\n",
      "\t stdout 2023-07-12T12:08:18.856189:Compress: \"/usr/bin/pigz\" -b 960 -n -f -5 \"/mnt/c/Users/since/Desktop/Kdrama_prac/data/sub-16/func/sub-16_task-recall_run-1_bold.nii\"\n",
      "230712-12:08:18,856 nipype.interface INFO:\n",
      "\t stdout 2023-07-12T12:08:18.856189:Conversion required 8.940858 seconds (1.473297 for core code).\n",
      "/mnt/c/Users/since/Desktop/Kdrama_prac/data/sub-16/func/sub-16_task-recall_run-1_bold\n",
      "cur_file is /mnt/c/Users/since/Desktop/Kdrama_prac/dicom/S16/RECALL-2_0011\n",
      "230712-12:08:30,716 nipype.interface INFO:\n",
      "\t stdout 2023-07-12T12:08:30.716773:Chris Rorden's dcm2niiX version v1.0.20230411  GCC12.2.0 x86-64 (64-bit Linux)\n",
      "230712-12:08:30,717 nipype.interface INFO:\n",
      "\t stdout 2023-07-12T12:08:30.716773:Found 518 DICOM file(s)\n",
      "230712-12:08:30,717 nipype.interface INFO:\n",
      "\t stdout 2023-07-12T12:08:30.716773:Convert 518 DICOM as /mnt/c/Users/since/Desktop/Kdrama_prac/data/sub-16/func/sub-16_task-recall_run-2_bold (80x80x48x518)\n",
      "230712-12:08:31,665 nipype.interface INFO:\n",
      "\t stdout 2023-07-12T12:08:31.665362:Compress: \"/usr/bin/pigz\" -b 960 -n -f -5 \"/mnt/c/Users/since/Desktop/Kdrama_prac/data/sub-16/func/sub-16_task-recall_run-2_bold.nii\"\n",
      "230712-12:08:31,665 nipype.interface INFO:\n",
      "\t stdout 2023-07-12T12:08:31.665362:Conversion required 12.724622 seconds (2.127961 for core code).\n",
      "/mnt/c/Users/since/Desktop/Kdrama_prac/data/sub-16/func/sub-16_task-recall_run-2_bold\n",
      "cur_file is /mnt/c/Users/since/Desktop/Kdrama_prac/dicom/S16/T1_MPRAGE_SAG_1_0ISO_0005\n",
      "230712-12:08:36,118 nipype.interface INFO:\n",
      "\t stdout 2023-07-12T12:08:36.118221:Chris Rorden's dcm2niiX version v1.0.20230411  GCC12.2.0 x86-64 (64-bit Linux)\n",
      "230712-12:08:36,119 nipype.interface INFO:\n",
      "\t stdout 2023-07-12T12:08:36.118221:Found 192 DICOM file(s)\n",
      "230712-12:08:36,119 nipype.interface INFO:\n",
      "\t stdout 2023-07-12T12:08:36.118221:Convert 192 DICOM as /mnt/c/Users/since/Desktop/Kdrama_prac/data/sub-16/anat/sub-16_T1w (256x256x192x1)\n",
      "230712-12:08:36,320 nipype.interface INFO:\n",
      "\t stdout 2023-07-12T12:08:36.320017:Compress: \"/usr/bin/pigz\" -b 960 -n -f -5 \"/mnt/c/Users/since/Desktop/Kdrama_prac/data/sub-16/anat/sub-16_T1w.nii\"\n",
      "230712-12:08:36,320 nipype.interface INFO:\n",
      "\t stdout 2023-07-12T12:08:36.320017:Conversion required 4.549652 seconds (0.753815 for core code).\n",
      "/mnt/c/Users/since/Desktop/Kdrama_prac/data/sub-16/anat/sub-16_T1w\n",
      "cur_file is /mnt/c/Users/since/Desktop/Kdrama_prac/dicom/S16/GRE_FIELD_MAPPING_3MM_0013\n",
      "230712-12:08:39,336 nipype.interface INFO:\n",
      "\t stdout 2023-07-12T12:08:39.336558:Chris Rorden's dcm2niiX version v1.0.20230411  GCC12.2.0 x86-64 (64-bit Linux)\n",
      "230712-12:08:39,337 nipype.interface INFO:\n",
      "\t stdout 2023-07-12T12:08:39.336558:Found 144 DICOM file(s)\n",
      "230712-12:08:39,337 nipype.interface INFO:\n",
      "\t stdout 2023-07-12T12:08:39.336558:Slices not stacked: echo varies (TE 4.92, 7.38; echo 1, 2). Use 'merge 2D slices' option to force stacking\n",
      "230712-12:08:39,338 nipype.interface INFO:\n",
      "\t stdout 2023-07-12T12:08:39.336558:Convert 72 DICOM as /mnt/c/Users/since/Desktop/Kdrama_prac/data/sub-16/fmap/sub-16_fmap_e1 (110x110x72x1)\n",
      "230712-12:08:39,865 nipype.interface INFO:\n",
      "\t stdout 2023-07-12T12:08:39.865852:Compress: \"/usr/bin/pigz\" -b 960 -n -f -5 \"/mnt/c/Users/since/Desktop/Kdrama_prac/data/sub-16/fmap/sub-16_fmap_e1.nii\"\n",
      "230712-12:08:39,866 nipype.interface INFO:\n",
      "\t stdout 2023-07-12T12:08:39.865852:Convert 72 DICOM as /mnt/c/Users/since/Desktop/Kdrama_prac/data/sub-16/fmap/sub-16_fmap_e2 (110x110x72x1)\n",
      "230712-12:08:39,940 nipype.interface INFO:\n",
      "\t stdout 2023-07-12T12:08:39.940662:Compress: \"/usr/bin/pigz\" -b 960 -n -f -5 \"/mnt/c/Users/since/Desktop/Kdrama_prac/data/sub-16/fmap/sub-16_fmap_e2.nii\"\n",
      "230712-12:08:39,941 nipype.interface INFO:\n",
      "\t stdout 2023-07-12T12:08:39.940662:Conversion required 3.519022 seconds (0.597188 for core code).\n",
      "/mnt/c/Users/since/Desktop/Kdrama_prac/data/sub-16/fmap/sub-16_fmap\n",
      "cur_file is /mnt/c/Users/since/Desktop/Kdrama_prac/dicom/S16/GRE_FIELD_MAPPING_3MM_0014\n",
      "230712-12:08:41,872 nipype.interface INFO:\n",
      "\t stdout 2023-07-12T12:08:41.872510:Chris Rorden's dcm2niiX version v1.0.20230411  GCC12.2.0 x86-64 (64-bit Linux)\n",
      "230712-12:08:41,873 nipype.interface INFO:\n",
      "\t stdout 2023-07-12T12:08:41.872510:Found 72 DICOM file(s)\n",
      "230712-12:08:41,873 nipype.interface INFO:\n",
      "\t stdout 2023-07-12T12:08:41.872510:Convert 72 DICOM as /mnt/c/Users/since/Desktop/Kdrama_prac/data/sub-16/fmap/sub-16_fmap_e2_ph (110x110x72x1)\n",
      "230712-12:08:41,960 nipype.interface INFO:\n",
      "\t stdout 2023-07-12T12:08:41.960848:Compress: \"/usr/bin/pigz\" -b 960 -n -f -5 \"/mnt/c/Users/since/Desktop/Kdrama_prac/data/sub-16/fmap/sub-16_fmap_e2_ph.nii\"\n",
      "230712-12:08:41,961 nipype.interface INFO:\n",
      "\t stdout 2023-07-12T12:08:41.960848:Conversion required 1.893856 seconds (0.299756 for core code).\n",
      "/mnt/c/Users/since/Desktop/Kdrama_prac/data/sub-16/fmap/sub-16_fmap\n",
      "cur_file is /mnt/c/Users/since/Desktop/Kdrama_prac/dicom/S16/PA_MOVIE_0012\n",
      "230712-12:08:42,656 nipype.interface INFO:\n",
      "\t stdout 2023-07-12T12:08:42.656437:Chris Rorden's dcm2niiX version v1.0.20230411  GCC12.2.0 x86-64 (64-bit Linux)\n",
      "230712-12:08:42,657 nipype.interface INFO:\n",
      "\t stdout 2023-07-12T12:08:42.656437:Found 20 DICOM file(s)\n",
      "230712-12:08:42,657 nipype.interface INFO:\n",
      "\t stdout 2023-07-12T12:08:42.656437:Convert 20 DICOM as /mnt/c/Users/since/Desktop/Kdrama_prac/data/sub-16/fmap/sub-16_dir-pa_epi (80x80x48x20)\n",
      "230712-12:08:42,782 nipype.interface INFO:\n",
      "\t stdout 2023-07-12T12:08:42.782480:Compress: \"/usr/bin/pigz\" -b 960 -n -f -5 \"/mnt/c/Users/since/Desktop/Kdrama_prac/data/sub-16/fmap/sub-16_dir-pa_epi.nii\"\n",
      "230712-12:08:42,783 nipype.interface INFO:\n",
      "\t stdout 2023-07-12T12:08:42.782480:Conversion required 0.725237 seconds (0.106795 for core code).\n",
      "/mnt/c/Users/since/Desktop/Kdrama_prac/data/sub-16/fmap/sub-16_dir-pa_epi\n",
      "/mnt/c/Users/since/Desktop/Kdrama_prac/data/sub-14\n",
      "/mnt/c/Users/since/Desktop/Kdrama_prac/data/sub-15\n",
      "/mnt/c/Users/since/Desktop/Kdrama_prac/data/sub-16\n"
     ]
    },
    {
     "name": "stderr",
     "output_type": "stream",
     "text": [
      "sub-15_fmap_e1.json not renamed: sub-15_magnitude1.json already exists\n",
      "sub-15_fmap_e1.nii.gz not renamed: sub-15_magnitude1.nii.gz already exists\n",
      "sub-15_fmap_e2_ph.json not renamed: sub-15_phasediff.json already exists\n",
      "sub-15_fmap_e2_ph.nii.gz not renamed: sub-15_phasediff.nii.gz already exists\n",
      "sub-15_fmap_e2.json not renamed: sub-15_magnitude2.json already exists\n",
      "sub-15_fmap_e2.nii.gz not renamed: sub-15_magnitude2.nii.gz already exists\n"
     ]
    },
    {
     "data": {
      "text/plain": [
       "0"
      ]
     },
     "execution_count": 10,
     "metadata": {},
     "output_type": "execute_result"
    }
   ],
   "source": [
    "# Convert Dicom to nifti : sub- 11 & 15 \n",
    "for cur_subj in subjresults.outputs.outfiles:\n",
    "    cur_len = len(cur_subj)\n",
    "    cur_sid = 'sub-' + cur_subj[cur_len-2:cur_len]\n",
    "    res_dir = cur_subj[0:cur_len-9]+'data/'\n",
    "    print(res_dir)\n",
    "    print('%s' %cur_sid)\n",
    "    \n",
    "    #for cur_type in ['*ENCODING*','*RECALL*','T2*','T1*','GRE*','PA*']:\n",
    "    for cur_type in ['ENCODING*', 'RECALL*', 'T1*', 'GRE*', 'PA*']:       \n",
    "        if cur_type == 'T1*' or cur_type == 'T2*':\n",
    "            cur_subdir = '/anat'\n",
    "        elif cur_type == 'GRE*' or cur_type == 'PA*':\n",
    "            cur_subdir = '/fmap'\n",
    "        else: \n",
    "            cur_subdir = '/func'\n",
    "            \n",
    "        #Grab Relevant Data\n",
    "        datasource = nio.DataGrabber()\n",
    "        datasource.inputs.base_directory = cur_subj\n",
    "        datasource.inputs.template = cur_type\n",
    "        datasource.inputs.sort_filelist = True\n",
    "        datasource.inputs.raise_on_empty = False\n",
    "        results = datasource.run()\n",
    "        \n",
    "        idx = 1\n",
    "        if results.outputs.outfiles is not None:\n",
    "            if isinstance(results.outputs.outfiles,str):\n",
    "                results.outputs.outfiles = [results.outputs.outfiles]\n",
    "\n",
    "        for cur_file in results.outputs.outfiles:\n",
    "                print('cur_file is', cur_file)\n",
    "                \n",
    "                # set output file name\n",
    "                if cur_type == 'T1*':\n",
    "                    cur_output_filename = cur_sid + '_T1w'\n",
    "                #elif cur_type == 'T2*':\n",
    "                #    cur_output_filename = cur_sid + '_T2w'\n",
    "                elif cur_type == 'GRE*':\n",
    "                    cur_output_filename = cur_sid + '_fmap'\n",
    "                elif cur_type == 'ENCODING*':\n",
    "                    cur_output_filename = cur_sid + '_task-encoding_run-' + str(idx) + '_bold'\n",
    "                elif cur_type == 'RECALL*':\n",
    "                    cur_output_filename = cur_sid + '_task-recall_run-' + str(idx) + '_bold'\n",
    "                elif cur_type == 'PA*':\n",
    "                    cur_output_filename = cur_sid + '_dir-pa' + '_epi'\n",
    "                              \n",
    "                converter.inputs.source_dir = cur_file\n",
    "                converter.inputs.compression = 5\n",
    "                converter.inputs.bids_format = True\n",
    "                converter.inputs.output_dir = res_dir + cur_sid + cur_subdir \n",
    "                converter.inputs.out_filename = cur_output_filename\n",
    "                converter.run()\n",
    "                idx = idx + 1\n",
    "\n",
    "                print(converter.inputs.output_dir + '/' + converter.inputs.out_filename)"
   ]
  },
  {
   "cell_type": "code",
   "execution_count": 13,
   "id": "09d15ed8-de65-46aa-91d6-307d7fcab46a",
   "metadata": {
    "tags": []
   },
   "outputs": [
    {
     "name": "stdout",
     "output_type": "stream",
     "text": [
      "/mnt/c/Users/since/Desktop/Kdrama_prac/data/sub-14\n",
      "/mnt/c/Users/since/Desktop/Kdrama_prac/data/sub-15\n",
      "/mnt/c/Users/since/Desktop/Kdrama_prac/data/sub-16\n"
     ]
    },
    {
     "name": "stderr",
     "output_type": "stream",
     "text": [
      "sub-15_fmap_e1.json not renamed: sub-15_magnitude1.json already exists\n",
      "sub-15_fmap_e1.nii.gz not renamed: sub-15_magnitude1.nii.gz already exists\n",
      "sub-15_fmap_e2.json not renamed: sub-15_magnitude2.json already exists\n",
      "sub-15_fmap_e2.nii.gz not renamed: sub-15_magnitude2.nii.gz already exists\n"
     ]
    },
    {
     "data": {
      "text/plain": [
       "0"
      ]
     },
     "execution_count": 13,
     "metadata": {},
     "output_type": "execute_result"
    }
   ],
   "source": [
    "                \n",
    "# Change fieldmap name with shell script !                 \n",
    "path = '/mnt/c/Users/since/Desktop/Kdrama_prac/bash_change_fieldmap_name_May.sh' #파일이 존재하는 로컬 경로 설정 \n",
    "sp.call(path, shell=True)"
   ]
  },
  {
   "cell_type": "code",
   "execution_count": 12,
   "id": "abac219e-f9fc-4732-9809-fb5c14a12577",
   "metadata": {
    "tags": []
   },
   "outputs": [
    {
     "data": {
      "text/plain": [
       "'/mnt/c/Users/since/Desktop/Kdrama_prac/dic'"
      ]
     },
     "execution_count": 12,
     "metadata": {},
     "output_type": "execute_result"
    }
   ],
   "source": [
    "cur_subj[0:cur_len-9]"
   ]
  },
  {
   "cell_type": "markdown",
   "id": "43a506f7-91ad-4d3b-8e5c-a3314e28514b",
   "metadata": {
    "tags": []
   },
   "source": [
    "# 2. Run fMRIprep "
   ]
  },
  {
   "cell_type": "raw",
   "id": "5eb1375a-bbce-4142-85a4-54228006fb8c",
   "metadata": {},
   "source": [
    "# Run fMRIPrep \n",
    "1. 여기 부분은 우분투에서 직접 도커를 실행 \n",
    "2. fMRIPrep 스크립트를 진행 \n",
    "\n",
    "prerequest \n",
    "1. Licence for freesufer @ license file \n",
    "2. dataset_description.jason @ DATA file \n",
    "3. Docker and fMRIPrep "
   ]
  },
  {
   "cell_type": "markdown",
   "id": "47d81cfc-371a-4ac2-9fff-6215145bb82d",
   "metadata": {
    "tags": []
   },
   "source": [
    "# 3. (Optional but necessary..) Denoising "
   ]
  },
  {
   "cell_type": "code",
   "execution_count": 2,
   "id": "52146219-38b7-4a26-9825-c0e74eebba0c",
   "metadata": {},
   "outputs": [
    {
     "name": "stderr",
     "output_type": "stream",
     "text": [
      "/home/sincerely/.conda/envs/fmri01/lib/python3.7/site-packages/nilearn/__init__.py:69: FutureWarning: Python 3.7 support is deprecated and will be removed in release 0.12 of Nilearn. Consider switching to Python 3.9 or 3.10.\n",
      "  _python_deprecation_warnings()\n"
     ]
    }
   ],
   "source": [
    "import os\n",
    "import glob\n",
    "import numpy as np\n",
    "import pandas as pd\n",
    "import matplotlib.pyplot as plt\n",
    "import seaborn as sns\n",
    "from nltools.stats import regress, zscore\n",
    "from nltools.data import Brain_Data, Design_Matrix\n",
    "from nltools.stats import find_spikes \n",
    "from nltools.mask import expand_mask\n",
    "\n",
    "base_dir = '/mnt/c/Users/since/Desktop/Kdrama_prac/'\n",
    "data_dir = os.path.join(base_dir, 'data2', 'derivatives')\n",
    "denoised_dir = os.path.join(base_dir, 'analysis', 'denoised')"
   ]
  },
  {
   "cell_type": "code",
   "execution_count": 34,
   "id": "60e4e430-9398-4828-b4df-1c7437de80a2",
   "metadata": {},
   "outputs": [],
   "source": [
    "subjects = ['14','15', '16'] \n",
    "fwhm = 6\n",
    "tr = 1.5\n",
    "outlier_cutoff = 3"
   ]
  },
  {
   "cell_type": "code",
   "execution_count": 35,
   "id": "80e38df7-88d8-4f05-8725-654090bd365e",
   "metadata": {
    "collapsed": true,
    "jupyter": {
     "outputs_hidden": true
    },
    "tags": []
   },
   "outputs": [
    {
     "name": "stdout",
     "output_type": "stream",
     "text": [
      "14\n",
      "4\n"
     ]
    },
    {
     "ename": "KeyboardInterrupt",
     "evalue": "",
     "output_type": "error",
     "traceback": [
      "\u001b[0;31m---------------------------------------------------------------------------\u001b[0m",
      "\u001b[0;31mKeyboardInterrupt\u001b[0m                         Traceback (most recent call last)",
      "\u001b[0;32m/tmp/ipykernel_1078/2977358251.py\u001b[0m in \u001b[0;36m<module>\u001b[0;34m\u001b[0m\n\u001b[1;32m     11\u001b[0m         \u001b[0;31m#     os.makedirs(result_dir)\u001b[0m\u001b[0;34m\u001b[0m\u001b[0;34m\u001b[0m\u001b[0;34m\u001b[0m\u001b[0m\n\u001b[1;32m     12\u001b[0m         \u001b[0mcsf\u001b[0m \u001b[0;34m=\u001b[0m \u001b[0mBrain_Data\u001b[0m\u001b[0;34m(\u001b[0m\u001b[0mglob\u001b[0m\u001b[0;34m.\u001b[0m\u001b[0mglob\u001b[0m\u001b[0;34m(\u001b[0m\u001b[0mos\u001b[0m\u001b[0;34m.\u001b[0m\u001b[0mpath\u001b[0m\u001b[0;34m.\u001b[0m\u001b[0mjoin\u001b[0m\u001b[0;34m(\u001b[0m\u001b[0mdata_dir\u001b[0m\u001b[0;34m,\u001b[0m \u001b[0;34mf'{sub}'\u001b[0m\u001b[0;34m,\u001b[0m \u001b[0;34m'anat'\u001b[0m\u001b[0;34m,\u001b[0m \u001b[0;34m'*CSF*.nii.gz'\u001b[0m\u001b[0;34m)\u001b[0m\u001b[0;34m)\u001b[0m\u001b[0;34m[\u001b[0m\u001b[0;36m1\u001b[0m\u001b[0;34m]\u001b[0m\u001b[0;34m)\u001b[0m\u001b[0;34m\u001b[0m\u001b[0;34m\u001b[0m\u001b[0m\n\u001b[0;32m---> 13\u001b[0;31m         \u001b[0mdata\u001b[0m \u001b[0;34m=\u001b[0m \u001b[0mBrain_Data\u001b[0m\u001b[0;34m(\u001b[0m\u001b[0mf\u001b[0m\u001b[0;34m)\u001b[0m \u001b[0;31m#denoise\u001b[0m\u001b[0;34m\u001b[0m\u001b[0;34m\u001b[0m\u001b[0m\n\u001b[0m\u001b[1;32m     14\u001b[0m         \u001b[0msmoothed\u001b[0m \u001b[0;34m=\u001b[0m \u001b[0mdata\u001b[0m\u001b[0;34m.\u001b[0m\u001b[0msmooth\u001b[0m\u001b[0;34m(\u001b[0m\u001b[0mfwhm\u001b[0m\u001b[0;34m=\u001b[0m\u001b[0mfwhm\u001b[0m\u001b[0;34m)\u001b[0m   \u001b[0;31m# Spatial smoothing\u001b[0m\u001b[0;34m\u001b[0m\u001b[0;34m\u001b[0m\u001b[0m\n\u001b[1;32m     15\u001b[0m \u001b[0;34m\u001b[0m\u001b[0m\n",
      "\u001b[0;32m~/.conda/envs/fmri01/lib/python3.7/site-packages/nltools/data/brain_data.py\u001b[0m in \u001b[0;36m__init__\u001b[0;34m(self, data, Y, X, mask, **kwargs)\u001b[0m\n\u001b[1;32m    177\u001b[0m                 \u001b[0;32melse\u001b[0m\u001b[0;34m:\u001b[0m\u001b[0;34m\u001b[0m\u001b[0;34m\u001b[0m\u001b[0m\n\u001b[1;32m    178\u001b[0m                     \u001b[0mdata\u001b[0m \u001b[0;34m=\u001b[0m \u001b[0mnib\u001b[0m\u001b[0;34m.\u001b[0m\u001b[0mload\u001b[0m\u001b[0;34m(\u001b[0m\u001b[0mdata\u001b[0m\u001b[0;34m)\u001b[0m\u001b[0;34m\u001b[0m\u001b[0;34m\u001b[0m\u001b[0m\n\u001b[0;32m--> 179\u001b[0;31m                 \u001b[0mself\u001b[0m\u001b[0;34m.\u001b[0m\u001b[0mdata\u001b[0m \u001b[0;34m=\u001b[0m \u001b[0mself\u001b[0m\u001b[0;34m.\u001b[0m\u001b[0mnifti_masker\u001b[0m\u001b[0;34m.\u001b[0m\u001b[0mfit_transform\u001b[0m\u001b[0;34m(\u001b[0m\u001b[0mdata\u001b[0m\u001b[0;34m)\u001b[0m\u001b[0;34m\u001b[0m\u001b[0;34m\u001b[0m\u001b[0m\n\u001b[0m\u001b[1;32m    180\u001b[0m             \u001b[0;32melif\u001b[0m \u001b[0misinstance\u001b[0m\u001b[0;34m(\u001b[0m\u001b[0mdata\u001b[0m\u001b[0;34m,\u001b[0m \u001b[0mlist\u001b[0m\u001b[0;34m)\u001b[0m\u001b[0;34m:\u001b[0m\u001b[0;34m\u001b[0m\u001b[0;34m\u001b[0m\u001b[0m\n\u001b[1;32m    181\u001b[0m                 \u001b[0;32mif\u001b[0m \u001b[0misinstance\u001b[0m\u001b[0;34m(\u001b[0m\u001b[0mdata\u001b[0m\u001b[0;34m[\u001b[0m\u001b[0;36m0\u001b[0m\u001b[0;34m]\u001b[0m\u001b[0;34m,\u001b[0m \u001b[0mBrain_Data\u001b[0m\u001b[0;34m)\u001b[0m\u001b[0;34m:\u001b[0m\u001b[0;34m\u001b[0m\u001b[0;34m\u001b[0m\u001b[0m\n",
      "\u001b[0;32m~/.conda/envs/fmri01/lib/python3.7/site-packages/nilearn/maskers/base_masker.py\u001b[0m in \u001b[0;36mfit_transform\u001b[0;34m(self, X, y, confounds, sample_mask, **fit_params)\u001b[0m\n\u001b[1;32m    289\u001b[0m                 return self.fit(**fit_params).transform(X,\n\u001b[1;32m    290\u001b[0m                                                         \u001b[0mconfounds\u001b[0m\u001b[0;34m=\u001b[0m\u001b[0mconfounds\u001b[0m\u001b[0;34m,\u001b[0m\u001b[0;34m\u001b[0m\u001b[0;34m\u001b[0m\u001b[0m\n\u001b[0;32m--> 291\u001b[0;31m                                                         \u001b[0msample_mask\u001b[0m\u001b[0;34m=\u001b[0m\u001b[0msample_mask\u001b[0m\u001b[0;34m\u001b[0m\u001b[0;34m\u001b[0m\u001b[0m\n\u001b[0m\u001b[1;32m    292\u001b[0m                                                         )\n\u001b[1;32m    293\u001b[0m         \u001b[0;32melse\u001b[0m\u001b[0;34m:\u001b[0m\u001b[0;34m\u001b[0m\u001b[0;34m\u001b[0m\u001b[0m\n",
      "\u001b[0;32m~/.conda/envs/fmri01/lib/python3.7/site-packages/nilearn/maskers/base_masker.py\u001b[0m in \u001b[0;36mtransform\u001b[0;34m(self, imgs, confounds, sample_mask)\u001b[0m\n\u001b[1;32m    233\u001b[0m             return self.transform_single_imgs(imgs,\n\u001b[1;32m    234\u001b[0m                                               \u001b[0mconfounds\u001b[0m\u001b[0;34m=\u001b[0m\u001b[0mconfounds\u001b[0m\u001b[0;34m,\u001b[0m\u001b[0;34m\u001b[0m\u001b[0;34m\u001b[0m\u001b[0m\n\u001b[0;32m--> 235\u001b[0;31m                                               sample_mask=sample_mask)\n\u001b[0m\u001b[1;32m    236\u001b[0m \u001b[0;34m\u001b[0m\u001b[0m\n\u001b[1;32m    237\u001b[0m         \u001b[0;31m# Compute high variance confounds if requested\u001b[0m\u001b[0;34m\u001b[0m\u001b[0;34m\u001b[0m\u001b[0;34m\u001b[0m\u001b[0m\n",
      "\u001b[0;32m~/.conda/envs/fmri01/lib/python3.7/site-packages/nilearn/maskers/nifti_masker.py\u001b[0m in \u001b[0;36mtransform_single_imgs\u001b[0;34m(self, imgs, confounds, sample_mask, copy)\u001b[0m\n\u001b[1;32m    587\u001b[0m             \u001b[0msample_mask\u001b[0m\u001b[0;34m=\u001b[0m\u001b[0msample_mask\u001b[0m\u001b[0;34m,\u001b[0m\u001b[0;34m\u001b[0m\u001b[0;34m\u001b[0m\u001b[0m\n\u001b[1;32m    588\u001b[0m             \u001b[0mcopy\u001b[0m\u001b[0;34m=\u001b[0m\u001b[0mcopy\u001b[0m\u001b[0;34m,\u001b[0m\u001b[0;34m\u001b[0m\u001b[0;34m\u001b[0m\u001b[0m\n\u001b[0;32m--> 589\u001b[0;31m             \u001b[0mdtype\u001b[0m\u001b[0;34m=\u001b[0m\u001b[0mself\u001b[0m\u001b[0;34m.\u001b[0m\u001b[0mdtype\u001b[0m\u001b[0;34m,\u001b[0m\u001b[0;34m\u001b[0m\u001b[0;34m\u001b[0m\u001b[0m\n\u001b[0m\u001b[1;32m    590\u001b[0m         )\n\u001b[1;32m    591\u001b[0m \u001b[0;34m\u001b[0m\u001b[0m\n",
      "\u001b[0;32m~/.conda/envs/fmri01/lib/python3.7/site-packages/joblib/memory.py\u001b[0m in \u001b[0;36m__call__\u001b[0;34m(self, *args, **kwargs)\u001b[0m\n\u001b[1;32m    347\u001b[0m \u001b[0;34m\u001b[0m\u001b[0m\n\u001b[1;32m    348\u001b[0m     \u001b[0;32mdef\u001b[0m \u001b[0m__call__\u001b[0m\u001b[0;34m(\u001b[0m\u001b[0mself\u001b[0m\u001b[0;34m,\u001b[0m \u001b[0;34m*\u001b[0m\u001b[0margs\u001b[0m\u001b[0;34m,\u001b[0m \u001b[0;34m**\u001b[0m\u001b[0mkwargs\u001b[0m\u001b[0;34m)\u001b[0m\u001b[0;34m:\u001b[0m\u001b[0;34m\u001b[0m\u001b[0;34m\u001b[0m\u001b[0m\n\u001b[0;32m--> 349\u001b[0;31m         \u001b[0;32mreturn\u001b[0m \u001b[0mself\u001b[0m\u001b[0;34m.\u001b[0m\u001b[0mfunc\u001b[0m\u001b[0;34m(\u001b[0m\u001b[0;34m*\u001b[0m\u001b[0margs\u001b[0m\u001b[0;34m,\u001b[0m \u001b[0;34m**\u001b[0m\u001b[0mkwargs\u001b[0m\u001b[0;34m)\u001b[0m\u001b[0;34m\u001b[0m\u001b[0;34m\u001b[0m\u001b[0m\n\u001b[0m\u001b[1;32m    350\u001b[0m \u001b[0;34m\u001b[0m\u001b[0m\n\u001b[1;32m    351\u001b[0m     \u001b[0;32mdef\u001b[0m \u001b[0mcall_and_shelve\u001b[0m\u001b[0;34m(\u001b[0m\u001b[0mself\u001b[0m\u001b[0;34m,\u001b[0m \u001b[0;34m*\u001b[0m\u001b[0margs\u001b[0m\u001b[0;34m,\u001b[0m \u001b[0;34m**\u001b[0m\u001b[0mkwargs\u001b[0m\u001b[0;34m)\u001b[0m\u001b[0;34m:\u001b[0m\u001b[0;34m\u001b[0m\u001b[0;34m\u001b[0m\u001b[0m\n",
      "\u001b[0;32m~/.conda/envs/fmri01/lib/python3.7/site-packages/nilearn/maskers/nifti_masker.py\u001b[0m in \u001b[0;36m_filter_and_mask\u001b[0;34m(imgs, mask_img_, parameters, memory_level, memory, verbose, confounds, sample_mask, copy, dtype)\u001b[0m\n\u001b[1;32m    116\u001b[0m         \u001b[0msample_mask\u001b[0m\u001b[0;34m=\u001b[0m\u001b[0msample_mask\u001b[0m\u001b[0;34m,\u001b[0m\u001b[0;34m\u001b[0m\u001b[0;34m\u001b[0m\u001b[0m\n\u001b[1;32m    117\u001b[0m         \u001b[0mcopy\u001b[0m\u001b[0;34m=\u001b[0m\u001b[0mcopy\u001b[0m\u001b[0;34m,\u001b[0m\u001b[0;34m\u001b[0m\u001b[0;34m\u001b[0m\u001b[0m\n\u001b[0;32m--> 118\u001b[0;31m         \u001b[0mdtype\u001b[0m\u001b[0;34m=\u001b[0m\u001b[0mdtype\u001b[0m\u001b[0;34m\u001b[0m\u001b[0;34m\u001b[0m\u001b[0m\n\u001b[0m\u001b[1;32m    119\u001b[0m     )\n\u001b[1;32m    120\u001b[0m     \u001b[0;31m# For _later_: missing value removal or imputing of missing data\u001b[0m\u001b[0;34m\u001b[0m\u001b[0;34m\u001b[0m\u001b[0;34m\u001b[0m\u001b[0m\n",
      "\u001b[0;32m~/.conda/envs/fmri01/lib/python3.7/site-packages/nilearn/maskers/base_masker.py\u001b[0m in \u001b[0;36m_filter_and_extract\u001b[0;34m(imgs, extraction_function, parameters, memory_level, memory, verbose, confounds, sample_mask, copy, dtype)\u001b[0m\n\u001b[1;32m     97\u001b[0m                 \u001b[0mtarget_shape\u001b[0m\u001b[0;34m=\u001b[0m\u001b[0mtarget_shape\u001b[0m\u001b[0;34m,\u001b[0m\u001b[0;34m\u001b[0m\u001b[0;34m\u001b[0m\u001b[0m\n\u001b[1;32m     98\u001b[0m                 \u001b[0mtarget_affine\u001b[0m\u001b[0;34m=\u001b[0m\u001b[0mtarget_affine\u001b[0m\u001b[0;34m,\u001b[0m\u001b[0;34m\u001b[0m\u001b[0;34m\u001b[0m\u001b[0m\n\u001b[0;32m---> 99\u001b[0;31m                 copy=copy)\n\u001b[0m\u001b[1;32m    100\u001b[0m \u001b[0;34m\u001b[0m\u001b[0m\n\u001b[1;32m    101\u001b[0m     \u001b[0msmoothing_fwhm\u001b[0m \u001b[0;34m=\u001b[0m \u001b[0mparameters\u001b[0m\u001b[0;34m.\u001b[0m\u001b[0mget\u001b[0m\u001b[0;34m(\u001b[0m\u001b[0;34m'smoothing_fwhm'\u001b[0m\u001b[0;34m)\u001b[0m\u001b[0;34m\u001b[0m\u001b[0;34m\u001b[0m\u001b[0m\n",
      "\u001b[0;32m~/.conda/envs/fmri01/lib/python3.7/site-packages/joblib/memory.py\u001b[0m in \u001b[0;36m__call__\u001b[0;34m(self, *args, **kwargs)\u001b[0m\n\u001b[1;32m    347\u001b[0m \u001b[0;34m\u001b[0m\u001b[0m\n\u001b[1;32m    348\u001b[0m     \u001b[0;32mdef\u001b[0m \u001b[0m__call__\u001b[0m\u001b[0;34m(\u001b[0m\u001b[0mself\u001b[0m\u001b[0;34m,\u001b[0m \u001b[0;34m*\u001b[0m\u001b[0margs\u001b[0m\u001b[0;34m,\u001b[0m \u001b[0;34m**\u001b[0m\u001b[0mkwargs\u001b[0m\u001b[0;34m)\u001b[0m\u001b[0;34m:\u001b[0m\u001b[0;34m\u001b[0m\u001b[0;34m\u001b[0m\u001b[0m\n\u001b[0;32m--> 349\u001b[0;31m         \u001b[0;32mreturn\u001b[0m \u001b[0mself\u001b[0m\u001b[0;34m.\u001b[0m\u001b[0mfunc\u001b[0m\u001b[0;34m(\u001b[0m\u001b[0;34m*\u001b[0m\u001b[0margs\u001b[0m\u001b[0;34m,\u001b[0m \u001b[0;34m**\u001b[0m\u001b[0mkwargs\u001b[0m\u001b[0;34m)\u001b[0m\u001b[0;34m\u001b[0m\u001b[0;34m\u001b[0m\u001b[0m\n\u001b[0m\u001b[1;32m    350\u001b[0m \u001b[0;34m\u001b[0m\u001b[0m\n\u001b[1;32m    351\u001b[0m     \u001b[0;32mdef\u001b[0m \u001b[0mcall_and_shelve\u001b[0m\u001b[0;34m(\u001b[0m\u001b[0mself\u001b[0m\u001b[0;34m,\u001b[0m \u001b[0;34m*\u001b[0m\u001b[0margs\u001b[0m\u001b[0;34m,\u001b[0m \u001b[0;34m**\u001b[0m\u001b[0mkwargs\u001b[0m\u001b[0;34m)\u001b[0m\u001b[0;34m:\u001b[0m\u001b[0;34m\u001b[0m\u001b[0;34m\u001b[0m\u001b[0m\n",
      "\u001b[0;32m~/.conda/envs/fmri01/lib/python3.7/site-packages/nilearn/image/resampling.py\u001b[0m in \u001b[0;36mresample_img\u001b[0;34m(img, target_affine, target_shape, interpolation, copy, order, clip, fill_value, force_resample)\u001b[0m\n\u001b[1;32m    614\u001b[0m                               \u001b[0mout\u001b[0m\u001b[0;34m=\u001b[0m\u001b[0mresampled_data\u001b[0m\u001b[0;34m[\u001b[0m\u001b[0mall_img\u001b[0m \u001b[0;34m+\u001b[0m \u001b[0mind\u001b[0m\u001b[0;34m]\u001b[0m\u001b[0;34m,\u001b[0m\u001b[0;34m\u001b[0m\u001b[0;34m\u001b[0m\u001b[0m\n\u001b[1;32m    615\u001b[0m                               \u001b[0mcopy\u001b[0m\u001b[0;34m=\u001b[0m\u001b[0;32mnot\u001b[0m \u001b[0minput_img_is_string\u001b[0m\u001b[0;34m,\u001b[0m\u001b[0;34m\u001b[0m\u001b[0;34m\u001b[0m\u001b[0m\n\u001b[0;32m--> 616\u001b[0;31m                               fill_value=fill_value)\n\u001b[0m\u001b[1;32m    617\u001b[0m \u001b[0;34m\u001b[0m\u001b[0m\n\u001b[1;32m    618\u001b[0m     \u001b[0;32mif\u001b[0m \u001b[0mclip\u001b[0m\u001b[0;34m:\u001b[0m\u001b[0;34m\u001b[0m\u001b[0;34m\u001b[0m\u001b[0m\n",
      "\u001b[0;32m~/.conda/envs/fmri01/lib/python3.7/site-packages/nilearn/image/resampling.py\u001b[0m in \u001b[0;36m_resample_one_img\u001b[0;34m(data, A, b, target_shape, interpolation_order, out, copy, fill_value)\u001b[0m\n\u001b[1;32m    288\u001b[0m             \u001b[0moutput\u001b[0m\u001b[0;34m=\u001b[0m\u001b[0mout\u001b[0m\u001b[0;34m,\u001b[0m\u001b[0;34m\u001b[0m\u001b[0;34m\u001b[0m\u001b[0m\n\u001b[1;32m    289\u001b[0m             \u001b[0mcval\u001b[0m\u001b[0;34m=\u001b[0m\u001b[0mfill_value\u001b[0m\u001b[0;34m,\u001b[0m\u001b[0;34m\u001b[0m\u001b[0;34m\u001b[0m\u001b[0m\n\u001b[0;32m--> 290\u001b[0;31m             \u001b[0morder\u001b[0m\u001b[0;34m=\u001b[0m\u001b[0minterpolation_order\u001b[0m\u001b[0;34m,\u001b[0m\u001b[0;34m\u001b[0m\u001b[0;34m\u001b[0m\u001b[0m\n\u001b[0m\u001b[1;32m    291\u001b[0m         )\n\u001b[1;32m    292\u001b[0m \u001b[0;34m\u001b[0m\u001b[0m\n",
      "\u001b[0;32m~/.conda/envs/fmri01/lib/python3.7/site-packages/scipy/ndimage/interpolation.py\u001b[0m in \u001b[0;36maffine_transform\u001b[0;34m(input, matrix, offset, output_shape, output, order, mode, cval, prefilter)\u001b[0m\n\u001b[1;32m    607\u001b[0m         )\n\u001b[1;32m    608\u001b[0m         _nd_image.zoom_shift(filtered, matrix, offset/matrix, output, order,\n\u001b[0;32m--> 609\u001b[0;31m                              mode, cval, npad, False)\n\u001b[0m\u001b[1;32m    610\u001b[0m     \u001b[0;32melse\u001b[0m\u001b[0;34m:\u001b[0m\u001b[0;34m\u001b[0m\u001b[0;34m\u001b[0m\u001b[0m\n\u001b[1;32m    611\u001b[0m         _nd_image.geometric_transform(filtered, None, None, matrix, offset,\n",
      "\u001b[0;31mKeyboardInterrupt\u001b[0m: "
     ]
    }
   ],
   "source": [
    "for s in subjects:\n",
    "    print(s)\n",
    "    file_list = glob.glob(os.path.join(data_dir, f'sub-{s}', 'func', '*preproc*.nii.gz'))\n",
    "    print(len(file_list))\n",
    "    for f in file_list:\n",
    "        sub = os.path.basename(f).split('_')[0]\n",
    "        task = os.path.basename(f).split('_')[1]\n",
    "        run = os.path.basename(f).split('_')[2]\n",
    "           \n",
    "        # if not os.path.exists(result_dir):\n",
    "        #     os.makedirs(result_dir)\n",
    "        csf = Brain_Data(glob.glob(os.path.join(data_dir, f'{sub}', 'anat', '*CSF*.nii.gz'))[1])\n",
    "        data = Brain_Data(f) #denoise \n",
    "        smoothed = data.smooth(fwhm=fwhm)   # Spatial smoothing \n",
    "        \n",
    "        spikes = smoothed.find_spikes(global_spike_cutoff=outlier_cutoff, diff_spike_cutoff=outlier_cutoff) #FD가 2std 초과하는 것들만 Outlier로 만들었다. \n",
    "        covariates = pd.read_csv(glob.glob(os.path.join(data_dir, sub, 'func', f'{sub}_{task}_{run}_desc-confounds_timeseries.tsv'))[0], sep='\\t') #Motion params !! \n",
    "        \n",
    "        mc = covariates[['trans_x','trans_y','trans_z','rot_x', 'rot_y', 'rot_z']]\n",
    "        mc_cov = make_motion_covariates(mc, tr)\n",
    "        motionOutliers = covariates.filter(regex='motion_outlier')\n",
    "        \n",
    "        csf = zscore(pd.Series(smoothed.extract_roi(csf.threshold(upper=0.85, binarize=True)))) # Use CSF from fmriprep output\n",
    "        \n",
    "        dm = Design_Matrix(pd.concat([csf, mc_cov, motionOutliers, spikes.drop(labels='TR', axis=1)], axis=1), sampling_freq=1/tr)\n",
    "        dm = dm.add_poly(order=2, include_lower=True) # Add Intercept, Linear and Quadratic Trends\n",
    "\n",
    "        smoothed.X = dm \n",
    "        stats = smoothed.regress()\n",
    "        stats['residual'].data = np.float32(stats['residual'].data) # cast as float32 to reduce storage space\n",
    "        stats['residual'].write(os.path.join(denoised_dir, f'{sub}_denoise_{task}_{run}_space-MNI152NLin6Asym_desc-preproc_bold.nii.gz'))\n",
    "        print( f'finisih_{sub}_{task}_{run}_data')"
   ]
  },
  {
   "cell_type": "code",
   "execution_count": null,
   "id": "7f9269d9-2ce4-4f11-9194-8a4d9b942c59",
   "metadata": {},
   "outputs": [],
   "source": [
    "# Make hdf5 for efficient calculation \n",
    "file_list = glob.glob(os.path.join(denoised_dir, '*.nii.gz'))\n",
    "#print(file_list)\n",
    "for f in file_list:\n",
    "    data = Brain_Data(f)\n",
    "    data.write(f\"{f.split('.nii.gz')[0]}.hdf5\")\n",
    "    print('finish'+f\"{f.split('.nii.gz')[0]}.hdf5\")"
   ]
  },
  {
   "cell_type": "code",
   "execution_count": null,
   "id": "77eae9ce-6837-4949-aae3-7358256fb912",
   "metadata": {},
   "outputs": [],
   "source": [
    "# Average for each ROI \n",
    "mask = Brain_Data('http://neurovault.org/media/images/2099/Neurosynth%20Parcellation_0.nii.gz') #3iso 짜리, Dartbrain에서 사용한 ROI인데 cortex 쪽에만 존재한다. \n",
    "#mask = Brain_Data(mask_path)\n",
    "mask_x = expand_mask(mask)\n",
    "\n",
    "file_list = glob.glob(os.path.join(denoised_dir, f'*.hdf5'))\n",
    "for f in file_list:\n",
    "    sub = os.path.basename(f).split('_')[0]\n",
    "    task = os.path.basename(f).split('_')[2]\n",
    "    run = os.path.basename(f).split('_')[3]    \n",
    "    data = Brain_Data(f)\n",
    "    # for i,m in enumerate(mask_x):  #for masking each ROI\n",
    "    #     roi = data.apply_mask(m)\n",
    "    #     pd.DataFrame(roi.data).to_csv(os.path.join(denoised_dir, 'ROIs', f'{sub}_{task}_{run}_denoised_roi{i}.csv' ), index=False)\n",
    "    avg_roi = data.extract_roi(mask)\n",
    "    pd.DataFrame(avg_roi.T).to_csv(os.path.join(denoised_dir, 'Averaged_ROI', f'{sub}_{task}_{run}_Average_ROI_n50.csv'), index=False)\n",
    "    print(f'finish_{sub}_{task}_{run}') "
   ]
  }
 ],
 "metadata": {
  "kernelspec": {
   "display_name": "Python 3 (ipykernel)",
   "language": "python",
   "name": "python3"
  },
  "language_info": {
   "codemirror_mode": {
    "name": "ipython",
    "version": 3
   },
   "file_extension": ".py",
   "mimetype": "text/x-python",
   "name": "python",
   "nbconvert_exporter": "python",
   "pygments_lexer": "ipython3",
   "version": "3.7.12"
  }
 },
 "nbformat": 4,
 "nbformat_minor": 5
}
