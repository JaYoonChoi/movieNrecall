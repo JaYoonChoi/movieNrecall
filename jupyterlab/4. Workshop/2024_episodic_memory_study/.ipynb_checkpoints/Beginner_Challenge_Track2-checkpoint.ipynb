{
 "cells": [
  {
   "cell_type": "markdown",
   "metadata": {
    "id": "JeSsI00qkHrY"
   },
   "source": [
    "## **Step 0.** Setting the hyperparameters and loading the dataset"
   ]
  },
  {
   "cell_type": "code",
   "execution_count": 1,
   "metadata": {
    "id": "05CALHeB6-GA"
   },
   "outputs": [],
   "source": [
    "number_of_participants = 31\n",
    "number_of_trials = 528"
   ]
  },
  {
   "cell_type": "code",
   "execution_count": 17,
   "metadata": {
    "id": "Qzief8oCrpHr"
   },
   "outputs": [],
   "source": [
    "import numpy as np\n",
    "import pandas as pd\n",
    "import zipfile\n",
    "import re\n",
    "import matplotlib.pyplot as plt\n",
    "import os"
   ]
  },
  {
   "cell_type": "code",
   "execution_count": 27,
   "metadata": {
    "colab": {
     "base_uri": "https://localhost:8080/"
    },
    "id": "2tQ-MFeY6xLY",
    "outputId": "966a3a42-6234-41eb-8bd0-efc82c0c9d9d"
   },
   "outputs": [
    {
     "name": "stdout",
     "output_type": "stream",
     "text": [
      "--2024-01-23 15:01:22--  https://drive.google.com/uc?id=1gllnV61ff2GMIXyDNSusbbm0sR4Ubcu0\n",
      "Resolving drive.google.com (drive.google.com)... 142.250.206.206, 2404:6800:400a:813::200e\n",
      "Connecting to drive.google.com (drive.google.com)|142.250.206.206|:443... connected.\n",
      "HTTP request sent, awaiting response... 303 See Other\n",
      "Location: https://drive.usercontent.google.com/download?id=1gllnV61ff2GMIXyDNSusbbm0sR4Ubcu0 [following]\n",
      "--2024-01-23 15:01:22--  https://drive.usercontent.google.com/download?id=1gllnV61ff2GMIXyDNSusbbm0sR4Ubcu0\n",
      "Resolving drive.usercontent.google.com (drive.usercontent.google.com)... 142.250.207.97, 2404:6800:400a:805::2001\n",
      "Connecting to drive.usercontent.google.com (drive.usercontent.google.com)|142.250.207.97|:443... connected.\n",
      "HTTP request sent, awaiting response... 200 OK\n",
      "Length: 9067724 (8.6M) [application/octet-stream]\n",
      "Saving to: ‘/home/sincerely/jupyterlab/4. Workshop/data.zip’\n",
      "\n",
      "/home/sincerely/jup 100%[===================>]   8.65M  7.01MB/s    in 1.2s    \n",
      "\n",
      "2024-01-23 15:01:27 (7.01 MB/s) - ‘/home/sincerely/jupyterlab/4. Workshop/data.zip’ saved [9067724/9067724]\n",
      "\n"
     ]
    }
   ],
   "source": [
    "#!apt-get install wget\n",
    "#!wget --no-check-certificate 'https://drive.google.com/uc?id=1gllnV61ff2GMIXyDNSusbbm0sR4Ubcu0' -O '/content/data.zip'\n",
    "!wget --no-check-certificate 'https://drive.google.com/uc?id=1gllnV61ff2GMIXyDNSusbbm0sR4Ubcu0' -O '/home/sincerely/jupyterlab/4. Workshop/data.zip'"
   ]
  },
  {
   "cell_type": "code",
   "execution_count": 28,
   "metadata": {
    "id": "HkqojE4C7V9I"
   },
   "outputs": [],
   "source": [
    "#zip_file_path = '/content/data.zip'\n",
    "#extracted_folder_path = '/content/data/'\n",
    "\n",
    "current_directory = os.getcwd()\n",
    "zip_file_path = os.path.join(current_directory, 'data.zip')\n",
    "extracted_folder_path = os.path.join(current_directory, 'data')\n",
    "\n",
    "\n",
    "with zipfile.ZipFile(zip_file_path, 'r') as zip_ref:\n",
    "    zip_ref.extractall(extracted_folder_path)\n"
   ]
  },
  {
   "cell_type": "code",
   "execution_count": 29,
   "metadata": {
    "id": "R3iqQN68ZstX"
   },
   "outputs": [],
   "source": [
    "def check_and_fix_headings(file_path):\n",
    "    \"\"\"\n",
    "    This function reads a file from the given path and aligns its headers.\n",
    "    It replaces multiple spaces with a single tab in each line.\n",
    "    \"\"\"\n",
    "    with open(file_path, 'r') as file:\n",
    "        lines = [file.readline().strip() for _ in range(number_of_participants+1)]\n",
    "    num_columns = None\n",
    "    for i, line in enumerate(lines):\n",
    "        corrected_line = re.sub(r'\\s+', '\\t', line)\n",
    "        lines[i] = corrected_line\n",
    "    with open(file_path, 'w') as file:\n",
    "          for line in lines:\n",
    "                file.write(line + '\\n')\n",
    "    # print('Heading format is consistent.')"
   ]
  },
  {
   "cell_type": "code",
   "execution_count": 34,
   "metadata": {
    "id": "c7_3rlrxsg-U"
   },
   "outputs": [],
   "source": [
    "def load_df(sub):\n",
    "    \"\"\"\n",
    "    Load test and study data with pandas dataframes.\n",
    "    Input : Subject number (int)\n",
    "    Output: Data_for_the_test_session, Data_for_the_study_session\n",
    "    \"\"\"\n",
    "    sub = f\"{sub:02d}\"\n",
    "\n",
    "    test_file = os.path.join(extracted_folder_path, f'DM{sub}', f'DM{sub}_test.txt')\n",
    "    study_file = os.path.join(extracted_folder_path, f'DM{sub}', f'DM{sub}_study.txt')\n",
    "\n",
    "    check_and_fix_headings(test_file) #align the header\n",
    "\n",
    "    cols_test = ['Trial', 'Object_ID', 'Task_Type', 'Stim_onset1', 'RT1', 'Res1', 'Stim_onset2', 'RT2', 'Res2']\n",
    "    cols_study = ['Trial',\t'ObjID',\t'LocID',\t'FB',\t'Task',\t'RT',\t'Stim']\n",
    "\n",
    "    test_df = pd.read_csv(test_file, delimiter='\\t', header=0, names=cols_test, usecols=range(len(cols_test)))\n",
    "    study_df = pd.read_csv(study_file, sep='\\t', header=0, names = cols_study, usecols=range(len(cols_study)))\n",
    "    # print(f'successfully loaded for sub-{sub}')\n",
    "\n",
    "    return test_df, study_df"
   ]
  },
  {
   "cell_type": "markdown",
   "metadata": {
    "id": "jZom7dx_zQik"
   },
   "source": [
    "## **Step 1.** Writing a function '`memory_score`' returning memory scores for a given participant\n",
    "participant ID is the only argument of the function\n"
   ]
  },
  {
   "cell_type": "markdown",
   "metadata": {
    "id": "dOVYoMcX_PtF"
   },
   "source": [
    "Count for each condition\n",
    "(old/new × certain/uncertain × correct/incorrect)\n",
    "\n",
    "\n",
    "> - Hit_HC: old_correct_certain / Hit_LC: old_correct_uncertain\n",
    "- Miss_HC: old_incorrect_certain / Miss_LC: old_incorrect_uncertain\n",
    "- CR_HC: new_correct_certain / CR_HC: new_correct_uncertain\n",
    "- FA_HC: new_incorrect_certain / FA_LC: new_incorrect_uncertain\n",
    "\n"
   ]
  },
  {
   "cell_type": "code",
   "execution_count": 35,
   "metadata": {
    "id": "vJ_Mxydcxw2K"
   },
   "outputs": [],
   "source": [
    "def calculate_memory_score(sub):\n",
    "    # Load data for the specified subject\n",
    "    sub_test_df, sub_study_df = load_df(sub)\n",
    "\n",
    "    # Extract relevant data from the test dataframe\n",
    "    task_type = sub_test_df['Task_Type'].to_numpy()\n",
    "    rec_response = sub_test_df['Res1'].to_numpy()  # Recognition response\n",
    "    loc_response = sub_test_df['Res2'].to_numpy()  # Location response\n",
    "\n",
    "    # Initialize score counters for Old and New tasks\n",
    "    counters = np.zeros((2, 4), dtype=float) # 2 tasks, 4 response types each\n",
    "    location_counters = np.zeros((4,), dtype=float) # 4 location response types\n",
    "\n",
    "    # Process each trial to update scores\n",
    "    for i in range(len(task_type)):\n",
    "        task_idx = task_type[i]\n",
    "        response_idx = rec_response[i] - 1 #Adjust for 0-indexing\n",
    "        counters[task_idx][response_idx] += 1\n",
    "\n",
    "        if task_idx == 0:  # OLD TASK\n",
    "            objectID = sub_test_df['Object_ID'].iat[i]\n",
    "            correct_Loc = sub_study_df.query(f'ObjID == {objectID}')['LocID'].iloc[0] # Check whether the location response anwser is correct.\n",
    "            if loc_response[i] == correct_Loc:\n",
    "                location_counters[response_idx] += 1\n",
    "    # Calculate scores\n",
    "    old_task, new_task = np.sum(counters, axis=1)\n",
    "    recog_scores = {\n",
    "      'HIT-HC': counters[0, 0] / old_task,\n",
    "      'HIT-LC': counters[0, 1] / old_task,\n",
    "      'MISS-LC': counters[0, 2] / old_task,\n",
    "      'MISS-HC': counters[0, 3] / old_task,\n",
    "      'FA-HC': counters[1, 0] / new_task,\n",
    "      'FA-LC': counters[1, 1] / new_task,\n",
    "      'CR-LC': counters[1, 2] / new_task,\n",
    "      'CR-HC': counters[1, 3] / new_task\n",
    "    }\n",
    "\n",
    "    # Adjust for division by zero\n",
    "    counters += 1e-8\n",
    "    source_scores = {\n",
    "      'HIT-HC& SRC': location_counters[0] / counters[0, 0],\n",
    "      'HIT-LC& SRC': location_counters[1] / counters[0, 1],\n",
    "      'MISS-LC& SRC': location_counters[2] / counters[0, 2],\n",
    "      'MISS-HC& SRC': location_counters[3] / counters[0, 3]\n",
    "    }\n",
    "\n",
    "    return recog_scores, source_scores"
   ]
  },
  {
   "cell_type": "code",
   "execution_count": 36,
   "metadata": {
    "id": "AUM4QdYFxUcm"
   },
   "outputs": [],
   "source": [
    "def memory_score(sub):\n",
    "    # Caculate subject's memory scores\n",
    "    sub_recog_scores, sub_source_scores = calculate_memory_score(2)\n",
    "\n",
    "    # print rounded scores to two decimal places\n",
    "    score_string1 = f'[sub-{sub}   Recognition Score] '\n",
    "    score_string2 = f'[sub-{sub} Source Memory Score] '\n",
    "    for cond, score in sub_recog_scores.items() :\n",
    "        score_string1 = score_string1 + f'{cond}: {score:.2f} '\n",
    "    for cond, score in sub_source_scores.items() :\n",
    "        score_string2 = score_string2 + f'{cond}: {score:.2f} '\n",
    "    print(score_string1)\n",
    "    print(score_string2)"
   ]
  },
  {
   "cell_type": "code",
   "execution_count": 37,
   "metadata": {
    "colab": {
     "base_uri": "https://localhost:8080/"
    },
    "id": "40_WEhpvxrKv",
    "outputId": "c7ecf481-a244-4f31-afc7-68a77b55ca07"
   },
   "outputs": [
    {
     "name": "stdout",
     "output_type": "stream",
     "text": [
      "[sub-2   Recognition Score] HIT-HC: 0.39 HIT-LC: 0.17 MISS-LC: 0.11 MISS-HC: 0.33 FA-HC: 0.08 FA-LC: 0.15 CR-LC: 0.08 CR-HC: 0.69 \n",
      "[sub-2 Source Memory Score] HIT-HC& SRC: 0.43 HIT-LC& SRC: 0.33 MISS-LC& SRC: 0.00 MISS-HC& SRC: 0.00 \n"
     ]
    }
   ],
   "source": [
    "memory_score(2)"
   ]
  },
  {
   "cell_type": "markdown",
   "metadata": {
    "id": "J9AMqBt2zYWO"
   },
   "source": [
    "## **Step 2-1.** Analyzing the memory scores of all 31 participants\n",
    "Compute for all subjects and save it with one dictionary.\n",
    "Calculate the average and standard error for Response rate and Source memory correct rate."
   ]
  },
  {
   "cell_type": "code",
   "execution_count": 38,
   "metadata": {
    "id": "YD_rN_2g4OzO"
   },
   "outputs": [],
   "source": [
    "def calculate_average_and_se(all_subjects_scores):\n",
    "    # Convert to DataFrame\n",
    "    df = pd.DataFrame(all_subjects_scores)\n",
    "\n",
    "    # Calculate mean and standard error\n",
    "    average_scores = df.mean().to_dict()\n",
    "    se_scores = df.sem().to_dict()\n",
    "\n",
    "    # Format values to 4 decimal places\n",
    "    average_scores = {k: format(v, '.4f') for k, v in average_scores.items()}\n",
    "    se_scores = {k: format(v, '.4f') for k, v in se_scores.items()}\n",
    "\n",
    "    return average_scores, se_scores"
   ]
  },
  {
   "cell_type": "code",
   "execution_count": 39,
   "metadata": {
    "colab": {
     "base_uri": "https://localhost:8080/"
    },
    "id": "DFZ-aTnH5pDs",
    "outputId": "19586f6b-c04d-4952-a48b-c344fdf201f5"
   },
   "outputs": [
    {
     "name": "stdout",
     "output_type": "stream",
     "text": [
      "Means of recognition scores {'HIT-HC': '0.5517', 'HIT-LC': '0.1745', 'MISS-LC': '0.1420', 'MISS-HC': '0.1318', 'FA-HC': '0.0816', 'FA-LC': '0.1310', 'CR-LC': '0.3260', 'CR-HC': '0.4613'}\n",
      "Stds of recognition scores {'HIT-HC': '0.0383', 'HIT-LC': '0.0251', 'MISS-LC': '0.0198', 'MISS-HC': '0.0211', 'FA-HC': '0.0154', 'FA-LC': '0.0219', 'CR-LC': '0.0390', 'CR-HC': '0.0449'}\n",
      "Means of Source scores {'HIT-HC& SRC': '0.5022', 'HIT-LC& SRC': '0.1955', 'MISS-LC& SRC': '0.0618', 'MISS-HC& SRC': '0.0215'}\n",
      "Stds of Source scores {'HIT-HC& SRC': '0.0415', 'HIT-LC& SRC': '0.0565', 'MISS-LC& SRC': '0.0268', 'MISS-HC& SRC': '0.0168'}\n"
     ]
    }
   ],
   "source": [
    "all_subjects_recog_scores = [calculate_memory_score(sub)[0] for sub in np.arange(number_of_participants)+1]\n",
    "all_subjects_source_scores = [calculate_memory_score(sub)[1] for sub in np.arange(number_of_participants)+1]\n",
    "\n",
    "average_recog_scores, se_recog_scores = calculate_average_and_se(all_subjects_recog_scores)\n",
    "average_source_scores, se_source_scores = calculate_average_and_se(all_subjects_source_scores)\n",
    "\n",
    "print('Means of recognition scores', average_recog_scores)\n",
    "print('Stds of recognition scores' ,se_recog_scores)\n",
    "\n",
    "print('Means of Source scores', average_source_scores)\n",
    "print('Stds of Source scores' ,se_source_scores)"
   ]
  },
  {
   "cell_type": "markdown",
   "metadata": {
    "id": "52E8QdZK0a2w"
   },
   "source": [
    "## **Step 2-2.** Plotting the bar graphs\n",
    "(mean values with error bars which are the standard error of the mean)"
   ]
  },
  {
   "cell_type": "markdown",
   "metadata": {
    "id": "lodb7ta1AVdq"
   },
   "source": [
    "### Replicate Figure 3A"
   ]
  },
  {
   "cell_type": "code",
   "execution_count": 40,
   "metadata": {
    "colab": {
     "base_uri": "https://localhost:8080/",
     "height": 596
    },
    "id": "ho1fjTq775zk",
    "outputId": "52710379-a355-4349-d639-449fba911ca6"
   },
   "outputs": [
    {
     "name": "stderr",
     "output_type": "stream",
     "text": [
      "/home/sincerely/.conda/envs/fmri01/lib/python3.7/site-packages/ipykernel_launcher.py:24: UserWarning: Setting the 'color' property will override the edgecolor or facecolor properties.\n",
      "/home/sincerely/.conda/envs/fmri01/lib/python3.7/site-packages/ipykernel_launcher.py:25: UserWarning: Setting the 'color' property will override the edgecolor or facecolor properties.\n"
     ]
    },
    {
     "data": {
      "image/png": "[encoded data removed]",
      "text/plain": [
       "<Figure size 600x500 with 1 Axes>"
      ]
     },
     "metadata": {},
     "output_type": "display_data"
    }
   ],
   "source": [
    "import matplotlib.patches as mpatches\n",
    "\n",
    "def plot_response_rate(average_recog_scores, se_recog_scores):\n",
    "    plt.rcParams['figure.figsize'] = (6,5)\n",
    "\n",
    "    labels = list(average_recog_scores.keys())\n",
    "    means = [float(average_recog_scores[label]) for label in labels]\n",
    "    errors = [float(se_recog_scores[label]) for label in labels]\n",
    "\n",
    "    x = range(len(labels))\n",
    "\n",
    "    bar_width = 0.7\n",
    "    errorbar_capsize = 5\n",
    "    half = len(labels) // 2\n",
    "    plt.bar(x[:half], means[:half], yerr=errors[:half], color='gray', edgecolor='black', align='center', alpha=0.9, ecolor='black', width = bar_width, capsize=errorbar_capsize)\n",
    "    plt.bar(x[half:], means[half:], yerr=errors[half:], color='white', edgecolor='black', align='center', alpha=0.9, ecolor='black', width = bar_width, capsize=errorbar_capsize)\n",
    "\n",
    "    plt.xticks(x, labels, rotation=45, fontsize = 12)\n",
    "    plt.yticks(fontsize = 12)\n",
    "    plt.ylim([0, 0.65])\n",
    "    plt.ylabel('Response rate', fontsize = 18)\n",
    "\n",
    "    # Create a legend\n",
    "    old_patch = mpatches.Patch(color='gray', edgecolor='black', label='Old', linewidth = 2,  )\n",
    "    new_patch = mpatches.Patch(color='white', edgecolor='black', label='New', linewidth = 2 )\n",
    "    legend = plt.legend(handles=[old_patch, new_patch], frameon=False, loc = 'upper center', prop={'size': 15})\n",
    "    for patch in legend.get_patches():\n",
    "        patch.set_edgecolor('black')\n",
    "\n",
    "    plt.gca().spines['top'].set_visible(False)\n",
    "    plt.gca().spines['right'].set_visible(False)\n",
    "\n",
    "    plt.tight_layout()\n",
    "    plt.show()\n",
    "\n",
    "plot_response_rate(average_recog_scores, se_recog_scores)\n"
   ]
  },
  {
   "cell_type": "markdown",
   "metadata": {
    "id": "lbvVN2YlAcYN"
   },
   "source": [
    "### Replicate Figure 3B"
   ]
  },
  {
   "cell_type": "code",
   "execution_count": 41,
   "metadata": {
    "colab": {
     "base_uri": "https://localhost:8080/",
     "height": 507
    },
    "id": "qlg4ikcqAbON",
    "outputId": "ebf5e503-466d-4c84-9e3c-5a83113c7132"
   },
   "outputs": [
    {
     "data": {
      "image/png": "[encoded data removed]",
      "text/plain": [
       "<Figure size 400x500 with 1 Axes>"
      ]
     },
     "metadata": {},
     "output_type": "display_data"
    }
   ],
   "source": [
    "def plot_source_scores(average_source_scores, se_source_scores):\n",
    "    plt.rcParams['figure.figsize'] = (4,5)\n",
    "\n",
    "    labels = list(average_source_scores.keys())\n",
    "    means = [float(average_source_scores[label]) for label in labels]\n",
    "    errors = [float(se_source_scores[label]) for label in labels]\n",
    "    conditions = ['HIT-HC\\n& SRC', 'HIT-LC\\n& SRC', 'MISS-LC\\n& SRC', 'MISS-HC\\n& SRC']\n",
    "\n",
    "    x = range(len(labels))\n",
    "\n",
    "    bar_width = 0.75\n",
    "    errorbar_capsize = 5\n",
    "    plt.bar(x, means, yerr=errors, color='gray', align='center', alpha=0.7, ecolor='black', width = bar_width, capsize=errorbar_capsize)\n",
    "    plt.xticks(x, conditions, rotation=45, fontsize = 12)\n",
    "    plt.yticks(fontsize = 12)\n",
    "    plt.ylim([0, 0.65])\n",
    "    plt.ylabel('Source memory correct rate', fontsize = 18)\n",
    "\n",
    "    # Dashed line for chance level\n",
    "    plt.axhline(y=0.25, color='black', linestyle='dotted')\n",
    "\n",
    "    plt.gca().spines['top'].set_visible(False)\n",
    "    plt.gca().spines['right'].set_visible(False)\n",
    "\n",
    "    plt.tight_layout()\n",
    "    plt.show()\n",
    "\n",
    "\n",
    "plot_source_scores(average_source_scores, se_source_scores)"
   ]
  },
  {
   "cell_type": "code",
   "execution_count": null,
   "metadata": {},
   "outputs": [],
   "source": []
  }
 ],
 "metadata": {
  "colab": {
   "provenance": []
  },
  "kernelspec": {
   "display_name": "Python 3 (ipykernel)",
   "language": "python",
   "name": "python3"
  },
  "language_info": {
   "codemirror_mode": {
    "name": "ipython",
    "version": 3
   },
   "file_extension": ".py",
   "mimetype": "text/x-python",
   "name": "python",
   "nbconvert_exporter": "python",
   "pygments_lexer": "ipython3",
   "version": "3.7.15"
  }
 },
 "nbformat": 4,
 "nbformat_minor": 4
}
