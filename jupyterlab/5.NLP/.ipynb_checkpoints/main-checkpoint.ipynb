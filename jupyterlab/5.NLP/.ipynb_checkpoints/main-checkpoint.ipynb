{
 "cells": [
  {
   "cell_type": "code",
   "execution_count": 19,
   "metadata": {},
   "outputs": [],
   "source": [
    "import json\n",
    "import glob\n",
    "import os\n",
    "\n",
    "with open(\"running_man.json\", \"r\") as f:\n",
    "    running_man = json.load(f)[\"annotation\"]\n",
    "annotations = {\"RunningMan\": running_man}\n",
    "\n",
    "files = glob.glob(\"segmented/*.json\")\n",
    "programs = [\"RunningMan\"]"
   ]
  },
  {
   "cell_type": "markdown",
   "metadata": {},
   "source": [
    "# BERTScore"
   ]
  },
  {
   "cell_type": "code",
   "execution_count": 3,
   "metadata": {},
   "outputs": [
    {
     "name": "stderr",
     "output_type": "stream",
     "text": [
      "/home/cosmoquester/psycho/env/lib/python3.9/site-packages/tqdm/auto.py:21: TqdmWarning: IProgress not found. Please update jupyter and ipywidgets. See https://ipywidgets.readthedocs.io/en/stable/user_install.html\n",
      "  from .autonotebook import tqdm as notebook_tqdm\n",
      "/home/cosmoquester/psycho/env/lib/python3.9/site-packages/transformers/utils/hub.py:124: FutureWarning: Using `TRANSFORMERS_CACHE` is deprecated and will be removed in v5 of Transformers. Use `HF_HOME` instead.\n",
      "  warnings.warn(\n"
     ]
    }
   ],
   "source": [
    "from torchmetrics.text.bert import BERTScore\n",
    "\n",
    "metric = BERTScore(\"klue/roberta-base\")"
   ]
  },
  {
   "cell_type": "code",
   "execution_count": null,
   "metadata": {},
   "outputs": [],
   "source": [
    "from itertools import product\n",
    "\n",
    "os.makedirs(\"matrices\", exist_ok=True)\n",
    "\n",
    "for fn in sorted(files):\n",
    "    with open(fn, \"r\") as f:\n",
    "        data = json.load(f)\n",
    "\n",
    "    user_result = {}\n",
    "    for program in programs:\n",
    "        result = {\"references\": annotations[program]}\n",
    "        for recall in [\"Recall1\", \"Recall2\"]:\n",
    "            inputs = list(product(annotations[program], data[recall][program]))\n",
    "            targets, preds = list(zip(*inputs))\n",
    "\n",
    "            scores = metric(preds, targets)\n",
    "            matrix = scores[\"f1\"].view(len(annotations[program]), -1)\n",
    "            \n",
    "            result[recall] = data[recall][program]\n",
    "            result[f\"{recall}-Matrix\"] = matrix.tolist()\n",
    "        user_result[program] = result\n",
    "    \n",
    "    with open(f\"matrices/{os.path.basename(fn)}\", \"w\") as f:\n",
    "        json.dump(user_result, f, indent=2, ensure_ascii=False)"
   ]
  },
  {
   "cell_type": "markdown",
   "metadata": {},
   "source": [
    "# BLEU"
   ]
  },
  {
   "cell_type": "code",
   "execution_count": 23,
   "metadata": {},
   "outputs": [],
   "source": [
    "from konlpy.tag import Mecab\n",
    "\n",
    "mecab = Mecab()"
   ]
  },
  {
   "cell_type": "code",
   "execution_count": null,
   "metadata": {},
   "outputs": [],
   "source": [
    "from nltk.translate.bleu_score import sentence_bleu\n",
    "from itertools import product\n",
    "\n",
    "os.makedirs(\"matrices\", exist_ok=True)\n",
    "\n",
    "for fn in sorted(files):\n",
    "    with open(fn, \"r\") as f:\n",
    "        data = json.load(f)\n",
    "\n",
    "    user_result = {}\n",
    "    for program in programs:\n",
    "        result = {\"references\": annotations[program]}\n",
    "        for recall in [\"Recall1\", \"Recall2\"]:\n",
    "            inputs = list(product(annotations[program], data[recall][program]))\n",
    "            targets, preds = list(zip(*inputs))\n",
    "\n",
    "            scores = [ sentence_bleu([mecab.morphs(t)], mecab.morphs(p)) for t, p in zip(targets, preds) ]\n",
    "            chunk_size = len(data[recall][program])\n",
    "            matrix = [ scores[i:i+chunk_size] for i in range(0, len(scores), chunk_size)]\n",
    "            \n",
    "            result[recall] = data[recall][program]\n",
    "            result[f\"{recall}-Matrix\"] = matrix\n",
    "        user_result[program] = result\n",
    "    \n",
    "    with open(f\"matrices/{os.path.basename(fn)}\", \"w\") as f:\n",
    "        json.dump(user_result, f, indent=2, ensure_ascii=False)"
   ]
  },
  {
   "cell_type": "markdown",
   "metadata": {},
   "source": [
    "# STS"
   ]
  },
  {
   "cell_type": "code",
   "execution_count": 24,
   "metadata": {},
   "outputs": [
    {
     "name": "stderr",
     "output_type": "stream",
     "text": [
      "modules.json: 100%|██████████| 229/229 [00:00<00:00, 32.7kB/s]\n",
      "config_sentence_transformers.json: 100%|██████████| 124/124 [00:00<00:00, 43.0kB/s]\n",
      "README.md: 100%|██████████| 4.02k/4.02k [00:00<00:00, 1.38MB/s]\n",
      "sentence_bert_config.json: 100%|██████████| 53.0/53.0 [00:00<00:00, 14.1kB/s]\n",
      "config.json: 100%|██████████| 707/707 [00:00<00:00, 178kB/s]\n",
      "pytorch_model.bin: 100%|██████████| 467M/467M [00:06<00:00, 74.9MB/s] \n",
      "tokenizer_config.json: 100%|██████████| 394/394 [00:00<00:00, 31.1kB/s]\n",
      "vocab.txt: 100%|██████████| 336k/336k [00:00<00:00, 604kB/s]\n",
      "tokenizer.json: 100%|██████████| 967k/967k [00:00<00:00, 1.30MB/s]\n",
      "special_tokens_map.json: 100%|██████████| 112/112 [00:00<00:00, 31.0kB/s]\n",
      "1_Pooling/config.json: 100%|██████████| 190/190 [00:00<00:00, 13.5kB/s]\n"
     ]
    }
   ],
   "source": [
    "from sentence_transformers import SentenceTransformer\n",
    "\n",
    "model = SentenceTransformer('snunlp/KR-SBERT-V40K-klueNLI-augSTS')"
   ]
  },
  {
   "cell_type": "code",
   "execution_count": 49,
   "metadata": {},
   "outputs": [],
   "source": [
    "from itertools import product\n",
    "import numpy as np\n",
    "\n",
    "output_dir = os.path.join(\"STS\", \"matrices\")\n",
    "\n",
    "os.makedirs(output_dir, exist_ok=True)\n",
    "\n",
    "for fn in sorted(files):\n",
    "    with open(fn, \"r\") as f:\n",
    "        data = json.load(f)\n",
    "\n",
    "    user_result = {}\n",
    "    for program in programs:\n",
    "        result = {\"references\": annotations[program]}\n",
    "        reference_embeddings = model.encode(annotations[program])\n",
    "\n",
    "        for recall in [\"Recall1\", \"Recall2\"]:\n",
    "            recall_embeddings = model.encode(data[recall][program])\n",
    "\n",
    "            reference_embeddings /= np.linalg.norm(reference_embeddings, axis=-1, ord=2, keepdims=True)\n",
    "            recall_embeddings /= np.linalg.norm(recall_embeddings, axis=-1, ord=2, keepdims=True)\n",
    "\n",
    "            matrix = reference_embeddings @ recall_embeddings.T\n",
    "            \n",
    "            result[recall] = data[recall][program]\n",
    "            result[f\"{recall}-Matrix\"] = matrix.tolist()\n",
    "        user_result[program] = result\n",
    "    \n",
    "    with open(os.path.join(output_dir, os.path.basename(fn)), \"w\") as f:\n",
    "        json.dump(user_result, f, indent=2, ensure_ascii=False)"
   ]
  }
 ],
 "metadata": {
  "kernelspec": {
   "display_name": "env",
   "language": "python",
   "name": "python3"
  },
  "language_info": {
   "codemirror_mode": {
    "name": "ipython",
    "version": 3
   },
   "file_extension": ".py",
   "mimetype": "text/x-python",
   "name": "python",
   "nbconvert_exporter": "python",
   "pygments_lexer": "ipython3",
   "version": "3.9.13"
  }
 },
 "nbformat": 4,
 "nbformat_minor": 2
}
