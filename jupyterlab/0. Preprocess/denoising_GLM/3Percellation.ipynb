{
 "cells": [
  {
   "cell_type": "code",
   "execution_count": null,
   "id": "12ff6c1e-0717-45e9-8549-22b125e01fd6",
   "metadata": {},
   "outputs": [],
   "source": [
    "#Extracting signals on a parcellation\n",
    "from nilearn.maskers import NiftiLabelsMasker\n",
    "\n",
    "fmri_file = os.path.join(base_dir, 'data', 'pracaticed', 'preprocessed','sub-01_task-encoding_run-1.nii.gz')\n",
    "\n",
    "\n",
    "masker = NiftiLabelsMasker(labels_img=BN_fname, standardize=True)\n",
    "time_series = masker.fit_transform(fmri_file)"
   ]
  }
 ],
 "metadata": {
  "kernelspec": {
   "display_name": "Python 3 (ipykernel)",
   "language": "python",
   "name": "python3"
  },
  "language_info": {
   "codemirror_mode": {
    "name": "ipython",
    "version": 3
   },
   "file_extension": ".py",
   "mimetype": "text/x-python",
   "name": "python",
   "nbconvert_exporter": "python",
   "pygments_lexer": "ipython3",
   "version": "3.7.15"
  }
 },
 "nbformat": 4,
 "nbformat_minor": 5
}
