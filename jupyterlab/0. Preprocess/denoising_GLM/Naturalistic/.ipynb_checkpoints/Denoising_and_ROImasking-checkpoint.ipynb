{
 "cells": [
  {
   "cell_type": "markdown",
   "id": "027f0d2a-ed36-42ab-a3c9-594f76e0737d",
   "metadata": {
    "tags": []
   },
   "source": [
    "# Load modules"
   ]
  },
  {
   "cell_type": "raw",
   "id": "be55a01f-9134-4ca2-822b-f97cff198bb9",
   "metadata": {},
   "source": [
    "Denoising for Natualistic analysis \n",
    "\n",
    "Data structure \n",
    "(input)fMRprep : KdramaMay - data - derivatives - sub-*- func/ant/fmap \n",
    "(output)Denosing : KdramaMay - analysis - denoised"
   ]
  },
  {
   "cell_type": "markdown",
   "id": "6090b654-485b-4282-bfde-a4b003bb6fde",
   "metadata": {
    "jupyter": {
     "outputs_hidden": true
    },
    "tags": []
   },
   "source": [
    "!pip install nltools"
   ]
  },
  {
   "cell_type": "code",
   "execution_count": 1,
   "id": "34f7e958-9f3b-43e9-b9a1-4b23c25f52df",
   "metadata": {},
   "outputs": [
    {
     "name": "stderr",
     "output_type": "stream",
     "text": [
      "/home/sincerely/.conda/envs/ISC/lib/python3.7/site-packages/nilearn/__init__.py:69: FutureWarning: Python 3.7 support is deprecated and will be removed in release 0.12 of Nilearn. Consider switching to Python 3.9 or 3.10.\n",
      "  _python_deprecation_warnings()\n"
     ]
    }
   ],
   "source": [
    "import os\n",
    "import glob\n",
    "import numpy as np\n",
    "import pandas as pd\n",
    "import matplotlib.pyplot as plt\n",
    "import seaborn as sns\n",
    "from nltools.stats import regress, zscore\n",
    "from nltools.data import Brain_Data, Design_Matrix\n",
    "from nltools.stats import find_spikes \n",
    "from nltools.mask import expand_mask\n",
    "\n",
    "base_dir = '/mnt/c/Users/since/Desktop/KdramaMay/'\n",
    "data_dir = os.path.join(base_dir, 'data', 'derivatives')\n",
    "denoised_dir = os.path.join(base_dir, 'analysis', 'denoised')\n",
    "#Zdenoised_dir = os.path.join(base_dir, 'analysis', 'denoised_zscore')\n",
    "mask_dir =  os.path.join(base_dir, 'analysis', 'Masks')"
   ]
  },
  {
   "cell_type": "markdown",
   "id": "9bea6a3c-ce4e-4b64-b411-1915f19b305c",
   "metadata": {
    "tags": []
   },
   "source": [
    "## Define functions"
   ]
  },
  {
   "cell_type": "raw",
   "id": "62c40f51-3e9d-4709-aae0-acbd03516306",
   "metadata": {},
   "source": [
    "After preprocessing with fmriprep, we smoothed the data (fwhm=6mm) and performed basic voxelwise denoising using a GLM.\n",
    "- 6 realignment parameters, their squaresm their derivatives and squared derivatives. \n",
    "- dummy codes for spikes identified from global signal outliert and outliers identified from frame differencing(i.e. temporal derivative) \n",
    "\n",
    "- According to fmriprep:  For head motion censoring, frames that exceeded a threshold of 0.5 mm FD or 1.5 standardized DVARS were annotated as motion outliers"
   ]
  },
  {
   "cell_type": "code",
   "execution_count": 2,
   "id": "f1333276-f69b-4a3a-9dda-2b4bef3e723b",
   "metadata": {},
   "outputs": [],
   "source": [
    "tr = 1.5\n",
    "outlier_cutoff = 3 # outlier threashold\n",
    "#mask = Brain_Data('http://neurovault.org/media/images/2099/Neurosynth%20Parcellation_0.nii.gz')"
   ]
  },
  {
   "cell_type": "code",
   "execution_count": 3,
   "id": "fb0ea318-176f-48ea-a472-f9c53b170519",
   "metadata": {},
   "outputs": [],
   "source": [
    "def make_motion_covariates(mc, tr):\n",
    "    z_mc = zscore(mc)\n",
    "    all_mc = pd.concat([z_mc, z_mc**2, z_mc.diff(), z_mc.diff()**2], axis=1)\n",
    "    all_mc.fillna(value=0, inplace=True) #결측값 변경 \n",
    "    #print(all_mc)\n",
    "    return Design_Matrix(all_mc, sampling_freq=1/tr)"
   ]
  },
  {
   "cell_type": "markdown",
   "id": "a4a7e576-21ef-4d9f-81a4-e19c1114300d",
   "metadata": {
    "jp-MarkdownHeadingCollapsed": true,
    "tags": []
   },
   "source": [
    "# Practice "
   ]
  },
  {
   "cell_type": "markdown",
   "id": "4254ca45-7d7d-4f37-b72d-2e373a1060a9",
   "metadata": {
    "jp-MarkdownHeadingCollapsed": true,
    "tags": []
   },
   "source": [
    "## Check Motion Outliers "
   ]
  },
  {
   "cell_type": "code",
   "execution_count": 6,
   "id": "b564cd28-e7b2-4e69-a4cd-717f0a7224ad",
   "metadata": {},
   "outputs": [
    {
     "name": "stdout",
     "output_type": "stream",
     "text": [
      "['/mnt/c/Users/since/Desktop/KdramaSpring/data/derivatives/sub-06/func/sub-06_task-encoding_run-2_desc-confounds_timeseries.tsv']\n"
     ]
    },
    {
     "data": {
      "text/plain": [
       "Index(['motion_outlier00', 'motion_outlier01', 'motion_outlier02',\n",
       "       'motion_outlier03'],\n",
       "      dtype='object')"
      ]
     },
     "execution_count": 6,
     "metadata": {},
     "output_type": "execute_result"
    }
   ],
   "source": [
    "sub = '06'\n",
    "task = 'encoding'\n",
    "run = '2'\n",
    "print(glob.glob(os.path.join(data_dir, f'sub-{sub}', 'func', f'sub-{sub}_task-{task}_run-{run}_desc-confounds_timeseries.tsv')))\n",
    "covariates = pd.read_csv(glob.glob(os.path.join(data_dir, f'sub-{sub}', 'func', f'sub-{sub}_task-{task}_run-{run}_desc-confounds_timeseries.tsv'))[0], sep='\\t')\n",
    "\n",
    "motionOutliers = covariates.filter(regex='motion_outlier')\n",
    "motionOutliers.columns"
   ]
  },
  {
   "cell_type": "code",
   "execution_count": 10,
   "id": "f1613735-976b-4822-80cb-5479e07e1266",
   "metadata": {},
   "outputs": [
    {
     "name": "stdout",
     "output_type": "stream",
     "text": [
      "['/mnt/c/Users/since/Desktop/KdramaSpring/data/derivatives/sub-02/func/sub-02_task-encoding_run-1_desc-confounds_timeseries.tsv']\n"
     ]
    },
    {
     "data": {
      "text/plain": [
       "Index(['non_steady_state_outlier00'], dtype='object')"
      ]
     },
     "execution_count": 10,
     "metadata": {},
     "output_type": "execute_result"
    }
   ],
   "source": [
    "sub = '02'\n",
    "task = 'encoding'\n",
    "run = '1'\n",
    "print(glob.glob(os.path.join(data_dir, f'sub-{sub}', 'func', f'sub-{sub}_task-{task}_run-{run}_desc-confounds_timeseries.tsv')))\n",
    "covariates = pd.read_csv(glob.glob(os.path.join(data_dir, f'sub-{sub}', 'func', f'sub-{sub}_task-{task}_run-{run}_desc-confounds_timeseries.tsv'))[0], sep='\\t')\n",
    "\n",
    "nonsteadyOutlier = covariates.filter(regex='non_steady_state_outlier')\n",
    "nonsteadyOutlier.columns"
   ]
  },
  {
   "cell_type": "markdown",
   "id": "bc51a1de-70e3-4a73-9007-96b4d73b378b",
   "metadata": {
    "jp-MarkdownHeadingCollapsed": true,
    "tags": []
   },
   "source": [
    "## sub-02 : Check non_steady_~"
   ]
  },
  {
   "cell_type": "code",
   "execution_count": 61,
   "id": "49c8bb4d-5da0-435c-9b34-1a991481356d",
   "metadata": {},
   "outputs": [
    {
     "name": "stdout",
     "output_type": "stream",
     "text": [
      "<class 'str'>\n",
      "['sub-02', 'task-encoding', 'run-1', 'space-MNI152NLin6Asym', 'desc-smoothAROMAnonaggr', 'bold.nii.gz']\n",
      "<class 'str'>\n",
      "['sub-02', 'task-encoding', 'run-2', 'space-MNI152NLin6Asym', 'desc-smoothAROMAnonaggr', 'bold.nii.gz']\n",
      "<class 'str'>\n",
      "['sub-02', 'task-recall', 'run-1', 'space-MNI152NLin6Asym', 'desc-smoothAROMAnonaggr', 'bold.nii.gz']\n",
      "<class 'str'>\n",
      "['sub-02', 'task-recall', 'run-2', 'space-MNI152NLin6Asym', 'desc-smoothAROMAnonaggr', 'bold.nii.gz']\n"
     ]
    }
   ],
   "source": [
    "file_list = [x for x in glob.glob(os.path.join(data_dir, 'sub-02/func/*AROMA*gz')) if 'denoised' not in x] \n",
    "for f in file_list:\n",
    "    print(type(f))\n",
    "    sub = os.path.basename(f).split('_')[0]\n",
    "    task = os.path.basename(f).split('_')[1]\n",
    "    print(os.path.basename(f).split('_'))"
   ]
  },
  {
   "cell_type": "code",
   "execution_count": 22,
   "id": "efbb8305-ef6c-453b-bb3b-5c74b02884f0",
   "metadata": {
    "tags": []
   },
   "outputs": [
    {
     "data": {
      "text/plain": [
       "['/mnt/c/Users/since/Desktop/KdramaSpring/data/derivatives/sub-02/func/sub-02_task-encoding_run-1_desc-confounds_timeseries.tsv']"
      ]
     },
     "execution_count": 22,
     "metadata": {},
     "output_type": "execute_result"
    }
   ],
   "source": [
    "sub = 'sub-02'\n",
    "task = 'task-encoding'\n",
    "run = 'run-1'\n",
    "fwhm = 6\n",
    "glob.glob(os.path.join(data_dir, sub, 'func', f'{sub}_{task}_{run}_desc-confounds_timeseries.tsv'))"
   ]
  },
  {
   "cell_type": "code",
   "execution_count": 14,
   "id": "1211840e-28c3-425e-8fb4-1cb0143fae76",
   "metadata": {
    "collapsed": true,
    "jupyter": {
     "outputs_hidden": true
    },
    "tags": []
   },
   "outputs": [
    {
     "data": {
      "text/html": [
       "<div>\n",
       "<style scoped>\n",
       "    .dataframe tbody tr th:only-of-type {\n",
       "        vertical-align: middle;\n",
       "    }\n",
       "\n",
       "    .dataframe tbody tr th {\n",
       "        vertical-align: top;\n",
       "    }\n",
       "\n",
       "    .dataframe thead th {\n",
       "        text-align: right;\n",
       "    }\n",
       "</style>\n",
       "<table border=\"1\" class=\"dataframe\">\n",
       "  <thead>\n",
       "    <tr style=\"text-align: right;\">\n",
       "      <th></th>\n",
       "      <th>motion_outlier00</th>\n",
       "      <th>motion_outlier01</th>\n",
       "      <th>motion_outlier02</th>\n",
       "      <th>motion_outlier03</th>\n",
       "      <th>motion_outlier04</th>\n",
       "      <th>motion_outlier05</th>\n",
       "      <th>motion_outlier06</th>\n",
       "      <th>motion_outlier07</th>\n",
       "      <th>motion_outlier08</th>\n",
       "      <th>motion_outlier09</th>\n",
       "      <th>...</th>\n",
       "      <th>motion_outlier59</th>\n",
       "      <th>motion_outlier60</th>\n",
       "      <th>motion_outlier61</th>\n",
       "      <th>motion_outlier62</th>\n",
       "      <th>motion_outlier63</th>\n",
       "      <th>motion_outlier64</th>\n",
       "      <th>motion_outlier65</th>\n",
       "      <th>motion_outlier66</th>\n",
       "      <th>motion_outlier67</th>\n",
       "      <th>motion_outlier68</th>\n",
       "    </tr>\n",
       "  </thead>\n",
       "  <tbody>\n",
       "    <tr>\n",
       "      <th>0</th>\n",
       "      <td>0.0</td>\n",
       "      <td>0.0</td>\n",
       "      <td>0.0</td>\n",
       "      <td>0.0</td>\n",
       "      <td>0.0</td>\n",
       "      <td>0.0</td>\n",
       "      <td>0.0</td>\n",
       "      <td>0.0</td>\n",
       "      <td>0.0</td>\n",
       "      <td>0.0</td>\n",
       "      <td>...</td>\n",
       "      <td>0.0</td>\n",
       "      <td>0.0</td>\n",
       "      <td>0.0</td>\n",
       "      <td>0.0</td>\n",
       "      <td>0.0</td>\n",
       "      <td>0.0</td>\n",
       "      <td>0.0</td>\n",
       "      <td>0.0</td>\n",
       "      <td>0.0</td>\n",
       "      <td>0.0</td>\n",
       "    </tr>\n",
       "    <tr>\n",
       "      <th>1</th>\n",
       "      <td>0.0</td>\n",
       "      <td>0.0</td>\n",
       "      <td>0.0</td>\n",
       "      <td>0.0</td>\n",
       "      <td>0.0</td>\n",
       "      <td>0.0</td>\n",
       "      <td>0.0</td>\n",
       "      <td>0.0</td>\n",
       "      <td>0.0</td>\n",
       "      <td>0.0</td>\n",
       "      <td>...</td>\n",
       "      <td>0.0</td>\n",
       "      <td>0.0</td>\n",
       "      <td>0.0</td>\n",
       "      <td>0.0</td>\n",
       "      <td>0.0</td>\n",
       "      <td>0.0</td>\n",
       "      <td>0.0</td>\n",
       "      <td>0.0</td>\n",
       "      <td>0.0</td>\n",
       "      <td>0.0</td>\n",
       "    </tr>\n",
       "    <tr>\n",
       "      <th>2</th>\n",
       "      <td>0.0</td>\n",
       "      <td>0.0</td>\n",
       "      <td>0.0</td>\n",
       "      <td>0.0</td>\n",
       "      <td>0.0</td>\n",
       "      <td>0.0</td>\n",
       "      <td>0.0</td>\n",
       "      <td>0.0</td>\n",
       "      <td>0.0</td>\n",
       "      <td>0.0</td>\n",
       "      <td>...</td>\n",
       "      <td>0.0</td>\n",
       "      <td>0.0</td>\n",
       "      <td>0.0</td>\n",
       "      <td>0.0</td>\n",
       "      <td>0.0</td>\n",
       "      <td>0.0</td>\n",
       "      <td>0.0</td>\n",
       "      <td>0.0</td>\n",
       "      <td>0.0</td>\n",
       "      <td>0.0</td>\n",
       "    </tr>\n",
       "    <tr>\n",
       "      <th>3</th>\n",
       "      <td>0.0</td>\n",
       "      <td>0.0</td>\n",
       "      <td>0.0</td>\n",
       "      <td>0.0</td>\n",
       "      <td>0.0</td>\n",
       "      <td>0.0</td>\n",
       "      <td>0.0</td>\n",
       "      <td>0.0</td>\n",
       "      <td>0.0</td>\n",
       "      <td>0.0</td>\n",
       "      <td>...</td>\n",
       "      <td>0.0</td>\n",
       "      <td>0.0</td>\n",
       "      <td>0.0</td>\n",
       "      <td>0.0</td>\n",
       "      <td>0.0</td>\n",
       "      <td>0.0</td>\n",
       "      <td>0.0</td>\n",
       "      <td>0.0</td>\n",
       "      <td>0.0</td>\n",
       "      <td>0.0</td>\n",
       "    </tr>\n",
       "    <tr>\n",
       "      <th>4</th>\n",
       "      <td>0.0</td>\n",
       "      <td>0.0</td>\n",
       "      <td>0.0</td>\n",
       "      <td>0.0</td>\n",
       "      <td>0.0</td>\n",
       "      <td>0.0</td>\n",
       "      <td>0.0</td>\n",
       "      <td>0.0</td>\n",
       "      <td>0.0</td>\n",
       "      <td>0.0</td>\n",
       "      <td>...</td>\n",
       "      <td>0.0</td>\n",
       "      <td>0.0</td>\n",
       "      <td>0.0</td>\n",
       "      <td>0.0</td>\n",
       "      <td>0.0</td>\n",
       "      <td>0.0</td>\n",
       "      <td>0.0</td>\n",
       "      <td>0.0</td>\n",
       "      <td>0.0</td>\n",
       "      <td>0.0</td>\n",
       "    </tr>\n",
       "    <tr>\n",
       "      <th>...</th>\n",
       "      <td>...</td>\n",
       "      <td>...</td>\n",
       "      <td>...</td>\n",
       "      <td>...</td>\n",
       "      <td>...</td>\n",
       "      <td>...</td>\n",
       "      <td>...</td>\n",
       "      <td>...</td>\n",
       "      <td>...</td>\n",
       "      <td>...</td>\n",
       "      <td>...</td>\n",
       "      <td>...</td>\n",
       "      <td>...</td>\n",
       "      <td>...</td>\n",
       "      <td>...</td>\n",
       "      <td>...</td>\n",
       "      <td>...</td>\n",
       "      <td>...</td>\n",
       "      <td>...</td>\n",
       "      <td>...</td>\n",
       "      <td>...</td>\n",
       "    </tr>\n",
       "    <tr>\n",
       "      <th>599</th>\n",
       "      <td>0.0</td>\n",
       "      <td>0.0</td>\n",
       "      <td>0.0</td>\n",
       "      <td>0.0</td>\n",
       "      <td>0.0</td>\n",
       "      <td>0.0</td>\n",
       "      <td>0.0</td>\n",
       "      <td>0.0</td>\n",
       "      <td>0.0</td>\n",
       "      <td>0.0</td>\n",
       "      <td>...</td>\n",
       "      <td>0.0</td>\n",
       "      <td>0.0</td>\n",
       "      <td>0.0</td>\n",
       "      <td>0.0</td>\n",
       "      <td>0.0</td>\n",
       "      <td>0.0</td>\n",
       "      <td>0.0</td>\n",
       "      <td>0.0</td>\n",
       "      <td>0.0</td>\n",
       "      <td>0.0</td>\n",
       "    </tr>\n",
       "    <tr>\n",
       "      <th>600</th>\n",
       "      <td>0.0</td>\n",
       "      <td>0.0</td>\n",
       "      <td>0.0</td>\n",
       "      <td>0.0</td>\n",
       "      <td>0.0</td>\n",
       "      <td>0.0</td>\n",
       "      <td>0.0</td>\n",
       "      <td>0.0</td>\n",
       "      <td>0.0</td>\n",
       "      <td>0.0</td>\n",
       "      <td>...</td>\n",
       "      <td>0.0</td>\n",
       "      <td>0.0</td>\n",
       "      <td>0.0</td>\n",
       "      <td>0.0</td>\n",
       "      <td>0.0</td>\n",
       "      <td>0.0</td>\n",
       "      <td>0.0</td>\n",
       "      <td>0.0</td>\n",
       "      <td>0.0</td>\n",
       "      <td>0.0</td>\n",
       "    </tr>\n",
       "    <tr>\n",
       "      <th>601</th>\n",
       "      <td>0.0</td>\n",
       "      <td>0.0</td>\n",
       "      <td>0.0</td>\n",
       "      <td>0.0</td>\n",
       "      <td>0.0</td>\n",
       "      <td>0.0</td>\n",
       "      <td>0.0</td>\n",
       "      <td>0.0</td>\n",
       "      <td>0.0</td>\n",
       "      <td>0.0</td>\n",
       "      <td>...</td>\n",
       "      <td>0.0</td>\n",
       "      <td>0.0</td>\n",
       "      <td>0.0</td>\n",
       "      <td>0.0</td>\n",
       "      <td>0.0</td>\n",
       "      <td>0.0</td>\n",
       "      <td>0.0</td>\n",
       "      <td>0.0</td>\n",
       "      <td>0.0</td>\n",
       "      <td>0.0</td>\n",
       "    </tr>\n",
       "    <tr>\n",
       "      <th>602</th>\n",
       "      <td>0.0</td>\n",
       "      <td>0.0</td>\n",
       "      <td>0.0</td>\n",
       "      <td>0.0</td>\n",
       "      <td>0.0</td>\n",
       "      <td>0.0</td>\n",
       "      <td>0.0</td>\n",
       "      <td>0.0</td>\n",
       "      <td>0.0</td>\n",
       "      <td>0.0</td>\n",
       "      <td>...</td>\n",
       "      <td>0.0</td>\n",
       "      <td>0.0</td>\n",
       "      <td>0.0</td>\n",
       "      <td>0.0</td>\n",
       "      <td>0.0</td>\n",
       "      <td>0.0</td>\n",
       "      <td>0.0</td>\n",
       "      <td>0.0</td>\n",
       "      <td>0.0</td>\n",
       "      <td>0.0</td>\n",
       "    </tr>\n",
       "    <tr>\n",
       "      <th>603</th>\n",
       "      <td>0.0</td>\n",
       "      <td>0.0</td>\n",
       "      <td>0.0</td>\n",
       "      <td>0.0</td>\n",
       "      <td>0.0</td>\n",
       "      <td>0.0</td>\n",
       "      <td>0.0</td>\n",
       "      <td>0.0</td>\n",
       "      <td>0.0</td>\n",
       "      <td>0.0</td>\n",
       "      <td>...</td>\n",
       "      <td>0.0</td>\n",
       "      <td>0.0</td>\n",
       "      <td>0.0</td>\n",
       "      <td>0.0</td>\n",
       "      <td>0.0</td>\n",
       "      <td>0.0</td>\n",
       "      <td>0.0</td>\n",
       "      <td>0.0</td>\n",
       "      <td>0.0</td>\n",
       "      <td>0.0</td>\n",
       "    </tr>\n",
       "  </tbody>\n",
       "</table>\n",
       "<p>604 rows × 69 columns</p>\n",
       "</div>"
      ],
      "text/plain": [
       "     motion_outlier00  motion_outlier01  motion_outlier02  motion_outlier03  \\\n",
       "0                 0.0               0.0               0.0               0.0   \n",
       "1                 0.0               0.0               0.0               0.0   \n",
       "2                 0.0               0.0               0.0               0.0   \n",
       "3                 0.0               0.0               0.0               0.0   \n",
       "4                 0.0               0.0               0.0               0.0   \n",
       "..                ...               ...               ...               ...   \n",
       "599               0.0               0.0               0.0               0.0   \n",
       "600               0.0               0.0               0.0               0.0   \n",
       "601               0.0               0.0               0.0               0.0   \n",
       "602               0.0               0.0               0.0               0.0   \n",
       "603               0.0               0.0               0.0               0.0   \n",
       "\n",
       "     motion_outlier04  motion_outlier05  motion_outlier06  motion_outlier07  \\\n",
       "0                 0.0               0.0               0.0               0.0   \n",
       "1                 0.0               0.0               0.0               0.0   \n",
       "2                 0.0               0.0               0.0               0.0   \n",
       "3                 0.0               0.0               0.0               0.0   \n",
       "4                 0.0               0.0               0.0               0.0   \n",
       "..                ...               ...               ...               ...   \n",
       "599               0.0               0.0               0.0               0.0   \n",
       "600               0.0               0.0               0.0               0.0   \n",
       "601               0.0               0.0               0.0               0.0   \n",
       "602               0.0               0.0               0.0               0.0   \n",
       "603               0.0               0.0               0.0               0.0   \n",
       "\n",
       "     motion_outlier08  motion_outlier09  ...  motion_outlier59  \\\n",
       "0                 0.0               0.0  ...               0.0   \n",
       "1                 0.0               0.0  ...               0.0   \n",
       "2                 0.0               0.0  ...               0.0   \n",
       "3                 0.0               0.0  ...               0.0   \n",
       "4                 0.0               0.0  ...               0.0   \n",
       "..                ...               ...  ...               ...   \n",
       "599               0.0               0.0  ...               0.0   \n",
       "600               0.0               0.0  ...               0.0   \n",
       "601               0.0               0.0  ...               0.0   \n",
       "602               0.0               0.0  ...               0.0   \n",
       "603               0.0               0.0  ...               0.0   \n",
       "\n",
       "     motion_outlier60  motion_outlier61  motion_outlier62  motion_outlier63  \\\n",
       "0                 0.0               0.0               0.0               0.0   \n",
       "1                 0.0               0.0               0.0               0.0   \n",
       "2                 0.0               0.0               0.0               0.0   \n",
       "3                 0.0               0.0               0.0               0.0   \n",
       "4                 0.0               0.0               0.0               0.0   \n",
       "..                ...               ...               ...               ...   \n",
       "599               0.0               0.0               0.0               0.0   \n",
       "600               0.0               0.0               0.0               0.0   \n",
       "601               0.0               0.0               0.0               0.0   \n",
       "602               0.0               0.0               0.0               0.0   \n",
       "603               0.0               0.0               0.0               0.0   \n",
       "\n",
       "     motion_outlier64  motion_outlier65  motion_outlier66  motion_outlier67  \\\n",
       "0                 0.0               0.0               0.0               0.0   \n",
       "1                 0.0               0.0               0.0               0.0   \n",
       "2                 0.0               0.0               0.0               0.0   \n",
       "3                 0.0               0.0               0.0               0.0   \n",
       "4                 0.0               0.0               0.0               0.0   \n",
       "..                ...               ...               ...               ...   \n",
       "599               0.0               0.0               0.0               0.0   \n",
       "600               0.0               0.0               0.0               0.0   \n",
       "601               0.0               0.0               0.0               0.0   \n",
       "602               0.0               0.0               0.0               0.0   \n",
       "603               0.0               0.0               0.0               0.0   \n",
       "\n",
       "     motion_outlier68  \n",
       "0                 0.0  \n",
       "1                 0.0  \n",
       "2                 0.0  \n",
       "3                 0.0  \n",
       "4                 0.0  \n",
       "..                ...  \n",
       "599               0.0  \n",
       "600               0.0  \n",
       "601               0.0  \n",
       "602               0.0  \n",
       "603               0.0  \n",
       "\n",
       "[604 rows x 69 columns]"
      ]
     },
     "execution_count": 14,
     "metadata": {},
     "output_type": "execute_result"
    }
   ],
   "source": [
    "covariates = pd.read_csv(glob.glob(os.path.join(data_dir, sub, 'func', f'{sub}_{task}_{run}_desc-confounds_timeseries.tsv'))[0], sep='\\t')\n",
    "motionOutliers = covariates.filter(regex='motion_outlier')\n",
    "motionOutliers"
   ]
  },
  {
   "cell_type": "code",
   "execution_count": 44,
   "id": "2432e495-e15f-49a1-ba13-e483d3cbab39",
   "metadata": {},
   "outputs": [],
   "source": [
    "# '/mnt/c/Users/since/Desktop/KdramaSpring/data/derivatives/sub-02/anat'\n",
    "csf = Brain_Data(glob.glob(os.path.join(data_dir, f'sub-{sub}', 'anat'))[1]) #MNI CSF \n",
    "data = Brain_Data(glob.glob(os.path.join(data_dir, 'sub-02/func/*AROMA*gz'))[3])\n",
    "dm_csf = zscore(pd.Series(data.extract_roi(csf.threshold(upper=0.85, binarize=True))))\n",
    "\n",
    "\n",
    "#print(path)\n",
    "#glob.glob(path)"
   ]
  },
  {
   "cell_type": "code",
   "execution_count": 46,
   "id": "4ed3693c-a693-405e-96bc-feb4681a3791",
   "metadata": {
    "collapsed": true,
    "jupyter": {
     "outputs_hidden": true
    },
    "tags": []
   },
   "outputs": [
    {
     "data": {
      "text/plain": [
       "0      0.073525\n",
       "1      0.382782\n",
       "2      0.085099\n",
       "3      1.381876\n",
       "4      1.240440\n",
       "         ...   \n",
       "487    0.727603\n",
       "488   -0.514457\n",
       "489   -0.952690\n",
       "490   -1.106066\n",
       "491   -0.504675\n",
       "Length: 492, dtype: float32"
      ]
     },
     "execution_count": 46,
     "metadata": {},
     "output_type": "execute_result"
    }
   ],
   "source": [
    "dm_csf # Luke Chang Code 에서 따온 거 "
   ]
  },
  {
   "cell_type": "code",
   "execution_count": 47,
   "id": "65078f1e-6457-44f3-a915-355ebe1b6de6",
   "metadata": {
    "collapsed": true,
    "jupyter": {
     "outputs_hidden": true
    },
    "tags": []
   },
   "outputs": [
    {
     "data": {
      "text/plain": [
       "0      365.921854\n",
       "1      361.504711\n",
       "2      362.139943\n",
       "3      362.673126\n",
       "4      359.736969\n",
       "          ...    \n",
       "487    357.268896\n",
       "488    355.207643\n",
       "489    355.124861\n",
       "490    353.948480\n",
       "491    354.677546\n",
       "Name: csf, Length: 492, dtype: float64"
      ]
     },
     "execution_count": 47,
     "metadata": {},
     "output_type": "execute_result"
    }
   ],
   "source": [
    "covariates['csf'] # Dart Brain Code에서 따온 거 "
   ]
  },
  {
   "cell_type": "code",
   "execution_count": 67,
   "id": "2abff285-4082-4aa8-b6ab-4e6afc19d49b",
   "metadata": {},
   "outputs": [
    {
     "data": {
      "text/plain": [
       "['/mnt/c/Users/since/Desktop/KdramaSpring/data/derivatives/sub-02/anat/sub-02_label-CSF_probseg.nii.gz',\n",
       " '/mnt/c/Users/since/Desktop/KdramaSpring/data/derivatives/sub-02/anat/sub-02_space-MNI152NLin6Asym_res-2_label-CSF_probseg.nii.gz']"
      ]
     },
     "execution_count": 67,
     "metadata": {},
     "output_type": "execute_result"
    }
   ],
   "source": [
    "glob.glob(os.path.join(data_dir, f'{sub}', 'anat', '*CSF*.nii.gz'))"
   ]
  },
  {
   "cell_type": "code",
   "execution_count": 62,
   "id": "6ad1875a-7b44-4b87-bbb5-8ff595581088",
   "metadata": {},
   "outputs": [
    {
     "data": {
      "text/plain": [
       "['/mnt/c/Users/since/Desktop/KdramaSpring/data/derivatives/sub-02/func/sub-02_task-encoding_run-1_space-MNI152NLin6Asym_desc-smoothAROMAnonaggr_bold.nii.gz',\n",
       " '/mnt/c/Users/since/Desktop/KdramaSpring/data/derivatives/sub-02/func/sub-02_task-encoding_run-2_space-MNI152NLin6Asym_desc-smoothAROMAnonaggr_bold.nii.gz',\n",
       " '/mnt/c/Users/since/Desktop/KdramaSpring/data/derivatives/sub-02/func/sub-02_task-recall_run-1_space-MNI152NLin6Asym_desc-smoothAROMAnonaggr_bold.nii.gz',\n",
       " '/mnt/c/Users/since/Desktop/KdramaSpring/data/derivatives/sub-02/func/sub-02_task-recall_run-2_space-MNI152NLin6Asym_desc-smoothAROMAnonaggr_bold.nii.gz']"
      ]
     },
     "execution_count": 62,
     "metadata": {},
     "output_type": "execute_result"
    }
   ],
   "source": [
    "file_list"
   ]
  },
  {
   "cell_type": "code",
   "execution_count": 74,
   "id": "31b3a394-db9c-4348-a609-14f044384c26",
   "metadata": {
    "collapsed": true,
    "jupyter": {
     "outputs_hidden": true
    },
    "tags": []
   },
   "outputs": [
    {
     "name": "stdout",
     "output_type": "stream",
     "text": [
      "finisih_task-encoding_run-1_data\n",
      "finisih_task-encoding_run-2_data\n",
      "finisih_task-recall_run-1_data\n",
      "finisih_task-recall_run-2_data\n"
     ]
    },
    {
     "data": {
      "image/png": "[encoded data removed]",
      "text/plain": [
       "<Figure size 800x600 with 1 Axes>"
      ]
     },
     "metadata": {},
     "output_type": "display_data"
    },
    {
     "data": {
      "image/png": "[encoded data removed]",
      "text/plain": [
       "<Figure size 800x600 with 1 Axes>"
      ]
     },
     "metadata": {},
     "output_type": "display_data"
    },
    {
     "data": {
      "image/png": "[encoded data removed]",
      "text/plain": [
       "<Figure size 800x600 with 1 Axes>"
      ]
     },
     "metadata": {},
     "output_type": "display_data"
    },
    {
     "data": {
      "image/png": "[encoded data removed]",
      "text/plain": [
       "<Figure size 800x600 with 1 Axes>"
      ]
     },
     "metadata": {},
     "output_type": "display_data"
    }
   ],
   "source": [
    "file_list = [x for x in glob.glob(os.path.join(data_dir, 'sub-02/func/*preproc*.nii.gz')) if 'denoised' not in x] \n",
    "\n",
    "for f in file_list:\n",
    "    sub = os.path.basename(f).split('_')[0]\n",
    "    task = os.path.basename(f).split('_')[1]\n",
    "    run = os.path.basename(f).split('_')[2]\n",
    "    \n",
    "    #csf = Brain_Data(glob.glob(os.path.join(data_dir, f'{sub}', 'anat', '*CSF*.nii.gz'))[1])\n",
    "    data = Brain_Data(f) #denoise \n",
    "    smoothed = data.smooth(fwhm=fwhm)\n",
    "\n",
    "    spikes = smoothed.find_spikes(global_spike_cutoff=outlier_cutoff, diff_spike_cutoff=outlier_cutoff) # global signal outlier\n",
    "    covariates = pd.read_csv(glob.glob(os.path.join(data_dir, sub, 'func', f'*{sub}_{task}_{run}_desc-confounds_timeseries.tsv'))[0], sep='\\t')\n",
    "    motionOutliers = covariates.filter(regex='motion_outlier')\n",
    "    \n",
    "    mc = covariates[['trans_x','trans_y','trans_z','rot_x', 'rot_y', 'rot_z']]\n",
    "    mc_cov = make_motion_covariates(mc, tr) #motion parameter\n",
    "    #csf = zscore(pd.Series(smoothed.extract_roi(csf.threshold(upper=0.85, binarize=True)))) # Mean activity of CSF\n",
    "    csf = covariates['csf']\n",
    "    \n",
    "    # sub-02_task-encoding_run-2에서만 non_steady_outlier가 관측됨.. 그래서 여기서만 빼기로 하였다. \n",
    "    if f == '/mnt/c/Users/since/Desktop/KdramaSpring/data/derivatives/sub-02/func/sub-02_task-encoding_run-1_space-MNI152NLin6Asym_desc-smoothAROMAnonaggr_bold.nii.gz':\n",
    "        dm = Design_Matrix(pd.concat([csf, mc_cov, motionOutliers, nonsteadyOutlier, spikes.drop(labels='TR', axis=1)], axis=1), sampling_freq=1/tr)\n",
    "        dm = dm.add_poly(order=2, include_lower=True) # Add Intercept, Linear and Quadratic Trends\n",
    "        dm.heatmap()\n",
    "    else:\n",
    "        dm = Design_Matrix(pd.concat([csf, mc_cov, motionOutliers, spikes.drop(labels='TR', axis=1)], axis=1), sampling_freq=1/tr)\n",
    "        dm = dm.add_poly(order=2, include_lower=True) # Add Intercept, Linear and Quadratic Trends\n",
    "        dm.heatmap()\n",
    "    \n",
    "    smoothed.X = dm\n",
    "    stats = smoothed.regress()\n",
    "    stats['residual'].data = np.float32(stats['residual'].data) # cast as float32 to reduce storage space\n",
    "    stats['residual'].write(os.path.join(denoised_dir, f'{sub}_denoise_{task}_{run}_space-MNI152NLin6Asym_desc-preproc_bold.nii.gz'))\n",
    "    print( f'finisih_{task}_{run}_data')"
   ]
  },
  {
   "cell_type": "code",
   "execution_count": 38,
   "id": "fe2d5a3b-15cd-4a90-81bd-43a23ee9651b",
   "metadata": {
    "tags": []
   },
   "outputs": [],
   "source": [
    "# We also saved the denoised viewing data as an hdf5 file to speed up loading times when using nltools.\n",
    "\n",
    "file_list = glob.glob(os.path.join(result_dir, f'*AROMA*nii.gz'))\n",
    "for f in file_list:\n",
    "    data = Brain_Data(f)\n",
    "    data.write(f\"{f.split('.nii.gz')[0]}.hdf5\")"
   ]
  },
  {
   "cell_type": "code",
   "execution_count": 39,
   "id": "3a37533c-6fe2-460f-9f96-3e0dbb27314b",
   "metadata": {
    "collapsed": true,
    "jupyter": {
     "outputs_hidden": true
    },
    "tags": []
   },
   "outputs": [
    {
     "name": "stderr",
     "output_type": "stream",
     "text": [
      "/home/sincerely/.conda/envs/fmri01/lib/python3.7/site-packages/nilearn/masking.py:916: UserWarning: Data array used to create a new image contains 64-bit ints. This is likely due to creating the array with numpy and passing `int` as the `dtype`. Many tools such as FSL and SPM cannot deal with int64 in Nifti images, so for compatibility the data has been converted to int32.\n",
      "  return new_img_like(mask_img, unmasked, affine)\n"
     ]
    },
    {
     "name": "stdout",
     "output_type": "stream",
     "text": [
      "finish_sub-02_task-encoding_run-1\n",
      "finish_sub-02_task-encoding_run-2\n",
      "finish_sub-02_task-encoding_run-3\n",
      "finish_sub-02_task-encoding_run-4\n",
      "finish_sub-02_task-recall_run-1\n",
      "finish_sub-02_task-recall_run-2\n"
     ]
    }
   ],
   "source": [
    "# we have also precomputed average activations within a whole brain parcellation (n=50) \n",
    "\n",
    "mask = Brain_Data('http://neurovault.org/media/images/2099/Neurosynth%20Parcellation_0.nii.gz')\n",
    "\n",
    "file_list = glob.glob(os.path.join(result_dir, '*hdf5'))\n",
    "for f in file_list:\n",
    "    sub = os.path.basename(f).split('_')[0]\n",
    "    task = os.path.basename(f).split('_')[3]\n",
    "    run = os.path.basename(f).split('_')[4]\n",
    "    data = Brain_Data(f)\n",
    "    roi = data.extract_roi(mask)\n",
    "    pd.DataFrame(roi.T).to_csv(os.path.join(result_dir, f'{sub}_{task}_{run}_Average_ROI_n50.csv'), index=False)\n",
    "    print(f'finish_{sub}_{task}_{run}') "
   ]
  },
  {
   "cell_type": "code",
   "execution_count": 137,
   "id": "36df2946-3d67-4530-a272-ef0411e5d6a9",
   "metadata": {
    "collapsed": true,
    "jupyter": {
     "outputs_hidden": true
    },
    "tags": []
   },
   "outputs": [
    {
     "name": "stdout",
     "output_type": "stream",
     "text": [
      "/mnt/c/Users/since/Desktop/Kdrama/data/derivatives/sub-02/func/denoise/sub-02_denoise_AROMA_task-recall_run-2_space-MNI152NLin6Asym_desc-smoothAROMAnonaggr_bold.hdf5\n",
      "AROMA\n",
      "sub-02\n",
      "sub-02_denoise_AROMA_Average_ROI_n50.csv\n"
     ]
    },
    {
     "data": {
      "text/plain": [
       "['sub-02',\n",
       " 'denoise',\n",
       " 'AROMA',\n",
       " 'task-recall',\n",
       " 'run-2',\n",
       " 'space-MNI152NLin6Asym',\n",
       " 'desc-smoothAROMAnonaggr',\n",
       " 'bold.hdf5']"
      ]
     },
     "execution_count": 137,
     "metadata": {},
     "output_type": "execute_result"
    }
   ],
   "source": [
    "print(f)\n",
    "print(run)\n",
    "print(os.path.basename(f).split('_')[0])\n",
    "print(f'{sub}_{task}_{run}_Average_ROI_n50.csv')\n",
    "os.path.basename(f).split('_')"
   ]
  },
  {
   "cell_type": "markdown",
   "id": "8068ce9d-7138-4fbd-8ef7-311e82a4db24",
   "metadata": {
    "tags": []
   },
   "source": [
    "# Denoising Entire subjects"
   ]
  },
  {
   "cell_type": "code",
   "execution_count": 4,
   "id": "e07640bd-eb12-4518-ac4b-7ce9ae13a63c",
   "metadata": {},
   "outputs": [],
   "source": [
    "#subjects = ['10', '11', '12', '13', '14', '15', '16']  # 09 & 11 exclude \n",
    "subjects = ['17', '18', '19', '20', '21', '22', '23', '24', '25', '26', '27','28']\n",
    "fwhm = 6\n",
    "tr = 1.5\n",
    "outlier_cutoff = 3"
   ]
  },
  {
   "cell_type": "code",
   "execution_count": 5,
   "id": "ba745c9d-d5c1-4721-ad7b-b6f899135f0c",
   "metadata": {
    "collapsed": true,
    "jupyter": {
     "outputs_hidden": true
    },
    "tags": []
   },
   "outputs": [
    {
     "name": "stdout",
     "output_type": "stream",
     "text": [
      "17\n",
      "4\n",
      "finisih_sub-17_task-encoding_run-1_data\n",
      "finisih_sub-17_task-encoding_run-2_data\n",
      "finisih_sub-17_task-recall_run-1_data\n",
      "finisih_sub-17_task-recall_run-2_data\n",
      "18\n",
      "4\n",
      "finisih_sub-18_task-encoding_run-1_data\n",
      "finisih_sub-18_task-encoding_run-2_data\n",
      "finisih_sub-18_task-recall_run-1_data\n",
      "finisih_sub-18_task-recall_run-2_data\n",
      "19\n",
      "4\n",
      "finisih_sub-19_task-encoding_run-1_data\n",
      "finisih_sub-19_task-encoding_run-2_data\n",
      "finisih_sub-19_task-recall_run-1_data\n",
      "finisih_sub-19_task-recall_run-2_data\n",
      "20\n",
      "4\n",
      "finisih_sub-20_task-encoding_run-1_data\n",
      "finisih_sub-20_task-encoding_run-2_data\n",
      "finisih_sub-20_task-recall_run-1_data\n",
      "finisih_sub-20_task-recall_run-2_data\n",
      "21\n",
      "4\n",
      "finisih_sub-21_task-encoding_run-1_data\n",
      "finisih_sub-21_task-encoding_run-2_data\n",
      "finisih_sub-21_task-recall_run-1_data\n",
      "finisih_sub-21_task-recall_run-2_data\n",
      "22\n",
      "4\n",
      "finisih_sub-22_task-encoding_run-1_data\n",
      "finisih_sub-22_task-encoding_run-2_data\n",
      "finisih_sub-22_task-recall_run-1_data\n",
      "finisih_sub-22_task-recall_run-2_data\n",
      "23\n",
      "4\n",
      "finisih_sub-23_task-encoding_run-1_data\n",
      "finisih_sub-23_task-encoding_run-2_data\n",
      "finisih_sub-23_task-recall_run-1_data\n",
      "finisih_sub-23_task-recall_run-2_data\n",
      "24\n",
      "4\n",
      "finisih_sub-24_task-encoding_run-1_data\n",
      "finisih_sub-24_task-encoding_run-2_data\n",
      "finisih_sub-24_task-recall_run-1_data\n",
      "finisih_sub-24_task-recall_run-2_data\n",
      "25\n",
      "4\n",
      "finisih_sub-25_task-encoding_run-1_data\n",
      "finisih_sub-25_task-encoding_run-2_data\n",
      "finisih_sub-25_task-recall_run-1_data\n",
      "finisih_sub-25_task-recall_run-2_data\n",
      "26\n",
      "4\n",
      "finisih_sub-26_task-encoding_run-1_data\n",
      "finisih_sub-26_task-encoding_run-2_data\n",
      "finisih_sub-26_task-recall_run-1_data\n",
      "finisih_sub-26_task-recall_run-2_data\n",
      "27\n",
      "4\n",
      "finisih_sub-27_task-encoding_run-1_data\n",
      "finisih_sub-27_task-encoding_run-2_data\n",
      "finisih_sub-27_task-recall_run-1_data\n",
      "finisih_sub-27_task-recall_run-2_data\n",
      "28\n",
      "4\n",
      "finisih_sub-28_task-encoding_run-1_data\n",
      "finisih_sub-28_task-encoding_run-2_data\n",
      "finisih_sub-28_task-recall_run-1_data\n",
      "finisih_sub-28_task-recall_run-2_data\n"
     ]
    }
   ],
   "source": [
    "for s in subjects:\n",
    "    print(s)\n",
    "    file_list = glob.glob(os.path.join(data_dir, f'sub-{s}', 'func', '*preproc*.nii.gz'))\n",
    "    print(len(file_list))\n",
    "    for f in file_list:\n",
    "        sub = os.path.basename(f).split('_')[0]\n",
    "        task = os.path.basename(f).split('_')[1]\n",
    "        run = os.path.basename(f).split('_')[2]\n",
    "           \n",
    "        # if not os.path.exists(result_dir):\n",
    "        #     os.makedirs(result_dir)\n",
    "        csf = Brain_Data(glob.glob(os.path.join(data_dir, f'{sub}', 'anat', '*CSF*.nii.gz'))[1])\n",
    "        data = Brain_Data(f) #denoise \n",
    "        smoothed = data.smooth(fwhm=fwhm)   # Spatial smoothing \n",
    "        \n",
    "        spikes = smoothed.find_spikes(global_spike_cutoff=outlier_cutoff, diff_spike_cutoff=outlier_cutoff) #FD가 2std 초과하는 것들만 Outlier로 만들었다. \n",
    "        covariates = pd.read_csv(glob.glob(os.path.join(data_dir, sub, 'func', f'{sub}_{task}_{run}_desc-confounds_timeseries.tsv'))[0], sep='\\t') #Motion params !! \n",
    "        \n",
    "        mc = covariates[['trans_x','trans_y','trans_z','rot_x', 'rot_y', 'rot_z']]\n",
    "        mc_cov = make_motion_covariates(mc, tr)\n",
    "        motionOutliers = covariates.filter(regex='motion_outlier')\n",
    "        \n",
    "        csf = zscore(pd.Series(smoothed.extract_roi(csf.threshold(upper=0.85, binarize=True)))) # Use CSF from fmriprep output\n",
    "        \n",
    "        dm = Design_Matrix(pd.concat([csf, mc_cov, motionOutliers, spikes.drop(labels='TR', axis=1)], axis=1), sampling_freq=1/tr)\n",
    "        dm = dm.add_poly(order=2, include_lower=True) # Add Intercept, Linear and Quadratic Trends\n",
    "\n",
    "        smoothed.X = dm \n",
    "        stats = smoothed.regress()\n",
    "        stats['residual'].data = np.float32(stats['residual'].data) # cast as float32 to reduce storage space\n",
    "        stats['residual'].write(os.path.join(denoised_dir, f'{sub}_denoise_{task}_{run}_space-MNI152NLin6Asym_desc-preproc_bold.nii.gz'))\n",
    "        print( f'finisih_{sub}_{task}_{run}_data')"
   ]
  },
  {
   "cell_type": "markdown",
   "id": "aa371ede-eb2f-4d52-b8b8-3dd366db468a",
   "metadata": {
    "jp-MarkdownHeadingCollapsed": true,
    "tags": []
   },
   "source": [
    "# Make hdf5 file\n",
    "\n",
    "cropped denoised viewing data as an hdf5 file"
   ]
  },
  {
   "cell_type": "code",
   "execution_count": 6,
   "id": "61cb785f-a794-4e13-b6a7-022ffb4e5966",
   "metadata": {
    "tags": []
   },
   "outputs": [
    {
     "name": "stdout",
     "output_type": "stream",
     "text": [
      "finish/mnt/c/Users/since/Desktop/KdramaMay/analysis/denoised/sub-01_denoise_task-encoding_run-1_space-MNI152NLin6Asym_desc-preproc_bold.hdf5\n",
      "finish/mnt/c/Users/since/Desktop/KdramaMay/analysis/denoised/sub-01_denoise_task-encoding_run-2_space-MNI152NLin6Asym_desc-preproc_bold.hdf5\n",
      "finish/mnt/c/Users/since/Desktop/KdramaMay/analysis/denoised/sub-01_denoise_task-recall_run-1_space-MNI152NLin6Asym_desc-preproc_bold.hdf5\n",
      "finish/mnt/c/Users/since/Desktop/KdramaMay/analysis/denoised/sub-01_denoise_task-recall_run-2_space-MNI152NLin6Asym_desc-preproc_bold.hdf5\n",
      "finish/mnt/c/Users/since/Desktop/KdramaMay/analysis/denoised/sub-02_denoise_task-encoding_run-1_space-MNI152NLin6Asym_desc-preproc_bold.hdf5\n",
      "finish/mnt/c/Users/since/Desktop/KdramaMay/analysis/denoised/sub-02_denoise_task-encoding_run-2_space-MNI152NLin6Asym_desc-preproc_bold.hdf5\n",
      "finish/mnt/c/Users/since/Desktop/KdramaMay/analysis/denoised/sub-02_denoise_task-recall_run-1_space-MNI152NLin6Asym_desc-preproc_bold.hdf5\n",
      "finish/mnt/c/Users/since/Desktop/KdramaMay/analysis/denoised/sub-02_denoise_task-recall_run-2_space-MNI152NLin6Asym_desc-preproc_bold.hdf5\n",
      "finish/mnt/c/Users/since/Desktop/KdramaMay/analysis/denoised/sub-03_denoise_task-encoding_run-1_space-MNI152NLin6Asym_desc-preproc_bold.hdf5\n",
      "finish/mnt/c/Users/since/Desktop/KdramaMay/analysis/denoised/sub-03_denoise_task-encoding_run-2_space-MNI152NLin6Asym_desc-preproc_bold.hdf5\n",
      "finish/mnt/c/Users/since/Desktop/KdramaMay/analysis/denoised/sub-03_denoise_task-recall_run-1_space-MNI152NLin6Asym_desc-preproc_bold.hdf5\n",
      "finish/mnt/c/Users/since/Desktop/KdramaMay/analysis/denoised/sub-03_denoise_task-recall_run-2_space-MNI152NLin6Asym_desc-preproc_bold.hdf5\n",
      "finish/mnt/c/Users/since/Desktop/KdramaMay/analysis/denoised/sub-04_denoise_task-encoding_run-1_space-MNI152NLin6Asym_desc-preproc_bold.hdf5\n",
      "finish/mnt/c/Users/since/Desktop/KdramaMay/analysis/denoised/sub-04_denoise_task-encoding_run-2_space-MNI152NLin6Asym_desc-preproc_bold.hdf5\n",
      "finish/mnt/c/Users/since/Desktop/KdramaMay/analysis/denoised/sub-04_denoise_task-recall_run-1_space-MNI152NLin6Asym_desc-preproc_bold.hdf5\n",
      "finish/mnt/c/Users/since/Desktop/KdramaMay/analysis/denoised/sub-04_denoise_task-recall_run-2_space-MNI152NLin6Asym_desc-preproc_bold.hdf5\n",
      "finish/mnt/c/Users/since/Desktop/KdramaMay/analysis/denoised/sub-05_denoise_task-encoding_run-1_space-MNI152NLin6Asym_desc-preproc_bold.hdf5\n",
      "finish/mnt/c/Users/since/Desktop/KdramaMay/analysis/denoised/sub-05_denoise_task-encoding_run-2_space-MNI152NLin6Asym_desc-preproc_bold.hdf5\n",
      "finish/mnt/c/Users/since/Desktop/KdramaMay/analysis/denoised/sub-05_denoise_task-recall_run-1_space-MNI152NLin6Asym_desc-preproc_bold.hdf5\n",
      "finish/mnt/c/Users/since/Desktop/KdramaMay/analysis/denoised/sub-05_denoise_task-recall_run-2_space-MNI152NLin6Asym_desc-preproc_bold.hdf5\n",
      "finish/mnt/c/Users/since/Desktop/KdramaMay/analysis/denoised/sub-06_denoise_task-encoding_run-1_space-MNI152NLin6Asym_desc-preproc_bold.hdf5\n",
      "finish/mnt/c/Users/since/Desktop/KdramaMay/analysis/denoised/sub-06_denoise_task-encoding_run-2_space-MNI152NLin6Asym_desc-preproc_bold.hdf5\n",
      "finish/mnt/c/Users/since/Desktop/KdramaMay/analysis/denoised/sub-06_denoise_task-recall_run-1_space-MNI152NLin6Asym_desc-preproc_bold.hdf5\n",
      "finish/mnt/c/Users/since/Desktop/KdramaMay/analysis/denoised/sub-06_denoise_task-recall_run-2_space-MNI152NLin6Asym_desc-preproc_bold.hdf5\n",
      "finish/mnt/c/Users/since/Desktop/KdramaMay/analysis/denoised/sub-07_denoise_task-encoding_run-1_space-MNI152NLin6Asym_desc-preproc_bold.hdf5\n",
      "finish/mnt/c/Users/since/Desktop/KdramaMay/analysis/denoised/sub-07_denoise_task-encoding_run-2_space-MNI152NLin6Asym_desc-preproc_bold.hdf5\n",
      "finish/mnt/c/Users/since/Desktop/KdramaMay/analysis/denoised/sub-07_denoise_task-recall_run-1_space-MNI152NLin6Asym_desc-preproc_bold.hdf5\n",
      "finish/mnt/c/Users/since/Desktop/KdramaMay/analysis/denoised/sub-07_denoise_task-recall_run-2_space-MNI152NLin6Asym_desc-preproc_bold.hdf5\n",
      "finish/mnt/c/Users/since/Desktop/KdramaMay/analysis/denoised/sub-08_denoise_task-encoding_run-1_space-MNI152NLin6Asym_desc-preproc_bold.hdf5\n",
      "finish/mnt/c/Users/since/Desktop/KdramaMay/analysis/denoised/sub-08_denoise_task-encoding_run-2_space-MNI152NLin6Asym_desc-preproc_bold.hdf5\n",
      "finish/mnt/c/Users/since/Desktop/KdramaMay/analysis/denoised/sub-08_denoise_task-recall_run-1_space-MNI152NLin6Asym_desc-preproc_bold.hdf5\n",
      "finish/mnt/c/Users/since/Desktop/KdramaMay/analysis/denoised/sub-08_denoise_task-recall_run-2_space-MNI152NLin6Asym_desc-preproc_bold.hdf5\n",
      "finish/mnt/c/Users/since/Desktop/KdramaMay/analysis/denoised/sub-10_denoise_task-encoding_run-1_space-MNI152NLin6Asym_desc-preproc_bold.hdf5\n",
      "finish/mnt/c/Users/since/Desktop/KdramaMay/analysis/denoised/sub-10_denoise_task-encoding_run-2_space-MNI152NLin6Asym_desc-preproc_bold.hdf5\n",
      "finish/mnt/c/Users/since/Desktop/KdramaMay/analysis/denoised/sub-10_denoise_task-recall_run-1_space-MNI152NLin6Asym_desc-preproc_bold.hdf5\n",
      "finish/mnt/c/Users/since/Desktop/KdramaMay/analysis/denoised/sub-10_denoise_task-recall_run-2_space-MNI152NLin6Asym_desc-preproc_bold.hdf5\n",
      "finish/mnt/c/Users/since/Desktop/KdramaMay/analysis/denoised/sub-11_denoise_task-encoding_run-1_space-MNI152NLin6Asym_desc-preproc_bold.hdf5\n",
      "finish/mnt/c/Users/since/Desktop/KdramaMay/analysis/denoised/sub-11_denoise_task-encoding_run-2_space-MNI152NLin6Asym_desc-preproc_bold.hdf5\n",
      "finish/mnt/c/Users/since/Desktop/KdramaMay/analysis/denoised/sub-11_denoise_task-recall_run-1_space-MNI152NLin6Asym_desc-preproc_bold.hdf5\n",
      "finish/mnt/c/Users/since/Desktop/KdramaMay/analysis/denoised/sub-11_denoise_task-recall_run-2_space-MNI152NLin6Asym_desc-preproc_bold.hdf5\n",
      "finish/mnt/c/Users/since/Desktop/KdramaMay/analysis/denoised/sub-12_denoise_task-encoding_run-1_space-MNI152NLin6Asym_desc-preproc_bold.hdf5\n",
      "finish/mnt/c/Users/since/Desktop/KdramaMay/analysis/denoised/sub-12_denoise_task-encoding_run-2_space-MNI152NLin6Asym_desc-preproc_bold.hdf5\n",
      "finish/mnt/c/Users/since/Desktop/KdramaMay/analysis/denoised/sub-12_denoise_task-recall_run-1_space-MNI152NLin6Asym_desc-preproc_bold.hdf5\n",
      "finish/mnt/c/Users/since/Desktop/KdramaMay/analysis/denoised/sub-12_denoise_task-recall_run-2_space-MNI152NLin6Asym_desc-preproc_bold.hdf5\n",
      "finish/mnt/c/Users/since/Desktop/KdramaMay/analysis/denoised/sub-13_denoise_task-encoding_run-1_space-MNI152NLin6Asym_desc-preproc_bold.hdf5\n",
      "finish/mnt/c/Users/since/Desktop/KdramaMay/analysis/denoised/sub-13_denoise_task-encoding_run-2_space-MNI152NLin6Asym_desc-preproc_bold.hdf5\n",
      "finish/mnt/c/Users/since/Desktop/KdramaMay/analysis/denoised/sub-13_denoise_task-recall_run-1_space-MNI152NLin6Asym_desc-preproc_bold.hdf5\n",
      "finish/mnt/c/Users/since/Desktop/KdramaMay/analysis/denoised/sub-13_denoise_task-recall_run-2_space-MNI152NLin6Asym_desc-preproc_bold.hdf5\n",
      "finish/mnt/c/Users/since/Desktop/KdramaMay/analysis/denoised/sub-14_denoise_task-encoding_run-1_space-MNI152NLin6Asym_desc-preproc_bold.hdf5\n",
      "finish/mnt/c/Users/since/Desktop/KdramaMay/analysis/denoised/sub-14_denoise_task-encoding_run-2_space-MNI152NLin6Asym_desc-preproc_bold.hdf5\n",
      "finish/mnt/c/Users/since/Desktop/KdramaMay/analysis/denoised/sub-14_denoise_task-recall_run-1_space-MNI152NLin6Asym_desc-preproc_bold.hdf5\n",
      "finish/mnt/c/Users/since/Desktop/KdramaMay/analysis/denoised/sub-14_denoise_task-recall_run-2_space-MNI152NLin6Asym_desc-preproc_bold.hdf5\n",
      "finish/mnt/c/Users/since/Desktop/KdramaMay/analysis/denoised/sub-15_denoise_task-encoding_run-1_space-MNI152NLin6Asym_desc-preproc_bold.hdf5\n",
      "finish/mnt/c/Users/since/Desktop/KdramaMay/analysis/denoised/sub-15_denoise_task-encoding_run-2_space-MNI152NLin6Asym_desc-preproc_bold.hdf5\n",
      "finish/mnt/c/Users/since/Desktop/KdramaMay/analysis/denoised/sub-15_denoise_task-recall_run-1_space-MNI152NLin6Asym_desc-preproc_bold.hdf5\n",
      "finish/mnt/c/Users/since/Desktop/KdramaMay/analysis/denoised/sub-15_denoise_task-recall_run-2_space-MNI152NLin6Asym_desc-preproc_bold.hdf5\n",
      "finish/mnt/c/Users/since/Desktop/KdramaMay/analysis/denoised/sub-16_denoise_task-encoding_run-1_space-MNI152NLin6Asym_desc-preproc_bold.hdf5\n",
      "finish/mnt/c/Users/since/Desktop/KdramaMay/analysis/denoised/sub-16_denoise_task-encoding_run-2_space-MNI152NLin6Asym_desc-preproc_bold.hdf5\n",
      "finish/mnt/c/Users/since/Desktop/KdramaMay/analysis/denoised/sub-16_denoise_task-recall_run-1_space-MNI152NLin6Asym_desc-preproc_bold.hdf5\n",
      "finish/mnt/c/Users/since/Desktop/KdramaMay/analysis/denoised/sub-16_denoise_task-recall_run-2_space-MNI152NLin6Asym_desc-preproc_bold.hdf5\n",
      "finish/mnt/c/Users/since/Desktop/KdramaMay/analysis/denoised/sub-17_denoise_task-encoding_run-1_space-MNI152NLin6Asym_desc-preproc_bold.hdf5\n",
      "finish/mnt/c/Users/since/Desktop/KdramaMay/analysis/denoised/sub-17_denoise_task-encoding_run-2_space-MNI152NLin6Asym_desc-preproc_bold.hdf5\n",
      "finish/mnt/c/Users/since/Desktop/KdramaMay/analysis/denoised/sub-17_denoise_task-recall_run-1_space-MNI152NLin6Asym_desc-preproc_bold.hdf5\n",
      "finish/mnt/c/Users/since/Desktop/KdramaMay/analysis/denoised/sub-17_denoise_task-recall_run-2_space-MNI152NLin6Asym_desc-preproc_bold.hdf5\n",
      "finish/mnt/c/Users/since/Desktop/KdramaMay/analysis/denoised/sub-18_denoise_task-encoding_run-1_space-MNI152NLin6Asym_desc-preproc_bold.hdf5\n",
      "finish/mnt/c/Users/since/Desktop/KdramaMay/analysis/denoised/sub-18_denoise_task-encoding_run-2_space-MNI152NLin6Asym_desc-preproc_bold.hdf5\n",
      "finish/mnt/c/Users/since/Desktop/KdramaMay/analysis/denoised/sub-18_denoise_task-recall_run-1_space-MNI152NLin6Asym_desc-preproc_bold.hdf5\n",
      "finish/mnt/c/Users/since/Desktop/KdramaMay/analysis/denoised/sub-18_denoise_task-recall_run-2_space-MNI152NLin6Asym_desc-preproc_bold.hdf5\n",
      "finish/mnt/c/Users/since/Desktop/KdramaMay/analysis/denoised/sub-19_denoise_task-encoding_run-1_space-MNI152NLin6Asym_desc-preproc_bold.hdf5\n",
      "finish/mnt/c/Users/since/Desktop/KdramaMay/analysis/denoised/sub-19_denoise_task-encoding_run-2_space-MNI152NLin6Asym_desc-preproc_bold.hdf5\n",
      "finish/mnt/c/Users/since/Desktop/KdramaMay/analysis/denoised/sub-19_denoise_task-recall_run-1_space-MNI152NLin6Asym_desc-preproc_bold.hdf5\n",
      "finish/mnt/c/Users/since/Desktop/KdramaMay/analysis/denoised/sub-19_denoise_task-recall_run-2_space-MNI152NLin6Asym_desc-preproc_bold.hdf5\n",
      "finish/mnt/c/Users/since/Desktop/KdramaMay/analysis/denoised/sub-20_denoise_task-encoding_run-1_space-MNI152NLin6Asym_desc-preproc_bold.hdf5\n",
      "finish/mnt/c/Users/since/Desktop/KdramaMay/analysis/denoised/sub-20_denoise_task-encoding_run-2_space-MNI152NLin6Asym_desc-preproc_bold.hdf5\n",
      "finish/mnt/c/Users/since/Desktop/KdramaMay/analysis/denoised/sub-20_denoise_task-recall_run-1_space-MNI152NLin6Asym_desc-preproc_bold.hdf5\n",
      "finish/mnt/c/Users/since/Desktop/KdramaMay/analysis/denoised/sub-20_denoise_task-recall_run-2_space-MNI152NLin6Asym_desc-preproc_bold.hdf5\n",
      "finish/mnt/c/Users/since/Desktop/KdramaMay/analysis/denoised/sub-21_denoise_task-encoding_run-1_space-MNI152NLin6Asym_desc-preproc_bold.hdf5\n",
      "finish/mnt/c/Users/since/Desktop/KdramaMay/analysis/denoised/sub-21_denoise_task-encoding_run-2_space-MNI152NLin6Asym_desc-preproc_bold.hdf5\n",
      "finish/mnt/c/Users/since/Desktop/KdramaMay/analysis/denoised/sub-21_denoise_task-recall_run-1_space-MNI152NLin6Asym_desc-preproc_bold.hdf5\n",
      "finish/mnt/c/Users/since/Desktop/KdramaMay/analysis/denoised/sub-21_denoise_task-recall_run-2_space-MNI152NLin6Asym_desc-preproc_bold.hdf5\n",
      "finish/mnt/c/Users/since/Desktop/KdramaMay/analysis/denoised/sub-22_denoise_task-encoding_run-1_space-MNI152NLin6Asym_desc-preproc_bold.hdf5\n",
      "finish/mnt/c/Users/since/Desktop/KdramaMay/analysis/denoised/sub-22_denoise_task-encoding_run-2_space-MNI152NLin6Asym_desc-preproc_bold.hdf5\n",
      "finish/mnt/c/Users/since/Desktop/KdramaMay/analysis/denoised/sub-22_denoise_task-recall_run-1_space-MNI152NLin6Asym_desc-preproc_bold.hdf5\n",
      "finish/mnt/c/Users/since/Desktop/KdramaMay/analysis/denoised/sub-22_denoise_task-recall_run-2_space-MNI152NLin6Asym_desc-preproc_bold.hdf5\n",
      "finish/mnt/c/Users/since/Desktop/KdramaMay/analysis/denoised/sub-23_denoise_task-encoding_run-1_space-MNI152NLin6Asym_desc-preproc_bold.hdf5\n",
      "finish/mnt/c/Users/since/Desktop/KdramaMay/analysis/denoised/sub-23_denoise_task-encoding_run-2_space-MNI152NLin6Asym_desc-preproc_bold.hdf5\n",
      "finish/mnt/c/Users/since/Desktop/KdramaMay/analysis/denoised/sub-23_denoise_task-recall_run-1_space-MNI152NLin6Asym_desc-preproc_bold.hdf5\n",
      "finish/mnt/c/Users/since/Desktop/KdramaMay/analysis/denoised/sub-23_denoise_task-recall_run-2_space-MNI152NLin6Asym_desc-preproc_bold.hdf5\n",
      "finish/mnt/c/Users/since/Desktop/KdramaMay/analysis/denoised/sub-24_denoise_task-encoding_run-1_space-MNI152NLin6Asym_desc-preproc_bold.hdf5\n",
      "finish/mnt/c/Users/since/Desktop/KdramaMay/analysis/denoised/sub-24_denoise_task-encoding_run-2_space-MNI152NLin6Asym_desc-preproc_bold.hdf5\n",
      "finish/mnt/c/Users/since/Desktop/KdramaMay/analysis/denoised/sub-24_denoise_task-recall_run-1_space-MNI152NLin6Asym_desc-preproc_bold.hdf5\n",
      "finish/mnt/c/Users/since/Desktop/KdramaMay/analysis/denoised/sub-24_denoise_task-recall_run-2_space-MNI152NLin6Asym_desc-preproc_bold.hdf5\n",
      "finish/mnt/c/Users/since/Desktop/KdramaMay/analysis/denoised/sub-25_denoise_task-encoding_run-1_space-MNI152NLin6Asym_desc-preproc_bold.hdf5\n",
      "finish/mnt/c/Users/since/Desktop/KdramaMay/analysis/denoised/sub-25_denoise_task-encoding_run-2_space-MNI152NLin6Asym_desc-preproc_bold.hdf5\n",
      "finish/mnt/c/Users/since/Desktop/KdramaMay/analysis/denoised/sub-25_denoise_task-recall_run-1_space-MNI152NLin6Asym_desc-preproc_bold.hdf5\n",
      "finish/mnt/c/Users/since/Desktop/KdramaMay/analysis/denoised/sub-25_denoise_task-recall_run-2_space-MNI152NLin6Asym_desc-preproc_bold.hdf5\n",
      "finish/mnt/c/Users/since/Desktop/KdramaMay/analysis/denoised/sub-26_denoise_task-encoding_run-1_space-MNI152NLin6Asym_desc-preproc_bold.hdf5\n",
      "finish/mnt/c/Users/since/Desktop/KdramaMay/analysis/denoised/sub-26_denoise_task-encoding_run-2_space-MNI152NLin6Asym_desc-preproc_bold.hdf5\n",
      "finish/mnt/c/Users/since/Desktop/KdramaMay/analysis/denoised/sub-26_denoise_task-recall_run-1_space-MNI152NLin6Asym_desc-preproc_bold.hdf5\n",
      "finish/mnt/c/Users/since/Desktop/KdramaMay/analysis/denoised/sub-26_denoise_task-recall_run-2_space-MNI152NLin6Asym_desc-preproc_bold.hdf5\n",
      "finish/mnt/c/Users/since/Desktop/KdramaMay/analysis/denoised/sub-27_denoise_task-encoding_run-1_space-MNI152NLin6Asym_desc-preproc_bold.hdf5\n",
      "finish/mnt/c/Users/since/Desktop/KdramaMay/analysis/denoised/sub-27_denoise_task-encoding_run-2_space-MNI152NLin6Asym_desc-preproc_bold.hdf5\n",
      "finish/mnt/c/Users/since/Desktop/KdramaMay/analysis/denoised/sub-27_denoise_task-recall_run-1_space-MNI152NLin6Asym_desc-preproc_bold.hdf5\n",
      "finish/mnt/c/Users/since/Desktop/KdramaMay/analysis/denoised/sub-27_denoise_task-recall_run-2_space-MNI152NLin6Asym_desc-preproc_bold.hdf5\n",
      "finish/mnt/c/Users/since/Desktop/KdramaMay/analysis/denoised/sub-28_denoise_task-encoding_run-1_space-MNI152NLin6Asym_desc-preproc_bold.hdf5\n",
      "finish/mnt/c/Users/since/Desktop/KdramaMay/analysis/denoised/sub-28_denoise_task-encoding_run-2_space-MNI152NLin6Asym_desc-preproc_bold.hdf5\n",
      "finish/mnt/c/Users/since/Desktop/KdramaMay/analysis/denoised/sub-28_denoise_task-recall_run-1_space-MNI152NLin6Asym_desc-preproc_bold.hdf5\n",
      "finish/mnt/c/Users/since/Desktop/KdramaMay/analysis/denoised/sub-28_denoise_task-recall_run-2_space-MNI152NLin6Asym_desc-preproc_bold.hdf5\n"
     ]
    }
   ],
   "source": [
    "# We also saved the denoised viewing data as an hdf5 file to speed up loading times when using nltools.\n",
    "#subjects = ['01', '02', '03', '04', '05', '06', '07', '08']\n",
    "#for s in subjects:\n",
    "file_list = glob.glob(os.path.join(denoised_dir, f'sub-{subjects}*.nii.gz'))\n",
    "#print(file_list)\n",
    "for f in file_list:\n",
    "    data = Brain_Data(f)\n",
    "    data.write(f\"{f.split('.nii.gz')[0]}.hdf5\")\n",
    "    print('finish'+f\"{f.split('.nii.gz')[0]}.hdf5\")"
   ]
  },
  {
   "cell_type": "markdown",
   "id": "70313baf-451e-44a7-bb59-9feb66729ea8",
   "metadata": {
    "tags": []
   },
   "source": [
    "# Get each ROIs"
   ]
  },
  {
   "cell_type": "code",
   "execution_count": 3,
   "id": "6e7f0474-dabd-4457-a23f-d8da550f426b",
   "metadata": {
    "tags": []
   },
   "outputs": [
    {
     "name": "stderr",
     "output_type": "stream",
     "text": [
      "/home/sincerely/.conda/envs/fmri01/lib/python3.7/site-packages/nilearn/masking.py:858: UserWarning: Data array used to create a new image contains 64-bit ints. This is likely due to creating the array with numpy and passing `int` as the `dtype`. Many tools such as FSL and SPM cannot deal with int64 in Nifti images, so for compatibility the data has been converted to int32.\n",
      "  return new_img_like(mask_img, unmasked, affine)\n"
     ]
    }
   ],
   "source": [
    "mask_path = os.path.join(base_dir,'analysis', 'Masks', 'Neurosynth_Parcellation_0.nii.gz') #3iso 짜리, Dartbrain에서 사용한 ROI인데 cortex 쪽에만 존재한다. \n",
    "mask = Brain_Data(mask_path)\n",
    "mask_x = expand_mask(mask)\n",
    "\n",
    "file_list = glob.glob(os.path.join(denoised_dir, f'*.hdf5'))\n",
    "for f in file_list:\n",
    "    sub = os.path.basename(f).split('_')[0]\n",
    "    task = os.path.basename(f).split('_')[2]\n",
    "    run = os.path.basename(f).split('_')[3]    \n",
    "    data = Brain_Data(f)\n",
    "    for i,m in enumerate(mask_x):\n",
    "        roi = data.apply_mask(m)\n",
    "        pd.DataFrame(roi.data).to_csv(os.path.join(denoised_dir, 'ROIs', f'{sub}_{task}_{run}_denoised_roi{i}.csv' ), index=False)"
   ]
  },
  {
   "cell_type": "markdown",
   "id": "324d5729-6ffe-4ece-9c7f-c2299559fe52",
   "metadata": {
    "jp-MarkdownHeadingCollapsed": true,
    "tags": []
   },
   "source": [
    "## Check ROI size whether it is 3 iso"
   ]
  },
  {
   "cell_type": "code",
   "execution_count": 10,
   "id": "2cf9d937-c3a4-425d-a158-2e5772ad5885",
   "metadata": {},
   "outputs": [],
   "source": [
    "import os \n",
    "import nibabel as nib\n",
    "import numpy as np\n",
    "\n",
    "# Load the NIfTI file\n",
    "file_path = os.path.join(base_dir, 'analysis', 'Masks', \"Neurosynth_Parcellation_0.nii.gz\")\n",
    "img = nib.load(file_path)\n",
    "\n",
    "# Get the image data and header\n",
    "data = img.get_fdata()\n",
    "header = img.header\n",
    "\n",
    "# Update the voxel dimensions\n",
    "current_voxel_dims = header[\"pixdim\"][1:4]  # Get the current voxel dimensions"
   ]
  },
  {
   "cell_type": "markdown",
   "id": "d240c683-0cbf-4744-b58d-22288414f524",
   "metadata": {
    "jp-MarkdownHeadingCollapsed": true,
    "tags": []
   },
   "source": [
    "# Get Averaged ROIs"
   ]
  },
  {
   "cell_type": "code",
   "execution_count": 7,
   "id": "3ece836e-2d6b-4efa-bde9-62e27266a116",
   "metadata": {
    "tags": []
   },
   "outputs": [
    {
     "name": "stdout",
     "output_type": "stream",
     "text": [
      "17\n",
      "['/mnt/c/Users/since/Desktop/KdramaMay/analysis/denoised/sub-17_denoise_task-encoding_run-1_space-MNI152NLin6Asym_desc-preproc_bold.hdf5', '/mnt/c/Users/since/Desktop/KdramaMay/analysis/denoised/sub-17_denoise_task-encoding_run-2_space-MNI152NLin6Asym_desc-preproc_bold.hdf5', '/mnt/c/Users/since/Desktop/KdramaMay/analysis/denoised/sub-17_denoise_task-recall_run-1_space-MNI152NLin6Asym_desc-preproc_bold.hdf5', '/mnt/c/Users/since/Desktop/KdramaMay/analysis/denoised/sub-17_denoise_task-recall_run-2_space-MNI152NLin6Asym_desc-preproc_bold.hdf5']\n"
     ]
    },
    {
     "name": "stderr",
     "output_type": "stream",
     "text": [
      "/home/sincerely/.conda/envs/ISC/lib/python3.7/site-packages/nilearn/masking.py:858: UserWarning: Data array used to create a new image contains 64-bit ints. This is likely due to creating the array with numpy and passing `int` as the `dtype`. Many tools such as FSL and SPM cannot deal with int64 in Nifti images, so for compatibility the data has been converted to int32.\n",
      "  return new_img_like(mask_img, unmasked, affine)\n"
     ]
    },
    {
     "name": "stdout",
     "output_type": "stream",
     "text": [
      "finish_sub-17_task-encoding_run-1\n",
      "finish_sub-17_task-encoding_run-2\n",
      "finish_sub-17_task-recall_run-1\n",
      "finish_sub-17_task-recall_run-2\n",
      "18\n",
      "['/mnt/c/Users/since/Desktop/KdramaMay/analysis/denoised/sub-18_denoise_task-encoding_run-1_space-MNI152NLin6Asym_desc-preproc_bold.hdf5', '/mnt/c/Users/since/Desktop/KdramaMay/analysis/denoised/sub-18_denoise_task-encoding_run-2_space-MNI152NLin6Asym_desc-preproc_bold.hdf5', '/mnt/c/Users/since/Desktop/KdramaMay/analysis/denoised/sub-18_denoise_task-recall_run-1_space-MNI152NLin6Asym_desc-preproc_bold.hdf5', '/mnt/c/Users/since/Desktop/KdramaMay/analysis/denoised/sub-18_denoise_task-recall_run-2_space-MNI152NLin6Asym_desc-preproc_bold.hdf5']\n",
      "finish_sub-18_task-encoding_run-1\n",
      "finish_sub-18_task-encoding_run-2\n",
      "finish_sub-18_task-recall_run-1\n",
      "finish_sub-18_task-recall_run-2\n",
      "19\n",
      "['/mnt/c/Users/since/Desktop/KdramaMay/analysis/denoised/sub-19_denoise_task-encoding_run-1_space-MNI152NLin6Asym_desc-preproc_bold.hdf5', '/mnt/c/Users/since/Desktop/KdramaMay/analysis/denoised/sub-19_denoise_task-encoding_run-2_space-MNI152NLin6Asym_desc-preproc_bold.hdf5', '/mnt/c/Users/since/Desktop/KdramaMay/analysis/denoised/sub-19_denoise_task-recall_run-1_space-MNI152NLin6Asym_desc-preproc_bold.hdf5', '/mnt/c/Users/since/Desktop/KdramaMay/analysis/denoised/sub-19_denoise_task-recall_run-2_space-MNI152NLin6Asym_desc-preproc_bold.hdf5']\n",
      "finish_sub-19_task-encoding_run-1\n",
      "finish_sub-19_task-encoding_run-2\n",
      "finish_sub-19_task-recall_run-1\n",
      "finish_sub-19_task-recall_run-2\n",
      "20\n",
      "['/mnt/c/Users/since/Desktop/KdramaMay/analysis/denoised/sub-20_denoise_task-encoding_run-1_space-MNI152NLin6Asym_desc-preproc_bold.hdf5', '/mnt/c/Users/since/Desktop/KdramaMay/analysis/denoised/sub-20_denoise_task-encoding_run-2_space-MNI152NLin6Asym_desc-preproc_bold.hdf5', '/mnt/c/Users/since/Desktop/KdramaMay/analysis/denoised/sub-20_denoise_task-recall_run-1_space-MNI152NLin6Asym_desc-preproc_bold.hdf5', '/mnt/c/Users/since/Desktop/KdramaMay/analysis/denoised/sub-20_denoise_task-recall_run-2_space-MNI152NLin6Asym_desc-preproc_bold.hdf5']\n",
      "finish_sub-20_task-encoding_run-1\n",
      "finish_sub-20_task-encoding_run-2\n",
      "finish_sub-20_task-recall_run-1\n",
      "finish_sub-20_task-recall_run-2\n",
      "21\n",
      "['/mnt/c/Users/since/Desktop/KdramaMay/analysis/denoised/sub-21_denoise_task-encoding_run-1_space-MNI152NLin6Asym_desc-preproc_bold.hdf5', '/mnt/c/Users/since/Desktop/KdramaMay/analysis/denoised/sub-21_denoise_task-encoding_run-2_space-MNI152NLin6Asym_desc-preproc_bold.hdf5', '/mnt/c/Users/since/Desktop/KdramaMay/analysis/denoised/sub-21_denoise_task-recall_run-1_space-MNI152NLin6Asym_desc-preproc_bold.hdf5', '/mnt/c/Users/since/Desktop/KdramaMay/analysis/denoised/sub-21_denoise_task-recall_run-2_space-MNI152NLin6Asym_desc-preproc_bold.hdf5']\n",
      "finish_sub-21_task-encoding_run-1\n",
      "finish_sub-21_task-encoding_run-2\n",
      "finish_sub-21_task-recall_run-1\n",
      "finish_sub-21_task-recall_run-2\n",
      "22\n",
      "['/mnt/c/Users/since/Desktop/KdramaMay/analysis/denoised/sub-22_denoise_task-encoding_run-1_space-MNI152NLin6Asym_desc-preproc_bold.hdf5', '/mnt/c/Users/since/Desktop/KdramaMay/analysis/denoised/sub-22_denoise_task-encoding_run-2_space-MNI152NLin6Asym_desc-preproc_bold.hdf5', '/mnt/c/Users/since/Desktop/KdramaMay/analysis/denoised/sub-22_denoise_task-recall_run-1_space-MNI152NLin6Asym_desc-preproc_bold.hdf5', '/mnt/c/Users/since/Desktop/KdramaMay/analysis/denoised/sub-22_denoise_task-recall_run-2_space-MNI152NLin6Asym_desc-preproc_bold.hdf5']\n",
      "finish_sub-22_task-encoding_run-1\n",
      "finish_sub-22_task-encoding_run-2\n",
      "finish_sub-22_task-recall_run-1\n",
      "finish_sub-22_task-recall_run-2\n",
      "23\n",
      "['/mnt/c/Users/since/Desktop/KdramaMay/analysis/denoised/sub-23_denoise_task-encoding_run-1_space-MNI152NLin6Asym_desc-preproc_bold.hdf5', '/mnt/c/Users/since/Desktop/KdramaMay/analysis/denoised/sub-23_denoise_task-encoding_run-2_space-MNI152NLin6Asym_desc-preproc_bold.hdf5', '/mnt/c/Users/since/Desktop/KdramaMay/analysis/denoised/sub-23_denoise_task-recall_run-1_space-MNI152NLin6Asym_desc-preproc_bold.hdf5', '/mnt/c/Users/since/Desktop/KdramaMay/analysis/denoised/sub-23_denoise_task-recall_run-2_space-MNI152NLin6Asym_desc-preproc_bold.hdf5']\n",
      "finish_sub-23_task-encoding_run-1\n",
      "finish_sub-23_task-encoding_run-2\n",
      "finish_sub-23_task-recall_run-1\n",
      "finish_sub-23_task-recall_run-2\n",
      "24\n",
      "['/mnt/c/Users/since/Desktop/KdramaMay/analysis/denoised/sub-24_denoise_task-encoding_run-1_space-MNI152NLin6Asym_desc-preproc_bold.hdf5', '/mnt/c/Users/since/Desktop/KdramaMay/analysis/denoised/sub-24_denoise_task-encoding_run-2_space-MNI152NLin6Asym_desc-preproc_bold.hdf5', '/mnt/c/Users/since/Desktop/KdramaMay/analysis/denoised/sub-24_denoise_task-recall_run-1_space-MNI152NLin6Asym_desc-preproc_bold.hdf5', '/mnt/c/Users/since/Desktop/KdramaMay/analysis/denoised/sub-24_denoise_task-recall_run-2_space-MNI152NLin6Asym_desc-preproc_bold.hdf5']\n",
      "finish_sub-24_task-encoding_run-1\n",
      "finish_sub-24_task-encoding_run-2\n",
      "finish_sub-24_task-recall_run-1\n",
      "finish_sub-24_task-recall_run-2\n",
      "25\n",
      "['/mnt/c/Users/since/Desktop/KdramaMay/analysis/denoised/sub-25_denoise_task-encoding_run-1_space-MNI152NLin6Asym_desc-preproc_bold.hdf5', '/mnt/c/Users/since/Desktop/KdramaMay/analysis/denoised/sub-25_denoise_task-encoding_run-2_space-MNI152NLin6Asym_desc-preproc_bold.hdf5', '/mnt/c/Users/since/Desktop/KdramaMay/analysis/denoised/sub-25_denoise_task-recall_run-1_space-MNI152NLin6Asym_desc-preproc_bold.hdf5', '/mnt/c/Users/since/Desktop/KdramaMay/analysis/denoised/sub-25_denoise_task-recall_run-2_space-MNI152NLin6Asym_desc-preproc_bold.hdf5']\n",
      "finish_sub-25_task-encoding_run-1\n",
      "finish_sub-25_task-encoding_run-2\n",
      "finish_sub-25_task-recall_run-1\n",
      "finish_sub-25_task-recall_run-2\n",
      "26\n",
      "['/mnt/c/Users/since/Desktop/KdramaMay/analysis/denoised/sub-26_denoise_task-encoding_run-1_space-MNI152NLin6Asym_desc-preproc_bold.hdf5', '/mnt/c/Users/since/Desktop/KdramaMay/analysis/denoised/sub-26_denoise_task-encoding_run-2_space-MNI152NLin6Asym_desc-preproc_bold.hdf5', '/mnt/c/Users/since/Desktop/KdramaMay/analysis/denoised/sub-26_denoise_task-recall_run-1_space-MNI152NLin6Asym_desc-preproc_bold.hdf5', '/mnt/c/Users/since/Desktop/KdramaMay/analysis/denoised/sub-26_denoise_task-recall_run-2_space-MNI152NLin6Asym_desc-preproc_bold.hdf5']\n",
      "finish_sub-26_task-encoding_run-1\n",
      "finish_sub-26_task-encoding_run-2\n",
      "finish_sub-26_task-recall_run-1\n",
      "finish_sub-26_task-recall_run-2\n",
      "27\n",
      "['/mnt/c/Users/since/Desktop/KdramaMay/analysis/denoised/sub-27_denoise_task-encoding_run-1_space-MNI152NLin6Asym_desc-preproc_bold.hdf5', '/mnt/c/Users/since/Desktop/KdramaMay/analysis/denoised/sub-27_denoise_task-encoding_run-2_space-MNI152NLin6Asym_desc-preproc_bold.hdf5', '/mnt/c/Users/since/Desktop/KdramaMay/analysis/denoised/sub-27_denoise_task-recall_run-1_space-MNI152NLin6Asym_desc-preproc_bold.hdf5', '/mnt/c/Users/since/Desktop/KdramaMay/analysis/denoised/sub-27_denoise_task-recall_run-2_space-MNI152NLin6Asym_desc-preproc_bold.hdf5']\n",
      "finish_sub-27_task-encoding_run-1\n",
      "finish_sub-27_task-encoding_run-2\n",
      "finish_sub-27_task-recall_run-1\n",
      "finish_sub-27_task-recall_run-2\n",
      "28\n",
      "['/mnt/c/Users/since/Desktop/KdramaMay/analysis/denoised/sub-28_denoise_task-encoding_run-1_space-MNI152NLin6Asym_desc-preproc_bold.hdf5', '/mnt/c/Users/since/Desktop/KdramaMay/analysis/denoised/sub-28_denoise_task-encoding_run-2_space-MNI152NLin6Asym_desc-preproc_bold.hdf5', '/mnt/c/Users/since/Desktop/KdramaMay/analysis/denoised/sub-28_denoise_task-recall_run-1_space-MNI152NLin6Asym_desc-preproc_bold.hdf5', '/mnt/c/Users/since/Desktop/KdramaMay/analysis/denoised/sub-28_denoise_task-recall_run-2_space-MNI152NLin6Asym_desc-preproc_bold.hdf5']\n",
      "finish_sub-28_task-encoding_run-1\n",
      "finish_sub-28_task-encoding_run-2\n",
      "finish_sub-28_task-recall_run-1\n",
      "finish_sub-28_task-recall_run-2\n"
     ]
    }
   ],
   "source": [
    "# we have also precomputed average activations within a whole brain parcellation (n=50) \n",
    "mask = Brain_Data('http://neurovault.org/media/images/2099/Neurosynth%20Parcellation_0.nii.gz')\n",
    "#mask = Brain_Data(os.path.join(base_dir,'analysis', 'Masks', 'k50_2mm.nii.gz'))\n",
    "#mask_x = expand_mask(mask)\n",
    "#subjects = ['sub-01', 'sub-02', 'sub-03', 'sub-05']\n",
    "#for s in subjects:\n",
    "    #result_dir = os.path.join(data_dir, f'sub-{s}', 'func', 'denoise')\n",
    "for s in subjects:\n",
    "    print(s)\n",
    "    #file_list = glob.glob(os.path.join(data_dir, f'sub-{s}', 'func', '*preproc*.nii.gz'))    \n",
    "    file_list = glob.glob(os.path.join(denoised_dir, f'sub-{s}_*hdf5'))\n",
    "    print(file_list)\n",
    "    for f in file_list:\n",
    "        sub = os.path.basename(f).split('_')[0]\n",
    "        task = os.path.basename(f).split('_')[2]\n",
    "        run = os.path.basename(f).split('_')[3]\n",
    "        data = Brain_Data(f)\n",
    "        roi = data.extract_roi(mask)\n",
    "        pd.DataFrame(roi.T).to_csv(os.path.join(denoised_dir, 'Averaged_ROI', f'{sub}_{task}_{run}_Average_ROI_n50.csv'), index=False)\n",
    "        print(f'finish_{sub}_{task}_{run}') "
   ]
  },
  {
   "cell_type": "raw",
   "id": "1401cf56-76a6-4998-baed-386752d5d6cc",
   "metadata": {},
   "source": [
    "Revision - 2023/05/01\n",
    "\n",
    "\n",
    "고려해야할 점\n",
    "1. Resampling 으로 voxel 크기 맞추기 \n",
    "2. 다른 ROI set을 사용해서 RSC 도 분석 대상에 넣어보기 \n",
    "3. HPC는 아직 고려할 대상이 아님. "
   ]
  }
 ],
 "metadata": {
  "kernelspec": {
   "display_name": "Python 3 (ipykernel)",
   "language": "python",
   "name": "python3"
  },
  "language_info": {
   "codemirror_mode": {
    "name": "ipython",
    "version": 3
   },
   "file_extension": ".py",
   "mimetype": "text/x-python",
   "name": "python",
   "nbconvert_exporter": "python",
   "pygments_lexer": "ipython3",
   "version": "3.7.15"
  }
 },
 "nbformat": 4,
 "nbformat_minor": 5
}
