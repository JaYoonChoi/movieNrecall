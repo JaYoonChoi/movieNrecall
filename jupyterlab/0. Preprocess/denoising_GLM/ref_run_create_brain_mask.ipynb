{
 "cells": [
  {
   "cell_type": "markdown",
   "metadata": {},
   "source": [
    "# Create a whole brain mask \n",
    "\n",
    "by using the AROMAnonaggr runs of gamble control experiment"
   ]
  },
  {
   "cell_type": "code",
   "execution_count": 16,
   "metadata": {
    "tags": []
   },
   "outputs": [],
   "source": [
    "import os \n",
    "import pandas as pd\n",
    "import glob\n",
    "import numpy as np\n",
    "import json\n",
    "import nibabel as nib\n",
    "import nilearn.plotting\n",
    "import nilearn.masking as masking\n",
    "import nilearn.image as image\n",
    "from bids import BIDSLayout, BIDSValidator\n",
    "from nipype.interfaces.base import Bunch\n",
    "\n",
    "%matplotlib inline\n",
    "import matplotlib.pyplot as plt\n",
    "\n",
    "import nipype.interfaces.io as nio\n",
    "import nipype.interfaces.fsl as fsl\n",
    "from nipype.interfaces import utility as niu\n",
    "import nipype.pipeline.engine as pe  # pypeline engine\n",
    "import nipype.algorithms.modelgen as modelgen  # model generation\n"
   ]
  },
  {
   "cell_type": "markdown",
   "metadata": {},
   "source": [
    "## Set Ups"
   ]
  },
  {
   "cell_type": "code",
   "execution_count": 2,
   "metadata": {},
   "outputs": [],
   "source": [
    "# set paths for directories\n",
    "user_path = os.path.expanduser('~')\n",
    "home_path = os.path.join(user_path,'Desktop')\n",
    "\n",
    "# control\n",
    "project_path_control = os.path.join(home_path,'gamble_comb','GambleControl')\n",
    "data_path_control = os.path.join(project_path_control,'data')\n",
    "fmriprep_path_control = os.path.join(project_path_control,'data','derivatives')\n",
    "output_path_control = os.path.join(project_path_control,'output');\n",
    "\n",
    "# main experiment\n",
    "project_path_gamble = os.path.join(home_path,'gamble_comb','Gamble')\n",
    "data_path_gamble = os.path.join(project_path_gamble,'data')\n",
    "fmriprep_path_gamble = os.path.join(project_path_gamble,'data','derivatives')\n",
    "output_path_gamble = os.path.join(project_path_gamble,'output');\n",
    "\n",
    "# note path\n",
    "note_path = os.getcwd() # os.path.join(project_path_0,'runs','searchlight_lmer')"
   ]
  },
  {
   "cell_type": "code",
   "execution_count": 3,
   "metadata": {},
   "outputs": [
    {
     "name": "stderr",
     "output_type": "stream",
     "text": [
      "/opt/miniconda3/envs/fmri01/lib/python3.7/site-packages/bids/layout/validation.py:149: UserWarning: The PipelineDescription field was superseded by GeneratedBy in BIDS 1.4.0. You can use ``pybids upgrade`` to update your derivative dataset.\n",
      "  warnings.warn(\"The PipelineDescription field was superseded \"\n"
     ]
    }
   ],
   "source": [
    "layout_control = BIDSLayout(data_path_control, derivatives = True)\n",
    "layout_main = BIDSLayout(data_path_gamble, derivatives = True)"
   ]
  },
  {
   "cell_type": "code",
   "execution_count": 4,
   "metadata": {},
   "outputs": [],
   "source": [
    "# subject to be removed\n",
    "# gamble ['02','03','20']\n",
    "drop_subjects = ['02','03','20']\n",
    "gamble_subject = layout_main.get_subject()\n",
    "\n",
    "for this_drop in drop_subjects:\n",
    "    for this_subject in gamble_subject:\n",
    "        if this_subject == this_drop:\n",
    "            gamble_subject.remove(this_drop)\n",
    "\n",
    "        \n",
    "# specific runs to be dropped - which has not been implemented\n",
    "drop_subjects = ['03','21','22']\n",
    "control_subject = layout_control.get_subject()\n",
    "\n",
    "for this_drop in drop_subjects:\n",
    "    for this_subject in control_subject:\n",
    "        if this_subject == this_drop:\n",
    "            control_subject.remove(this_drop)"
   ]
  },
  {
   "cell_type": "code",
   "execution_count": 55,
   "metadata": {},
   "outputs": [
    {
     "data": {
      "text/plain": [
       "['/Users/nova/Desktop/gamble_comb/GambleControl/data/derivatives/sub-01/func/sub-01_task-gamblecontrol_run-1_space-MNI152NLin6Asym_desc-brain_mask.nii.gz',\n",
       " '/Users/nova/Desktop/gamble_comb/GambleControl/data/derivatives/sub-02/func/sub-02_task-gamblecontrol_run-1_space-MNI152NLin6Asym_desc-brain_mask.nii.gz',\n",
       " '/Users/nova/Desktop/gamble_comb/GambleControl/data/derivatives/sub-04/func/sub-04_task-gamblecontrol_run-1_space-MNI152NLin6Asym_desc-brain_mask.nii.gz',\n",
       " '/Users/nova/Desktop/gamble_comb/GambleControl/data/derivatives/sub-05/func/sub-05_task-gamblecontrol_run-1_space-MNI152NLin6Asym_desc-brain_mask.nii.gz',\n",
       " '/Users/nova/Desktop/gamble_comb/GambleControl/data/derivatives/sub-06/func/sub-06_task-gamblecontrol_run-1_space-MNI152NLin6Asym_desc-brain_mask.nii.gz',\n",
       " '/Users/nova/Desktop/gamble_comb/GambleControl/data/derivatives/sub-07/func/sub-07_task-gamblecontrol_run-1_space-MNI152NLin6Asym_desc-brain_mask.nii.gz',\n",
       " '/Users/nova/Desktop/gamble_comb/GambleControl/data/derivatives/sub-08/func/sub-08_task-gamblecontrol_run-1_space-MNI152NLin6Asym_desc-brain_mask.nii.gz',\n",
       " '/Users/nova/Desktop/gamble_comb/GambleControl/data/derivatives/sub-09/func/sub-09_task-gamblecontrol_run-1_space-MNI152NLin6Asym_desc-brain_mask.nii.gz',\n",
       " '/Users/nova/Desktop/gamble_comb/GambleControl/data/derivatives/sub-10/func/sub-10_task-gamblecontrol_run-1_space-MNI152NLin6Asym_desc-brain_mask.nii.gz',\n",
       " '/Users/nova/Desktop/gamble_comb/GambleControl/data/derivatives/sub-11/func/sub-11_task-gamblecontrol_run-1_space-MNI152NLin6Asym_desc-brain_mask.nii.gz',\n",
       " '/Users/nova/Desktop/gamble_comb/GambleControl/data/derivatives/sub-12/func/sub-12_task-gamblecontrol_run-1_space-MNI152NLin6Asym_desc-brain_mask.nii.gz',\n",
       " '/Users/nova/Desktop/gamble_comb/GambleControl/data/derivatives/sub-13/func/sub-13_task-gamblecontrol_run-1_space-MNI152NLin6Asym_desc-brain_mask.nii.gz',\n",
       " '/Users/nova/Desktop/gamble_comb/GambleControl/data/derivatives/sub-14/func/sub-14_task-gamblecontrol_run-1_space-MNI152NLin6Asym_desc-brain_mask.nii.gz',\n",
       " '/Users/nova/Desktop/gamble_comb/GambleControl/data/derivatives/sub-15/func/sub-15_task-gamblecontrol_run-1_space-MNI152NLin6Asym_desc-brain_mask.nii.gz',\n",
       " '/Users/nova/Desktop/gamble_comb/GambleControl/data/derivatives/sub-16/func/sub-16_task-gamblecontrol_run-1_space-MNI152NLin6Asym_desc-brain_mask.nii.gz',\n",
       " '/Users/nova/Desktop/gamble_comb/GambleControl/data/derivatives/sub-17/func/sub-17_task-gamblecontrol_run-1_space-MNI152NLin6Asym_desc-brain_mask.nii.gz',\n",
       " '/Users/nova/Desktop/gamble_comb/GambleControl/data/derivatives/sub-18/func/sub-18_task-gamblecontrol_run-1_space-MNI152NLin6Asym_desc-brain_mask.nii.gz',\n",
       " '/Users/nova/Desktop/gamble_comb/GambleControl/data/derivatives/sub-19/func/sub-19_task-gamblecontrol_run-1_space-MNI152NLin6Asym_desc-brain_mask.nii.gz',\n",
       " '/Users/nova/Desktop/gamble_comb/GambleControl/data/derivatives/sub-20/func/sub-20_task-gamblecontrol_run-1_space-MNI152NLin6Asym_desc-brain_mask.nii.gz',\n",
       " '/Users/nova/Desktop/gamble_comb/GambleControl/data/derivatives/sub-23/func/sub-23_task-gamblecontrol_run-1_space-MNI152NLin6Asym_desc-brain_mask.nii.gz',\n",
       " '/Users/nova/Desktop/gamble_comb/GambleControl/data/derivatives/sub-24/func/sub-24_task-gamblecontrol_run-1_space-MNI152NLin6Asym_desc-brain_mask.nii.gz',\n",
       " '/Users/nova/Desktop/gamble_comb/GambleControl/data/derivatives/sub-25/func/sub-25_task-gamblecontrol_run-1_space-MNI152NLin6Asym_desc-brain_mask.nii.gz',\n",
       " '/Users/nova/Desktop/gamble_comb/GambleControl/data/derivatives/sub-26/func/sub-26_task-gamblecontrol_run-1_space-MNI152NLin6Asym_desc-brain_mask.nii.gz',\n",
       " '/Users/nova/Desktop/gamble_comb/GambleControl/data/derivatives/sub-27/func/sub-27_task-gamblecontrol_run-1_space-MNI152NLin6Asym_desc-brain_mask.nii.gz',\n",
       " '/Users/nova/Desktop/gamble_comb/GambleControl/data/derivatives/sub-28/func/sub-28_task-gamblecontrol_run-1_space-MNI152NLin6Asym_desc-brain_mask.nii.gz',\n",
       " '/Users/nova/Desktop/gamble_comb/GambleControl/data/derivatives/sub-29/func/sub-29_task-gamblecontrol_run-1_space-MNI152NLin6Asym_desc-brain_mask.nii.gz',\n",
       " '/Users/nova/Desktop/gamble_comb/GambleControl/data/derivatives/sub-30/func/sub-30_task-gamblecontrol_run-1_space-MNI152NLin6Asym_desc-brain_mask.nii.gz']"
      ]
     },
     "execution_count": 55,
     "metadata": {},
     "output_type": "execute_result"
    }
   ],
   "source": [
    "bold_file = layout_control.get(subject = control_subject,\n",
    "                       extension = 'nii.gz', \n",
    "                       suffix = 'mask',\n",
    "                       run = 1,\n",
    "                       desc = 'brain', \n",
    "                       space = 'MNI152NLin6Asym', \n",
    "                       return_type = 'filename')\n",
    "bold_file"
   ]
  },
  {
   "cell_type": "code",
   "execution_count": 56,
   "metadata": {},
   "outputs": [
    {
     "name": "stdout",
     "output_type": "stream",
     "text": [
      "/Users/nova/Desktop/gamble_comb/GambleControl/data/derivatives/sub-01/func/sub-01_task-gamblecontrol_run-1_space-MNI152NLin6Asym_desc-brain_mask.nii.gz\n",
      "/Users/nova/Desktop/gamble_comb/GambleControl/data/derivatives/sub-02/func/sub-02_task-gamblecontrol_run-1_space-MNI152NLin6Asym_desc-brain_mask.nii.gz\n",
      "/Users/nova/Desktop/gamble_comb/GambleControl/data/derivatives/sub-04/func/sub-04_task-gamblecontrol_run-1_space-MNI152NLin6Asym_desc-brain_mask.nii.gz\n",
      "/Users/nova/Desktop/gamble_comb/GambleControl/data/derivatives/sub-05/func/sub-05_task-gamblecontrol_run-1_space-MNI152NLin6Asym_desc-brain_mask.nii.gz\n",
      "/Users/nova/Desktop/gamble_comb/GambleControl/data/derivatives/sub-06/func/sub-06_task-gamblecontrol_run-1_space-MNI152NLin6Asym_desc-brain_mask.nii.gz\n",
      "/Users/nova/Desktop/gamble_comb/GambleControl/data/derivatives/sub-07/func/sub-07_task-gamblecontrol_run-1_space-MNI152NLin6Asym_desc-brain_mask.nii.gz\n",
      "/Users/nova/Desktop/gamble_comb/GambleControl/data/derivatives/sub-08/func/sub-08_task-gamblecontrol_run-1_space-MNI152NLin6Asym_desc-brain_mask.nii.gz\n",
      "/Users/nova/Desktop/gamble_comb/GambleControl/data/derivatives/sub-09/func/sub-09_task-gamblecontrol_run-1_space-MNI152NLin6Asym_desc-brain_mask.nii.gz\n",
      "/Users/nova/Desktop/gamble_comb/GambleControl/data/derivatives/sub-10/func/sub-10_task-gamblecontrol_run-1_space-MNI152NLin6Asym_desc-brain_mask.nii.gz\n",
      "/Users/nova/Desktop/gamble_comb/GambleControl/data/derivatives/sub-11/func/sub-11_task-gamblecontrol_run-1_space-MNI152NLin6Asym_desc-brain_mask.nii.gz\n",
      "/Users/nova/Desktop/gamble_comb/GambleControl/data/derivatives/sub-12/func/sub-12_task-gamblecontrol_run-1_space-MNI152NLin6Asym_desc-brain_mask.nii.gz\n",
      "/Users/nova/Desktop/gamble_comb/GambleControl/data/derivatives/sub-13/func/sub-13_task-gamblecontrol_run-1_space-MNI152NLin6Asym_desc-brain_mask.nii.gz\n",
      "/Users/nova/Desktop/gamble_comb/GambleControl/data/derivatives/sub-14/func/sub-14_task-gamblecontrol_run-1_space-MNI152NLin6Asym_desc-brain_mask.nii.gz\n",
      "/Users/nova/Desktop/gamble_comb/GambleControl/data/derivatives/sub-15/func/sub-15_task-gamblecontrol_run-1_space-MNI152NLin6Asym_desc-brain_mask.nii.gz\n",
      "/Users/nova/Desktop/gamble_comb/GambleControl/data/derivatives/sub-16/func/sub-16_task-gamblecontrol_run-1_space-MNI152NLin6Asym_desc-brain_mask.nii.gz\n",
      "/Users/nova/Desktop/gamble_comb/GambleControl/data/derivatives/sub-17/func/sub-17_task-gamblecontrol_run-1_space-MNI152NLin6Asym_desc-brain_mask.nii.gz\n",
      "/Users/nova/Desktop/gamble_comb/GambleControl/data/derivatives/sub-18/func/sub-18_task-gamblecontrol_run-1_space-MNI152NLin6Asym_desc-brain_mask.nii.gz\n",
      "/Users/nova/Desktop/gamble_comb/GambleControl/data/derivatives/sub-19/func/sub-19_task-gamblecontrol_run-1_space-MNI152NLin6Asym_desc-brain_mask.nii.gz\n",
      "/Users/nova/Desktop/gamble_comb/GambleControl/data/derivatives/sub-20/func/sub-20_task-gamblecontrol_run-1_space-MNI152NLin6Asym_desc-brain_mask.nii.gz\n",
      "/Users/nova/Desktop/gamble_comb/GambleControl/data/derivatives/sub-23/func/sub-23_task-gamblecontrol_run-1_space-MNI152NLin6Asym_desc-brain_mask.nii.gz\n",
      "/Users/nova/Desktop/gamble_comb/GambleControl/data/derivatives/sub-24/func/sub-24_task-gamblecontrol_run-1_space-MNI152NLin6Asym_desc-brain_mask.nii.gz\n",
      "/Users/nova/Desktop/gamble_comb/GambleControl/data/derivatives/sub-25/func/sub-25_task-gamblecontrol_run-1_space-MNI152NLin6Asym_desc-brain_mask.nii.gz\n",
      "/Users/nova/Desktop/gamble_comb/GambleControl/data/derivatives/sub-26/func/sub-26_task-gamblecontrol_run-1_space-MNI152NLin6Asym_desc-brain_mask.nii.gz\n",
      "/Users/nova/Desktop/gamble_comb/GambleControl/data/derivatives/sub-27/func/sub-27_task-gamblecontrol_run-1_space-MNI152NLin6Asym_desc-brain_mask.nii.gz\n",
      "/Users/nova/Desktop/gamble_comb/GambleControl/data/derivatives/sub-28/func/sub-28_task-gamblecontrol_run-1_space-MNI152NLin6Asym_desc-brain_mask.nii.gz\n",
      "/Users/nova/Desktop/gamble_comb/GambleControl/data/derivatives/sub-29/func/sub-29_task-gamblecontrol_run-1_space-MNI152NLin6Asym_desc-brain_mask.nii.gz\n",
      "/Users/nova/Desktop/gamble_comb/GambleControl/data/derivatives/sub-30/func/sub-30_task-gamblecontrol_run-1_space-MNI152NLin6Asym_desc-brain_mask.nii.gz\n"
     ]
    }
   ],
   "source": [
    "mask_img = image.math_img('0*img',img = bold_file[0])\n",
    "\n",
    "for this_bold in bold_file:\n",
    "    print(this_bold)\n",
    "    mask_img = image.math_img('img1 + img2',img1 = mask_img, img2 = this_bold)\n",
    "   "
   ]
  },
  {
   "cell_type": "code",
   "execution_count": 58,
   "metadata": {},
   "outputs": [],
   "source": [
    "mask_img = image.math_img('img > 26.5',img = mask_img)\n",
    "mask_img.to_filename(os.path.join('gray_matter_task-control_bold_mask.nii.gz'))"
   ]
  },
  {
   "cell_type": "code",
   "execution_count": 63,
   "metadata": {},
   "outputs": [
    {
     "name": "stderr",
     "output_type": "stream",
     "text": [
      "/opt/miniconda3/envs/fmri01/lib/python3.7/site-packages/nilearn/image/resampling.py:295: UserWarning: Resampling binary images with continuous or linear interpolation. This might lead to unexpected results. You might consider using nearest interpolation instead.\n",
      "  \"Resampling binary images with continuous or \"\n"
     ]
    }
   ],
   "source": [
    "anat_file = layout_main.get(subject = gamble_subject,\n",
    "                       extension = 'nii.gz', \n",
    "                       suffix = 'probseg', \n",
    "                       label = 'GM',\n",
    "                       space = 'MNI152NLin6Asym', \n",
    "                       return_type = 'filename')\n",
    "\n",
    "anat_mask = masking.compute_multi_brain_mask(anat_file, lower_bound = 0.5)\n",
    "anat_mask = image.resample_to_img(anat_mask,'gray_matter_task-gamble_bold_mask.nii.gz')\n",
    "nib.save(anat_mask,os.path.join('gray_matter_task-gamble_anat_mask.nii.gz'))"
   ]
  },
  {
   "cell_type": "code",
   "execution_count": 64,
   "metadata": {},
   "outputs": [
    {
     "name": "stderr",
     "output_type": "stream",
     "text": [
      "/opt/miniconda3/envs/fmri01/lib/python3.7/site-packages/nilearn/image/resampling.py:295: UserWarning: Resampling binary images with continuous or linear interpolation. This might lead to unexpected results. You might consider using nearest interpolation instead.\n",
      "  \"Resampling binary images with continuous or \"\n"
     ]
    }
   ],
   "source": [
    "anat_file = layout_control.get(subject = gamble_subject,\n",
    "                       extension = 'nii.gz', \n",
    "                       suffix = 'probseg', \n",
    "                       label = 'GM',\n",
    "                       space = 'MNI152NLin6Asym', \n",
    "                       return_type = 'filename')\n",
    "\n",
    "anat_mask = masking.compute_multi_brain_mask(anat_file, lower_bound = 0.5)\n",
    "anat_mask = image.resample_to_img(anat_mask,'gray_matter_task-control_bold_mask.nii.gz')\n",
    "nib.save(anat_mask,os.path.join('gray_matter_task-control_anat_mask.nii.gz'))"
   ]
  },
  {
   "cell_type": "code",
   "execution_count": 65,
   "metadata": {},
   "outputs": [],
   "source": [
    "# conjuinction mask\n",
    "for this_task in ['gamble','control']:\n",
    "    \n",
    "    anat_mask = nib.load('gray_matter_task-%s_anat_mask.nii.gz' %this_task)\n",
    "    bold_mask = nib.load('gray_matter_task-%s_bold_mask.nii.gz' %this_task)\n",
    "\n",
    "    mask_img = image.math_img('np.logical_and(img1,img2)',\n",
    "                              img1 = anat_mask,\n",
    "                              img2 = bold_mask)\n",
    "\n",
    "    mask_img.to_filename('gray_matter_task-%s_anat_bold_mask.nii.gz' %this_task)"
   ]
  },
  {
   "cell_type": "code",
   "execution_count": null,
   "metadata": {},
   "outputs": [],
   "source": []
  }
 ],
 "metadata": {
  "kernelspec": {
   "display_name": "Python 3 (ipykernel)",
   "language": "python",
   "name": "python3"
  },
  "language_info": {
   "codemirror_mode": {
    "name": "ipython",
    "version": 3
   },
   "file_extension": ".py",
   "mimetype": "text/x-python",
   "name": "python",
   "nbconvert_exporter": "python",
   "pygments_lexer": "ipython3",
   "version": "3.7.15"
  }
 },
 "nbformat": 4,
 "nbformat_minor": 4
}
