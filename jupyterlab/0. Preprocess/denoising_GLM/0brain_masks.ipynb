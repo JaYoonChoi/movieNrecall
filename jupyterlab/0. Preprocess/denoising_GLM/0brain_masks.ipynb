{
 "cells": [
  {
   "cell_type": "raw",
   "id": "b1bf539c-7d4e-4116-b430-f9610df8e6ab",
   "metadata": {},
   "source": [
    "https://nilearn.github.io/dev/manipulating_images/manipulating_images.html#extracting-a-brain-mask"
   ]
  },
  {
   "cell_type": "code",
   "execution_count": 5,
   "id": "7248a292-7c7a-47a9-8e80-9b18d039e212",
   "metadata": {},
   "outputs": [],
   "source": [
    "import os\n",
    "import glob\n",
    "import nibabel as nib\n",
    "base_dir = '/mnt/c/Users/since/Desktop/KdramaMay/'\n",
    "data_dir = os.path.join(base_dir, 'data', 'derivatives')\n",
    "mask_dir = os.path.join(base_dir, 'analysis', 'Masks')"
   ]
  },
  {
   "cell_type": "code",
   "execution_count": 2,
   "id": "687357b0-fa21-488c-82a6-cbbdd8bcaca1",
   "metadata": {},
   "outputs": [
    {
     "name": "stderr",
     "output_type": "stream",
     "text": [
      "/home/sincerely/.conda/envs/fmri01/lib/python3.7/site-packages/nilearn/__init__.py:69: FutureWarning: Python 3.7 support is deprecated and will be removed in release 0.12 of Nilearn. Consider switching to Python 3.9 or 3.10.\n",
      "  _python_deprecation_warnings()\n"
     ]
    }
   ],
   "source": [
    "from nilearn.masking import compute_multi_brain_mask\n",
    "\n",
    "#load files\n",
    "file_list = glob.glob(os.path.join(data_dir, 'sub-*', 'func', f'*preproc*.nii.gz'))\n",
    "\n",
    "#Extracting a brain mask\n",
    "mask_img = compute_multi_brain_mask(file_list) # 시간나면, 여기 threshold OPTION 추가해보기 : threshold == 1 -> union of subjects' brain , thres == 0 -> intersection of subjects' brain "
   ]
  },
  {
   "cell_type": "code",
   "execution_count": 7,
   "id": "449ab6c0-e9ae-4625-b230-ae0bc0c9842c",
   "metadata": {},
   "outputs": [
    {
     "data": {
      "text/plain": [
       "<nibabel.nifti1.Nifti1Image at 0x7f2a0b65df90>"
      ]
     },
     "execution_count": 7,
     "metadata": {},
     "output_type": "execute_result"
    }
   ],
   "source": [
    "mask_img"
   ]
  },
  {
   "cell_type": "code",
   "execution_count": 11,
   "id": "325aeca7-57e1-4f69-bf40-4dbe181ab826",
   "metadata": {},
   "outputs": [],
   "source": [
    "#save mask_img to Masks \n",
    "nib.save(mask_img, os.path.join(mask_dir, 'MNI152NLin2009cAsym_mask.nii.gz'))"
   ]
  },
  {
   "cell_type": "raw",
   "id": "35639d35-c477-47c2-bd68-8bbbda160555",
   "metadata": {},
   "source": [
    "1. 개별 참가자의 brain mask를 만들어야하는 건지 -> fMRIprep에 있는 brain mask 를 활용할 수 있음. \n",
    "2. 집단 참가자의 brain mask를 만들어야 하는 건지 -> 현재 코드는 이걸 기반으로 만들어졌음\n",
    "\n",
    "\n",
    "나중에 참가자간 비교를 하기 때문에 2번을 더 선호한다고 하셨음. "
   ]
  }
 ],
 "metadata": {
  "kernelspec": {
   "display_name": "Python 3 (ipykernel)",
   "language": "python",
   "name": "python3"
  },
  "language_info": {
   "codemirror_mode": {
    "name": "ipython",
    "version": 3
   },
   "file_extension": ".py",
   "mimetype": "text/x-python",
   "name": "python",
   "nbconvert_exporter": "python",
   "pygments_lexer": "ipython3",
   "version": "3.7.15"
  }
 },
 "nbformat": 4,
 "nbformat_minor": 5
}
