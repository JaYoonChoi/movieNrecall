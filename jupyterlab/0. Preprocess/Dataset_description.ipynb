{
 "cells": [
  {
   "cell_type": "code",
   "execution_count": 66,
   "id": "5ee8d5ee-7c99-4442-8834-24b879d8f0a7",
   "metadata": {},
   "outputs": [
    {
     "name": "stdout",
     "output_type": "stream",
     "text": [
      "/mnt/c/Users/since/Desktop/Kdrama/data\n"
     ]
    }
   ],
   "source": [
    "cd /mnt/c/Users/since/Desktop/Kdrama/data"
   ]
  },
  {
   "cell_type": "code",
   "execution_count": 67,
   "id": "d79db53b-41d9-46d8-a223-7f301ec5d861",
   "metadata": {},
   "outputs": [],
   "source": [
    "import json"
   ]
  },
  {
   "cell_type": "code",
   "execution_count": 68,
   "id": "6183a09a-954b-4348-94dc-63a0b7c10eaf",
   "metadata": {},
   "outputs": [],
   "source": [
    "file_data = OrderedDict()"
   ]
  },
  {
   "cell_type": "code",
   "execution_count": 69,
   "id": "f5df77f8-58e4-484d-b944-4f284fcf4881",
   "metadata": {},
   "outputs": [],
   "source": [
    "# {key:value mapping}\n",
    "file_data = {\"Name\" : \"Story Understanding and Context Updating\",\"BIDSVersion\": \"1.8.0\",\n",
    "\"Authors\": [\"Choi, Ja-yoon\",\"Kang, Min-suk\"]}\n"
   ]
  },
  {
   "cell_type": "code",
   "execution_count": 70,
   "id": "dd96997d-97c5-4a02-a5d1-33b32af1f46f",
   "metadata": {},
   "outputs": [
    {
     "data": {
      "text/plain": [
       "dict"
      ]
     },
     "execution_count": 70,
     "metadata": {},
     "output_type": "execute_result"
    }
   ],
   "source": [
    "type(file_data)"
   ]
  },
  {
   "cell_type": "code",
   "execution_count": 71,
   "id": "643c198e-6fa8-43a3-ad7e-5f7ae0185baf",
   "metadata": {},
   "outputs": [],
   "source": [
    "file_path = 'dataset_description.json'"
   ]
  },
  {
   "cell_type": "code",
   "execution_count": 73,
   "id": "e7c24b89-1a4f-4cc7-96ba-039dec63be99",
   "metadata": {},
   "outputs": [
    {
     "name": "stdout",
     "output_type": "stream",
     "text": [
      "{'Name': 'Story Understanding and Context Updating', 'BIDSVersion': '1.8.0', 'Authors': ['Choi, Ja-yoon', 'Kang, Min-suk']}\n"
     ]
    }
   ],
   "source": [
    "#파일 저장 \n",
    "with open(file_path, 'w') as f:\n",
    "    json.dump(file_data, f)\n",
    "    print(file_data)"
   ]
  },
  {
   "cell_type": "code",
   "execution_count": null,
   "id": "937e4c01-9838-4a59-9568-28512e43ee26",
   "metadata": {},
   "outputs": [],
   "source": []
  }
 ],
 "metadata": {
  "kernelspec": {
   "display_name": "fmri01",
   "language": "python",
   "name": "fmri01"
  },
  "language_info": {
   "codemirror_mode": {
    "name": "ipython",
    "version": 3
   },
   "file_extension": ".py",
   "mimetype": "text/x-python",
   "name": "python",
   "nbconvert_exporter": "python",
   "pygments_lexer": "ipython3",
   "version": "3.7.15"
  }
 },
 "nbformat": 4,
 "nbformat_minor": 5
}
