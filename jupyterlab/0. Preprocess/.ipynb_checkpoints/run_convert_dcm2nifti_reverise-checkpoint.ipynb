{
 "cells": [
  {
   "cell_type": "code",
   "execution_count": 55,
   "metadata": {
    "tags": []
   },
   "outputs": [
    {
     "name": "stdout",
     "output_type": "stream",
     "text": [
      "Collecting package metadata (current_repodata.json): - ^C\n",
      "/ \n",
      "Note: you may need to restart the kernel to use updated packages.\n"
     ]
    }
   ],
   "source": [
    "conda install -c conda-forge dcm2niix"
   ]
  },
  {
   "cell_type": "code",
   "execution_count": 1,
   "metadata": {},
   "outputs": [],
   "source": [
    "from nipype.interfaces.dcm2nii import Dcm2niix\n",
    "import nipype.interfaces.io as nio\n",
    "import warnings\n",
    "warnings.filterwarnings(action='ignore')"
   ]
  },
  {
   "cell_type": "code",
   "execution_count": 2,
   "metadata": {},
   "outputs": [],
   "source": [
    "subjsource = nio.DataGrabber()"
   ]
  },
  {
   "cell_type": "code",
   "execution_count": 3,
   "metadata": {},
   "outputs": [
    {
     "data": {
      "text/plain": [
       "<nipype.interfaces.io.DataGrabber at 0x7fb4912be410>"
      ]
     },
     "execution_count": 3,
     "metadata": {},
     "output_type": "execute_result"
    }
   ],
   "source": [
    "subjsource"
   ]
  },
  {
   "cell_type": "code",
   "execution_count": 4,
   "metadata": {},
   "outputs": [],
   "source": [
    "subjsource.inputs.base_directory = '/mnt/c/Users/since/Desktop/KdramaSpring/dicom' # make sure to change output directory below\n",
    "#subjsource.inputs.template = 'S0[8-9]'\n",
    "subjsource.inputs.template = 'S0[1-2]'\n",
    "subjsource.inputs.sort_filelist = True\n",
    "subjresults = subjsource.run()\n",
    "\n",
    "converter = Dcm2niix()\n",
    "\n",
    "if isinstance(subjresults.outputs.outfiles,str):\n",
    "    subjresults.outputs.outfiles = [subjresults.outputs.outfiles]"
   ]
  },
  {
   "cell_type": "code",
   "execution_count": 5,
   "metadata": {},
   "outputs": [
    {
     "data": {
      "text/plain": [
       "<nipype.interfaces.dcm2nii.Dcm2niix at 0x7fb4a82a9510>"
      ]
     },
     "execution_count": 5,
     "metadata": {},
     "output_type": "execute_result"
    }
   ],
   "source": [
    "converter"
   ]
  },
  {
   "cell_type": "code",
   "execution_count": 6,
   "metadata": {},
   "outputs": [
    {
     "data": {
      "text/plain": [
       "['/mnt/c/Users/since/Desktop/KdramaSpring/dicom/S01',\n",
       " '/mnt/c/Users/since/Desktop/KdramaSpring/dicom/S02']"
      ]
     },
     "execution_count": 6,
     "metadata": {},
     "output_type": "execute_result"
    }
   ],
   "source": [
    "subjresults.outputs.outfiles"
   ]
  },
  {
   "cell_type": "code",
   "execution_count": 13,
   "metadata": {
    "tags": []
   },
   "outputs": [
    {
     "ename": "SyntaxError",
     "evalue": "invalid syntax (3548590612.py, line 23)",
     "output_type": "error",
     "traceback": [
      "\u001b[0;36m  File \u001b[0;32m\"/tmp/ipykernel_480/3548590612.py\"\u001b[0;36m, line \u001b[0;32m23\u001b[0m\n\u001b[0;31m    results = datasource.run())\u001b[0m\n\u001b[0m                              ^\u001b[0m\n\u001b[0;31mSyntaxError\u001b[0m\u001b[0;31m:\u001b[0m invalid syntax\n"
     ]
    }
   ],
   "source": [
    "for cur_subj in subjresults.outputs.outfiles:\n",
    "    cur_len = len(cur_subj)\n",
    "    cur_sid = 'sub-' + cur_subj[cur_len-2:cur_len]\n",
    "    res_dir = cur_subj[0:cur_len-9]+'data/'\n",
    "    print(res_dir)\n",
    "    print('%s' %cur_sid)\n",
    "    \n",
    "    #for cur_type in ['*ENCODING*','*RECALL*','T2*','T1*','GRE*','PA*']:\n",
    "    for cur_type in ['ENCODING*', 'RECALL*', 'T1*', 'GRE*', 'PA*']:       \n",
    "        if cur_type == 'T1*' or cur_type == 'T2*':\n",
    "            cur_subdir = '/anat'\n",
    "        elif cur_type == 'GRE*' or cur_type == 'PA*':\n",
    "            cur_subdir = '/fmap'\n",
    "        else: \n",
    "            cur_subdir = '/func'\n",
    "            \n",
    "        #Grab Relevant Data\n",
    "        datasource = nio.DataGrabber()\n",
    "        datasource.inputs.base_directory = cur_subj\n",
    "        datasource.inputs.template = cur_type\n",
    "        datasource.inputs.sort_filelist = True\n",
    "        datasource.inputs.raise_on_empty = False\n",
    "        results = datasource.run()\n",
    "        \n",
    "        idx = 1\n",
    "        if results.outputs.outfiles is not None:\n",
    "            if isinstance(results.outputs.outfiles,str):\n",
    "                results.outputs.outfiles = [results.outputs.outfiles]\n",
    "\n",
    "        for cur_file in results.outputs.outfiles:\n",
    "                print('cur_file is', cur_file)\n",
    "                \n",
    "                # set output file name\n",
    "                if cur_type == 'T1*':\n",
    "                    cur_output_filename = cur_sid + '_T1w'\n",
    "                #elif cur_type == 'T2*':\n",
    "                #    cur_output_filename = cur_sid + '_T2w'\n",
    "                elif cur_type == 'GRE*':\n",
    "                    cur_output_filename = cur_sid + '_fmap'\n",
    "                elif cur_type == 'ENCODING*':\n",
    "                    cur_output_filename = cur_sid + '_task-encoding_run-' + str(idx) + '_bold'\n",
    "                elif cur_type == '*RECALL*':\n",
    "                    cur_output_filename = cur_sid + '_task-recall_run-' + str(idx) + '_bold'\n",
    "                elif cur_type == 'PA*':\n",
    "                    cur_output_filename = cur_sid + '_dir-pa' + '_epi'\n",
    "                              \n",
    "                converter.inputs.source_dir = cur_file\n",
    "                converter.inputs.compression = 5\n",
    "                converter.inputs.bids_format = True\n",
    "                converter.inputs.output_dir = res_dir + cur_sid + cur_subdir \n",
    "                converter.inputs.out_filename = cur_output_filename\n",
    "                converter.run()\n",
    "                idx = idx + 1\n",
    "\n",
    "                print(converter.inputs.output_dir + '/' + converter.inputs.out_filename)"
   ]
  },
  {
   "cell_type": "markdown",
   "metadata": {
    "tags": []
   },
   "source": [
    "## Protocol check용 .. "
   ]
  },
  {
   "cell_type": "code",
   "execution_count": null,
   "metadata": {},
   "outputs": [],
   "source": [
    "onehalf = ['0', '2', '2.5', '3', '3.5']\n",
    "one = ['0', '3', '3.5']\n",
    "two = ['0', '2', '2.5', '3', '3.5']\n",
    "for cur_subj in subjresults.outputs.outfiles:\n",
    "    cur_len = len(cur_subj)\n",
    "    cur_sid = 'sub-' + cur_subj[cur_len-3:cur_len]\n",
    "    res_dir = cur_subj[0:cur_len-10]+'data/'\n",
    "    print('%s' %cur_sid)   \n",
    "    \n",
    "    for cur_type in ['1TR*','2TR*','1_5TR*']:\n",
    "        if cur_type == '1TR*' or cur_type == '2TR*' or cur_type == '1_5TR*' :\n",
    "            cur_subdir = '/func'\n",
    "\n",
    "        datasource = nio.DataGrabber()\n",
    "        datasource.inputs.base_directory = cur_subj\n",
    "        datasource.inputs.template = cur_type\n",
    "        datasource.inputs.sort_filelist = True\n",
    "        datasource.inputs.raise_on_empty = False\n",
    "        results = datasource.run()\n",
    "\n",
    "        \n",
    "        idx = 1\n",
    "        if results.outputs.outfiles is not None:\n",
    "            if isinstance(results.outputs.outfiles,str):\n",
    "                results.outputs.outfiles = [results.outputs.outfiles]\n",
    "\n",
    "            for cur_file in results.outputs.outfiles:\n",
    "                print(cur_file)\n",
    "                if  cur_type == '1TR*':\n",
    "                    cur_output_filename = cur_sid + '_TR-' + str(cur_type[0]) + '_iso-' + one[idx] +  '_bold'\n",
    "                    print(idx)\n",
    "                elif cur_type == '2TR*':\n",
    "                    cur_output_filename = cur_sid + '_TR-' + str(cur_type[0]) + '_iso-'  + two[(idx)] + '_bold'\n",
    "                    print(idx)\n",
    "                elif cur_type == '1_5TR*':\n",
    "                    cur_output_filename = cur_sid + '_TR-' + str(cur_type[0:3]) + '_iso-'  + onehalf[(idx)] + '_bold'\n",
    "                              \n",
    "                converter.inputs.source_dir = cur_file\n",
    "                converter.inputs.compression = 5\n",
    "                converter.inputs.bids_format = True\n",
    "                converter.inputs.output_dir = res_dir + cur_sid + cur_subdir \n",
    "                converter.inputs.out_filename = cur_output_filename\n",
    "                converter.run()\n",
    "                idx = idx + 1\n",
    "\n",
    "                print(converter.inputs.output_dir + '/' + converter.inputs.out_filename)"
   ]
  },
  {
   "cell_type": "markdown",
   "metadata": {
    "jp-MarkdownHeadingCollapsed": true,
    "tags": []
   },
   "source": [
    "# 디렉토리 체크"
   ]
  },
  {
   "cell_type": "code",
   "execution_count": 28,
   "metadata": {},
   "outputs": [
    {
     "name": "stdout",
     "output_type": "stream",
     "text": [
      "sub-01\n",
      "sub-02\n",
      "sub-03\n",
      "sub-04\n",
      "sub-05\n"
     ]
    }
   ],
   "source": [
    "for cur_subj in subjresults.outputs.outfiles:\n",
    "    cur_len = len(cur_subj)\n",
    "    cur_sid = 'sub-' + cur_subj[cur_len-2:cur_len]\n",
    "    print('%s' %cur_sid)"
   ]
  }
 ],
 "metadata": {
  "kernelspec": {
   "display_name": "Python 3 (ipykernel)",
   "language": "python",
   "name": "python3"
  },
  "language_info": {
   "codemirror_mode": {
    "name": "ipython",
    "version": 3
   },
   "file_extension": ".py",
   "mimetype": "text/x-python",
   "name": "python",
   "nbconvert_exporter": "python",
   "pygments_lexer": "ipython3",
   "version": "3.7.15"
  }
 },
 "nbformat": 4,
 "nbformat_minor": 4
}
