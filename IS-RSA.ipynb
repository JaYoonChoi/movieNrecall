{
 "cells": [
  {
   "cell_type": "markdown",
   "id": "9b92a5a3-40f1-4e20-b46f-7e619690c4c5",
   "metadata": {
    "tags": []
   },
   "source": [
    "# IS-RSA \n",
    "1. Create separate matrices for neural and behavioral data.\n",
    "- The neural matrix should have dimensions (trials/conditions, neural features).\n",
    "- The behavioral matrix should have dimensions (trials/conditions, behavioral features).\n",
    "\n",
    "2. Time series 별로 비교해 볼 수 있다. \n",
    "\n",
    "3. 현재는 두 인코딩 간을 비교할 수 없는 모델인데 이건 교수님과 좀더 상의를 해봐야할 것 같다."
   ]
  },
  {
   "cell_type": "code",
   "execution_count": 5,
   "id": "dbee7ac4-4549-4917-b00e-9b679f9bec96",
   "metadata": {},
   "outputs": [
    {
     "name": "stderr",
     "output_type": "stream",
     "text": [
      "/home/sincerely/.conda/envs/fmri01/lib/python3.7/site-packages/nilearn/__init__.py:69: FutureWarning: Python 3.7 support is deprecated and will be removed in release 0.12 of Nilearn. Consider switching to Python 3.9 or 3.10.\n",
      "  _python_deprecation_warnings()\n"
     ]
    }
   ],
   "source": [
    "%matplotlib inline\n",
    "\n",
    "import os\n",
    "import glob\n",
    "import numpy as np\n",
    "import pandas as pd\n",
    "import matplotlib.pyplot as plt\n",
    "import seaborn as sns\n",
    "from nltools.data import Brain_Data, Adjacency\n",
    "from nltools.mask import expand_mask, roi_to_brain\n",
    "from nltools.stats import fdr, threshold, fisher_r_to_z, one_sample_permutation\n",
    "from sklearn.metrics import pairwise_distances\n",
    "from nilearn.plotting import plot_glass_brain, plot_stat_map, view_img_on_surf, view_img\n",
    "from bids import BIDSLayout, BIDSValidator\n",
    "\n",
    "import nibabel as nib"
   ]
  },
  {
   "cell_type": "code",
   "execution_count": 66,
   "id": "01798dbd-6a39-4f01-b163-bc79702eb365",
   "metadata": {},
   "outputs": [],
   "source": [
    "# dir for neural \n",
    "story_dir = '/mnt/c/Users/since/Dropbox/Lab/Projects/CJY/_DATA'\n",
    "May_dir = '/mnt/c/Users/since/Desktop/KdramaMay/'\n",
    "\n",
    "# directory for behav\n",
    "story_dir = '/mnt/c/Users/since/Dropbox/Lab/Projects/CJY/_DATA'\n",
    "base_dir = '/mnt/c/Users/since/Desktop/KdramaMay/'"
   ]
  },
  {
   "cell_type": "code",
   "execution_count": 65,
   "id": "90f10842-cc0a-4e43-be35-00c12b72a310",
   "metadata": {},
   "outputs": [
    {
     "name": "stdout",
     "output_type": "stream",
     "text": [
      "[ 1  2  3  4  5  6  7  8 10 11 12 13 14 15 16 17 18 19 20 21 22 23 24 25\n",
      " 26 27 28 29 30 31 32 33]\n"
     ]
    }
   ],
   "source": [
    "#Subject check \n",
    "sub_sm = np.arange(1,34)\n",
    "sub_sm_exclude = [8]\n",
    "subjects = np.delete(sub_sm, sub_sm_exclude)\n",
    "#print(subject)\n",
    "print(subjects)"
   ]
  },
  {
   "cell_type": "code",
   "execution_count": 244,
   "id": "b7dc6cd6-9d83-441f-ae77-4e6d0592e295",
   "metadata": {},
   "outputs": [
    {
     "data": {
      "text/plain": [
       "array(['RunningMan', 'BlindDate', 'Dream', 'Neighbors'], dtype='<U32')"
      ]
     },
     "execution_count": 244,
     "metadata": {},
     "output_type": "execute_result"
    }
   ],
   "source": [
    "# load story sequence \n",
    "import scipy.io as sio\n",
    "\n",
    "all_story = {}\n",
    "# Load May Data\n",
    "for sub in subjects:\n",
    "    #print(sub)\n",
    "    mat = sio.loadmat(glob.glob(os.path.join(story_dir, 'fMRItdsgn', 'fMRI_May', f'sub-{sub}_*.mat'))[0])\n",
    "    story = []\n",
    "    for i in np.arange(0,4):\n",
    "        temp = mat['subj'][0][0][7][0][i][0]\n",
    "        if temp == 'Blind Date':\n",
    "            temp = 'BlindDate'\n",
    "        elif temp == 'Runningman':\n",
    "            temp = 'RunningMan'\n",
    "        elif temp == 'Way To School':\n",
    "            temp = 'WayToSchool'\n",
    "        elif temp == 'Business Lunch':\n",
    "            temp = 'BusinessLunch'\n",
    "        elif temp == 'neighbors':\n",
    "            temp = 'Neighbors'\n",
    "        story = np.append(story, temp)\n",
    "    #all_story[str(int(sub)+8)] = story\n",
    "    all_story[sub] = story\n",
    "#Fix story sequence\n",
    "story_sequece = all_story[1]\n",
    "story_sequece"
   ]
  },
  {
   "cell_type": "code",
   "execution_count": 69,
   "id": "f25a217b-fbec-4382-a6b6-a5308b6bd611",
   "metadata": {
    "tags": []
   },
   "outputs": [
    {
     "name": "stdout",
     "output_type": "stream",
     "text": [
      "[ 2  3  4  5  6  7  8  9 11 12 13 14 15 16 17 18 19 20 21 22 23 24 25 26\n",
      " 28 29 30 31 32 33 34]\n",
      "31\n"
     ]
    }
   ],
   "source": [
    "# directory for behav\n",
    "base_dir = '/mnt/c/Users/since/Desktop/KdramaMay/'\n",
    "ec_counting = '/mnt/c/Users/since/Dropbox/jany/'\n",
    "\n",
    "col_sm = np.arange(2,35)\n",
    "col_sm_exclude = [8,25] # sub 10, 26 excluded\n",
    "cols = np.delete(col_sm, col_sm_exclude) \n",
    "#print(cols)\n",
    "#print(len(cols))\n",
    "\n",
    "run_ec= pd.read_excel(os.path.join(ec_counting,'Event_counting.xlsx'), sheet_name = 'Run_2', usecols = cols)\n",
    "dre_ec= pd.read_excel(os.path.join(ec_counting,'Event_counting.xlsx'), sheet_name = 'Dre_2', usecols = cols)\n",
    "nei_ec= pd.read_excel(os.path.join(ec_counting,'Event_counting.xlsx'), sheet_name = 'Nei_2', usecols = cols)\n",
    "bli_ec= pd.read_excel(os.path.join(ec_counting,'Event_counting.xlsx'), sheet_name = 'Bli_2', usecols = cols)\n",
    "\n",
    "#chage NAN to 0 \n",
    "run_ec = run_ec.fillna(0)\n",
    "dre_ec = dre_ec.fillna(0)\n",
    "nei_ec = nei_ec.fillna(0)\n",
    "bli_ec = bli_ec.fillna(0)"
   ]
  },
  {
   "cell_type": "code",
   "execution_count": 70,
   "id": "59b23cb4-a491-4b1a-a38f-1c8ae2fea1e2",
   "metadata": {},
   "outputs": [],
   "source": [
    "# Define Event Counting vectors \n",
    "vis_run_ec = run_ec[0:13].reset_index(drop=True)\n",
    "aud_run_ec = run_ec[13:26].reset_index(drop=True)\n",
    "\n",
    "vis_dre_ec = dre_ec[0:10].reset_index(drop=True)\n",
    "aud_dre_ec = dre_ec[10:20].reset_index(drop=True)\n",
    "\n",
    "vis_nei_ec = nei_ec[0:16].reset_index(drop=True)\n",
    "aud_nei_ec = nei_ec[16:32].reset_index(drop=True)\n",
    "\n",
    "vis_bli_ec = bli_ec[0:10].reset_index(drop=True)\n",
    "aud_bli_ec = bli_ec[10:20].reset_index(drop=True)\n",
    "\n",
    "# Define Updating vectors \n",
    "update_run_ed = run_ec[26:39].reset_index(drop=True)\n",
    "update_dre_ec = dre_ec[20:30].reset_index(drop=True)\n",
    "update_nei_ec = nei_ec[32:48].reset_index(drop=True)\n",
    "update_bli_ec = bli_ec[20:30].reset_index(drop=True)"
   ]
  },
  {
   "cell_type": "code",
   "execution_count": 111,
   "id": "9eab2e38-2b65-460c-9412-cef8360fe01b",
   "metadata": {},
   "outputs": [],
   "source": [
    "visual_stroy_ec = {'run' : vis_run_ec, 'dream': vis_dre_ec, 'nei': vis_nei_ec, 'bli': vis_bli_ec}\n",
    "audio_stroy_ec = {'run' : aud_run_ec, 'dream': aud_dre_ec, 'nei': aud_nei_ec, 'bli': aud_bli_ec}\n",
    "update_stroy_ec = {'run' : update_run_ed, 'dream': update_dre_ec, 'nei': update_nei_ec, 'bli': update_bli_ec}"
   ]
  },
  {
   "cell_type": "code",
   "execution_count": 226,
   "id": "3578db22-ac88-4cc8-a892-27fefe85d724",
   "metadata": {},
   "outputs": [
    {
     "data": {
      "text/plain": [
       "31"
      ]
     },
     "execution_count": 226,
     "metadata": {},
     "output_type": "execute_result"
    }
   ],
   "source": [
    "col = update_stroy_ec['run'].columns\n",
    "len(col)"
   ]
  },
  {
   "cell_type": "markdown",
   "id": "f3f5aff1-1ced-4b67-ba22-3737408ada32",
   "metadata": {},
   "source": [
    "# 1. Make Behav similarity matrix "
   ]
  },
  {
   "cell_type": "raw",
   "id": "e7918c9b-0379-4fe7-899a-0d9a1182df6c",
   "metadata": {},
   "source": [
    "Syntax: scipy.spatial.distance_matrix(x, y, p=2)\n",
    " \n",
    "Parameters:\n",
    "    x : (M, K) Matrix of M vectors, each of dimension K. \n",
    "    y : (N, K) Matrix of N vectors, each of dimension K. \n",
    "    p : float, 1 <= p <= infinity, defines which Minkowski p-norm to use.\n",
    "\n",
    "Returns: (M, N) ndarray\n",
    "/ matrix containing the distance from every vector in x to every vector in y.\n",
    "\n",
    "p = 1, Manhattan Distance\n",
    "p = 2, Euclidean Distance\n",
    "p = ∞, Chebychev Distance"
   ]
  },
  {
   "cell_type": "code",
   "execution_count": 414,
   "id": "ab2b56d5-39b9-40d2-9bfb-98a3e9657851",
   "metadata": {},
   "outputs": [],
   "source": [
    "#make behavior predictors as (timeseries * features [reuse, details, events, delete])\n",
    "\n",
    "import re\n",
    "\n",
    "eventTime = {'run':[11,24,26,28,34,44,58,59,65,67,69,99,107], 'dream':[11, 16, 18, 22, 35, 51, 71, 76, 88, 100], 'nei': [11,14,19, 22,25,28,31,34,38,42,62,72,88,89,94,110], 'bli': [11,13,22,24,28,40,43,56,60,104]}\n",
    "story_timeseries = {}\n",
    "for story in ['run', 'dream', 'nei', 'bli']:\n",
    "    sub_timeseries = {} \n",
    "    for col in update_stroy_ec[story].columns:\n",
    "        \n",
    "        event_time = eventTime[story]\n",
    "        \n",
    "        timecourse_values = np.tile([0,0,0,0], (event_time[0]-1, 1)) # for countdown\n",
    "        \n",
    "        for i in range(len(event_time)) : # start from 0~12 \n",
    "            update_score = update_stroy_ec[story][col][i]\n",
    "            if story == 'dream':\n",
    "                end_time = 110 # 10 / 100/ 6 \n",
    "            else: \n",
    "                end_time = 120 # 10/ 110/ 6\n",
    "\n",
    "            if update_score == 0: # reuse\n",
    "                score_array = np.array([1, 0, 0, 0])\n",
    "            elif update_score == 0.5: # detail addition\n",
    "                score_array = np.array([0, 1, 0, 0])\n",
    "            elif update_score == 1: # event addition\n",
    "                score_array = np.array([0, 0, 1, 0])\n",
    "            elif update_score == - 1:\n",
    "                score_array = np.array([0, 0, 0, 1])\n",
    "\n",
    "            if i == len(event_time) - 1:\n",
    "                duration = end_time - event_time[i] + 1\n",
    "                event_timeseries = np.tile(score_array, (duration, 1))\n",
    "            else: \n",
    "                duration = event_time[i+1] - event_time[i]\n",
    "                event_timeseries = np.tile(score_array, (duration, 1))   \n",
    "                \n",
    "            timecourse_values = np.concatenate([timecourse_values, event_timeseries], axis = 0)\n",
    "                \n",
    "        #timecourse_values = np.concatenate([timecourse_values, dummy], axis = 0)\n",
    "            \n",
    "\n",
    "                             \n",
    "        # Use regular expression to split alphabetic and numeric parts\n",
    "        match = re.match(r\"([a-zA-Z]+)([0-9]+)\", col)\n",
    "\n",
    "        if match:\n",
    "            alphabetic_part = match.group(1)\n",
    "            numeric_part = match.group(2)\n",
    "\n",
    "        sub_timeseries[int(numeric_part)] = timecourse_values\n",
    "    story_timeseries[story] =sub_timeseries"
   ]
  },
  {
   "cell_type": "code",
   "execution_count": 415,
   "id": "58861e16-47ab-4f6d-a11c-0d7db9264237",
   "metadata": {},
   "outputs": [
    {
     "data": {
      "text/plain": [
       "(120, 4)"
      ]
     },
     "execution_count": 415,
     "metadata": {},
     "output_type": "execute_result"
    }
   ],
   "source": [
    "story_timeseries['run'][2].shape"
   ]
  },
  {
   "cell_type": "code",
   "execution_count": 109,
   "id": "f69f06bb-0fd2-420f-88ec-70d6b633c1a9",
   "metadata": {
    "tags": []
   },
   "outputs": [],
   "source": [
    "# a. Correlation matrix between for each subject\n",
    "import numpy as np    \n",
    "from scipy.spatial import distance_matrix\n",
    "import matplotlib.pyplot as plt\n",
    "import seaborn as sns\n",
    "\n",
    "dinstance_for_story = {} \n",
    "for story in ['run', 'dream', 'nei', 'bli']:\n",
    "    vis_col_names = visual_stroy_ec[story].columns\n",
    "    col_len = len(visual_stroy_ec[story].index)\n",
    "    \n",
    "    distance_map = {}\n",
    "    for col in vis_col_names:  \n",
    "        vis_ec = np.array(visual_stroy_ec[story][col]).reshape((col_len, 1))\n",
    "        aud_ec = np.array(visual_stroy_ec[story][col]).reshape((col_len, 1)) \n",
    "        # calculate condensed distance matrix by wrapping the hamming distance function\n",
    "        distance_map[int(col[2])] = distance_matrix(vis_ec, aud_ec, p = 2)\n",
    "        \n",
    "        # plt.figure(figsize=(8, 6))\n",
    "        # sns.heatmap(distance_map[int(col[2])], cmap='viridis', annot=True, fmt=\".2f\", linewidths=.5)\n",
    "        # plt.title('Distance Matrix Heatmap')\n",
    "        # plt.show()\n",
    "        \n",
    "        # average between subjects ?\n",
    "    dinstance_for_story[story] = distance_map\n",
    "        "
   ]
  },
  {
   "cell_type": "code",
   "execution_count": 73,
   "id": "830eecdd-f81a-4284-b343-bacbad713d40",
   "metadata": {},
   "outputs": [],
   "source": [
    "# b. cole's logics"
   ]
  },
  {
   "cell_type": "markdown",
   "id": "02dde6a1-5a3c-45f1-ab18-d9aee74ae430",
   "metadata": {
    "tags": []
   },
   "source": [
    "# 2. Make brain similarity matrix"
   ]
  },
  {
   "cell_type": "markdown",
   "id": "b431a6ac-c813-4d78-8004-2542abcaec4f",
   "metadata": {
    "jp-MarkdownHeadingCollapsed": true,
    "tags": []
   },
   "source": [
    "## Load brain datas"
   ]
  },
  {
   "cell_type": "code",
   "execution_count": 8,
   "id": "080f83cc-482c-4cc9-8f0e-c764024e34eb",
   "metadata": {
    "tags": []
   },
   "outputs": [],
   "source": [
    "# Data Load & Trimming \n",
    "onset = {'set-4' :  [9, 119, 239, 359], 'set-6': [9, 129, 249, 369, 489 ], 'Dream1' : [9, 119, 239, 359], 'Dream2' : [9, 129, 239, 359], 'Dream3' : [9, 129, 249, 359], 'Dream4' : [9, 129, 249, 369]}\n",
    "offset = {'set-4' : [116, 236, 356, 476], 'set-6': [126, 246, 366, 486, 606], 'Dream1' : [116, 236, 356, 476], 'Dream2' : [126, 236, 356, 476], 'Dream3' : [126, 246, 356, 476], 'Dream4' : [126, 246, 366, 476]} \n",
    "# May는 Dream의 위치에 따라 Trimming이 달라져야함.. ;D\n",
    "\n",
    "sub_story_timeseries = {}\n",
    "for sub in subjects:\n",
    "    story = {} \n",
    "    sequence = np.where(all_story[sub]=='Dream')[0][0]\n",
    "    #print(sequence)\n",
    "    cond = 'Dream'+str(int(sequence)+1)\n",
    "    #print(cond)\n",
    "    denoised_dir = os.path.join(May_dir, 'denoised', 'denoised_2023')\n",
    "    if sub < 10:\n",
    "        data = glob.glob(os.path.join(denoised_dir,'Averaged_ROI', f'sub-0{sub}_task-encoding_run-1_Average_ROI_n50.csv'))   \n",
    "        data2 = glob.glob(os.path.join(denoised_dir,'Averaged_ROI', f'sub-0{sub}_task-encoding_run-2_Average_ROI_n50.csv')) \n",
    "    else: \n",
    "        data = glob.glob(os.path.join(denoised_dir,'Averaged_ROI', f'sub-{sub}_task-encoding_run-1_Average_ROI_n50.csv'))   \n",
    "        data2 = glob.glob(os.path.join(denoised_dir,'Averaged_ROI', f'sub-{sub}_task-encoding_run-2_Average_ROI_n50.csv'))\n",
    "    \n",
    "    for i in np.arange(0,4):\n",
    "        storyName = ['run', 'blind', 'dream', 'nei']\n",
    "        story[storyName[i]] = {'visual' : data[onset[cond][i]:offset[cond][i]], 'audio' : data2[onset[cond][i]:offset[cond][i]]}\n",
    "    \n",
    "    sub_story_timeseries[sub] = story"
   ]
  },
  {
   "cell_type": "code",
   "execution_count": 229,
   "id": "13673a96-8686-41a7-8527-4971f064468f",
   "metadata": {
    "tags": []
   },
   "outputs": [],
   "source": [
    "# Data Load & Trimming \n",
    "onset = {'set-4' :  [9, 119, 239, 359], 'set-6': [9, 129, 249, 369, 489 ], 'Dream1' : [9, 119, 239, 359], 'Dream2' : [9, 129, 239, 359], 'Dream3' : [9, 129, 249, 359], 'Dream4' : [9, 129, 249, 369]}\n",
    "offset = {'set-4' : [116, 236, 356, 476], 'set-6': [126, 246, 366, 486, 606], 'Dream1' : [116, 236, 356, 476], 'Dream2' : [126, 236, 356, 476], 'Dream3' : [126, 246, 356, 476], 'Dream4' : [126, 246, 366, 476]} \n",
    "# May는 Dream의 위치에 따라 Trimming이 달라져야함.. ;D\n",
    "\n",
    "func_imgs, n_trs = {}, {}\n",
    "for sub in subjects:\n",
    "\n",
    "    denoised_dir = os.path.join(May_dir, 'denoised', 'denoised_2023')\n",
    "    n_tr, func_img = {}, {}\n",
    "    for run in [1,2]: \n",
    "        if sub < 10:\n",
    "            data_dir = glob.glob(os.path.join(denoised_dir, f'sub-0{sub}_denoise_task-encoding_run-{run}_space-MNI152NLin6Asym_desc-preproc_bold.nii.gz'))[0]   \n",
    "        else: \n",
    "            data_dir = glob.glob(os.path.join(denoised_dir, f'sub-{sub}_denoise_task-encoding_run-{run}_space-MNI152NLin6Asym_desc-preproc_bold.nii.gz'))[0] \n",
    "        func_img[run] = nib.load(data_dir)\n",
    "        n_tr[run] = func_img[run].shape[3]\n",
    "    func_imgs[sub] = func_img\n",
    "    n_trs[sub] = n_tr  \n"
   ]
  },
  {
   "cell_type": "markdown",
   "id": "d6d3f1d0-5100-4f02-a5cd-f32aa182ce8c",
   "metadata": {
    "tags": []
   },
   "source": [
    "## Load beta maps with GLM "
   ]
  },
  {
   "cell_type": "code",
   "execution_count": 71,
   "id": "246ab70d-90e2-4ae1-b884-297c3c228852",
   "metadata": {},
   "outputs": [],
   "source": [
    "# 1. 참가자 변수 - 절편 값 \n",
    "# 2. 참가자 이야기 순서 \n",
    "sub_sequence = all_story[sub]\n",
    "# 3. 이야기 변수 - onset, offset 으로 설정 \n",
    "sequence = np.where(sub_sequence=='Dream')[0][0]\n",
    "cond = 'Dream'+str(int(sequence)+1)\n",
    "\n",
    "onset = {'Dream1' : [9, 119, 239, 359], 'Dream2' : [9, 129, 239, 359], 'Dream3' : [9, 129, 249, 359], 'Dream4' : [9, 129, 249, 369]}\n",
    "offset = {'Dream1' : [116, 236, 356, 476], 'Dream2' : [126, 236, 356, 476], 'Dream3' : [126, 246, 356, 476], 'Dream4' : [126, 246, 366, 476]} \n",
    "\n",
    "# 4. 사건 변수 - 저번에 정리한 걸로\n",
    "story_EB_visual = {'run':[18,38,48,88], 'dream':[6,18,78], 'nei':[64,85], 'blind':[50,58,93]}\n",
    "story_EB_audio = {'run':[16, 48,68,88,108], 'dream':[8,18,78], 'nei':[12,32,44,62,84], 'blind':[25,77,95]}\n",
    "\n",
    "# 5. 언급 유무 변수 \n",
    "# Define Event Counting vectors \n",
    "vis_run_ec = run_ec[0:13].reset_index(drop=True)\n",
    "aud_run_ec = run_ec[13:26].reset_index(drop=True)\n",
    "\n",
    "vis_dre_ec = dre_ec[0:10].reset_index(drop=True)\n",
    "aud_dre_ec = dre_ec[10:20].reset_index(drop=True)\n",
    "\n",
    "vis_nei_ec = nei_ec[0:16].reset_index(drop=True)\n",
    "aud_nei_ec = nei_ec[16:32].reset_index(drop=True)\n",
    "\n",
    "vis_bli_ec = bli_ec[0:10].reset_index(drop=True)\n",
    "aud_bli_ec = bli_ec[10:20].reset_index(drop=True)\n",
    "\n",
    "# Define Updating vectors \n",
    "update_run_ed = run_ec[26:39].reset_index(drop=True)\n",
    "update_dre_ec = dre_ec[20:30].reset_index(drop=True)\n",
    "update_nei_ec = nei_ec[32:48].reset_index(drop=True)\n",
    "update_bli_ec = bli_ec[20:30].reset_index(drop=True)"
   ]
  },
  {
   "cell_type": "code",
   "execution_count": 400,
   "id": "23ed93e4-83af-4d6f-9be9-4353575a524a",
   "metadata": {
    "tags": []
   },
   "outputs": [],
   "source": [
    "\n",
    "\n",
    "sub_recall_timeseries = {}\n",
    "for sub in subjects:\n",
    "    storyName = {'RunningMan':'run','BlindDate':'bli', 'Dream':'dre', 'Neighbors':'nei'}\n",
    "    for num in range(0,4):\n",
    "    resue = story_timeseries[storyName[all_story[sub][0]]][sub]\n",
    "    recall2 = story_timeseries[storyName[all_story[sub][1]]][sub]\n",
    "    recall3 = story_timeseries[storyName[all_story[sub][2]]][sub]\n",
    "    recall4 = story_timeseries[storyName[all_story[sub][3]]][sub]\n",
    "        \n",
    "    sub_recall_timeseries[sub] = np.vstack([[intercept], [recall1], [recall2], [recall3], [recall4],])\n"
   ]
  },
  {
   "cell_type": "code",
   "execution_count": 405,
   "id": "df85b6a6-152a-4662-88e5-ad6aa1efce1b",
   "metadata": {
    "tags": []
   },
   "outputs": [],
   "source": [
    "eventTime = {'run':[11,24,26,28,34,44,58,59,65,67,69,99,107], 'dream':[11, 16, 18, 22, 35, 51, 71, 76, 88, 100], 'nei': [11,14,19, 22,25,28,31,34,38,42,62,72,88,89,94,110], 'bli': [11,13,22,24,28,40,43,56,60,104]}\n",
    "\n",
    "n_tr = 477 \n",
    "sub_story_timeseries = {}\n",
    "for sub in subjects:\n",
    "    sequence = np.where(all_story[sub]=='Dream')[0][0]\n",
    "    cond = 'Dream'+str(int(sequence)+1)\n",
    "    storyName = all_story[sub]\n",
    "    \n",
    "    story1 = np.zeros(n_tr)\n",
    "    story1[onset[cond][0]:offset[cond][0]] =  1 \n",
    "    story2 = np.zeros(n_tr)\n",
    "    story2[onset[cond][1]:offset[cond][1]] =  1 \n",
    "    story3 = np.zeros(n_tr)\n",
    "    story3[onset[cond][2]:offset[cond][2]] =  1 \n",
    "    story4 = np.zeros(n_tr)\n",
    "    story4[onset[cond][3]:offset[cond][3]] =  1 \n",
    "    \n",
    "    intercept = np.ones(n_tr)\n",
    "    \n",
    "    sub_story_timeseries[sub] = (np.vstack([[intercept], [story1], [story2], [story3], [story4],])).T\n"
   ]
  },
  {
   "cell_type": "code",
   "execution_count": 404,
   "id": "de577429-0f69-4ece-8880-eaa525178cdf",
   "metadata": {},
   "outputs": [
    {
     "data": {
      "text/plain": [
       "(477, 5)"
      ]
     },
     "execution_count": 406,
     "metadata": {},
     "output_type": "execute_result"
    }
   ],
   "source": [
    "sub_story_timeseries[sub].shape"
   ]
  },
  {
   "cell_type": "code",
   "execution_count": 38,
   "id": "5032b6f6-920a-487a-ac42-24671f08343c",
   "metadata": {},
   "outputs": [
    {
     "data": {
      "text/plain": [
       "9"
      ]
     },
     "execution_count": 38,
     "metadata": {},
     "output_type": "execute_result"
    }
   ],
   "source": [
    "from nltools.data import Brain_Data, Design_Matrix\n",
    "TR = 1\n",
    "intercept = np.ones(n_tr)\n",
    "x1 = (np.vstack([[countdown], [YesStimulus], [story1], [story2], [story3], [story4], [story5]])).T\n",
    "print(x1.shape)\n",
    "dm1 = Design_Matrix(x1, sampling_freq = 1./TR, columns = ['countdown', 'YesStimulus', 'story1', 'story2', 'story3', 'story4', 'story5'])"
   ]
  },
  {
   "cell_type": "markdown",
   "id": "dd044f10-1d4a-4a41-ae05-f7f81bfffb15",
   "metadata": {
    "tags": []
   },
   "source": [
    "## Intra-subject correlation in brain "
   ]
  },
  {
   "cell_type": "code",
   "execution_count": 239,
   "id": "f18a33c0-b550-42fc-b5f5-f24d6c0b4641",
   "metadata": {},
   "outputs": [],
   "source": [
    "import os\n",
    "import glob\n",
    "import numpy as np\n",
    "from numpy.fft import fft, ifft, fftfreq\n",
    "import pandas as pd\n",
    "import matplotlib.pyplot as plt\n",
    "from matplotlib import gridspec\n",
    "from matplotlib.animation import FuncAnimation\n",
    "import seaborn as sns\n",
    "from nltools.data import Brain_Data, Adjacency\n",
    "from nltools.mask import expand_mask, roi_to_brain\n",
    "from nltools.stats import isc, isfc, isps, fdr, threshold\n",
    "from nilearn.plotting import view_img_on_surf, view_img\n",
    "from sklearn.metrics import pairwise_distances\n",
    "from sklearn.utils import check_random_state\n",
    "from scipy.stats import ttest_1samp\n",
    "from scipy.signal import hilbert\n",
    "import networkx as nx\n",
    "from IPython.display import HTML"
   ]
  },
  {
   "cell_type": "code",
   "execution_count": 261,
   "id": "e267aead-e456-4150-b113-53d9295e04c7",
   "metadata": {},
   "outputs": [],
   "source": [
    "May_dir = '/mnt/c/Users/since/Desktop/KdramaMay/'"
   ]
  },
  {
   "cell_type": "code",
   "execution_count": 358,
   "id": "1694842d-858e-4568-98e1-499e6db04ec5",
   "metadata": {},
   "outputs": [
    {
     "name": "stdout",
     "output_type": "stream",
     "text": [
      "[ 2  3  4  5  6  7  8 10 11 12 13 14 15 16 17 18 19 20 21 22 23 24 25 27\n",
      " 28 29 30 31 32 33]\n"
     ]
    }
   ],
   "source": [
    "#Subject check \n",
    "sub_sm = np.arange(1,34)\n",
    "sub_sm_exclude = [0,8,25]\n",
    "subjects = np.delete(sub_sm, sub_sm_exclude)\n",
    "#print(subject)\n",
    "print(subjects)"
   ]
  },
  {
   "cell_type": "code",
   "execution_count": 316,
   "id": "673622bc-da08-4024-ba83-f681291adb5f",
   "metadata": {
    "tags": []
   },
   "outputs": [],
   "source": [
    "# Data Load & Trimming \n",
    "onset = {'set-4' :  [9, 119, 239, 359], 'set-6': [9, 129, 249, 369, 489 ], 'Dream1' : [9, 119, 239, 359], 'Dream2' : [9, 129, 239, 359], 'Dream3' : [9, 129, 249, 359], 'Dream4' : [9, 129, 249, 369]}\n",
    "offset = {'set-4' : [116, 236, 356, 476], 'set-6': [126, 246, 366, 486, 606], 'Dream1' : [116, 236, 356, 476], 'Dream2' : [126, 236, 356, 476], 'Dream3' : [126, 246, 356, 476], 'Dream4' : [126, 246, 366, 476]} \n",
    "# May는 Dream의 위치에 따라 Trimming이 달라져야함.. ;D\n",
    "\n",
    "\n",
    "sub_story_timeseries = {}\n",
    "for sub in subjects:\n",
    "    story = {} \n",
    "    sequence = np.where(all_story[sub]=='Dream')[0][0]\n",
    "    #print(sequence)\n",
    "    cond = 'Dream'+str(int(sequence)+1)\n",
    "    #print(cond)\n",
    "    denoised_dir = os.path.join(May_dir, 'denoised', 'denoised_2023')\n",
    "    if sub < 10:\n",
    "        data = pd.read_csv(os.path.join(denoised_dir,'Averaged_ROI', f'sub-0{sub}_task-encoding_run-1_Average_ROI_n50.csv'))   \n",
    "        data2 = pd.read_csv(os.path.join(denoised_dir,'Averaged_ROI', f'sub-0{sub}_task-encoding_run-2_Average_ROI_n50.csv')) \n",
    "    else: \n",
    "        data = pd.read_csv(os.path.join(denoised_dir,'Averaged_ROI', f'sub-{sub}_task-encoding_run-1_Average_ROI_n50.csv'))   \n",
    "        data2 = pd.read_csv(os.path.join(denoised_dir,'Averaged_ROI', f'sub-{sub}_task-encoding_run-2_Average_ROI_n50.csv'))\n",
    "    \n",
    "    \n",
    "    for i in np.arange(0,4):\n",
    "    #print(cond)\n",
    "        storyName = {'RunningMan':'run','BlindDate':'bli', 'Dream':'dre', 'Neighbors':'nei'}\n",
    "        story[storyName[all_story[sub][i]]] = {'visual' : data[onset[cond][i]:offset[cond][i]], 'audio' : data2[onset[cond][i]:offset[cond][i]]}\n",
    "\n",
    "    sub_story_timeseries[int(sub)] = story"
   ]
  },
  {
   "cell_type": "code",
   "execution_count": 319,
   "id": "1d0ec7af-64ce-41b9-a380-8a3a9415727c",
   "metadata": {
    "tags": []
   },
   "outputs": [
    {
     "data": {
      "text/plain": [
       "'/mnt/c/Users/since/Desktop/KdramaMay/denoised/denoised_2023/Averaged_ROI/sub-33_task-encoding_run-1_Average_ROI_n50.csv'"
      ]
     },
     "execution_count": 319,
     "metadata": {},
     "output_type": "execute_result"
    }
   ],
   "source": [
    "os.path.join(denoised_dir,'Averaged_ROI', f'sub-{sub}_task-encoding_run-1_Average_ROI_n50.csv')"
   ]
  },
  {
   "cell_type": "code",
   "execution_count": 353,
   "id": "cc7a2d33-ecc8-4778-8857-841b320e1952",
   "metadata": {},
   "outputs": [
    {
     "data": {
      "text/plain": [
       "array([ 1,  2,  3,  4,  5,  6,  7,  8, 10, 11, 12, 13, 14, 15, 16, 17, 18,\n",
       "       19, 20, 21, 22, 23, 24, 25, 26, 27, 28, 29, 30, 31, 32, 33])"
      ]
     },
     "execution_count": 353,
     "metadata": {},
     "output_type": "execute_result"
    }
   ],
   "source": [
    "subjects"
   ]
  },
  {
   "cell_type": "code",
   "execution_count": 359,
   "id": "f93533b9-a030-467a-acc6-e35d6da04938",
   "metadata": {
    "collapsed": true,
    "jupyter": {
     "outputs_hidden": true
    },
    "tags": []
   },
   "outputs": [
    {
     "name": "stdout",
     "output_type": "stream",
     "text": [
      "2\n",
      "(477, 50)\n",
      "(477, 50)\n",
      "3\n",
      "(477, 50)\n",
      "(477, 50)\n",
      "4\n",
      "(477, 50)\n",
      "(477, 50)\n",
      "5\n",
      "(477, 50)\n",
      "(477, 50)\n",
      "6\n",
      "(477, 50)\n",
      "(477, 50)\n",
      "7\n",
      "(477, 50)\n",
      "(477, 50)\n",
      "8\n",
      "(477, 50)\n",
      "(477, 50)\n",
      "10\n",
      "(477, 50)\n",
      "(477, 50)\n",
      "11\n",
      "(477, 50)\n",
      "(477, 50)\n",
      "12\n",
      "(477, 50)\n",
      "(477, 50)\n",
      "13\n",
      "(477, 50)\n",
      "(477, 50)\n",
      "14\n",
      "(477, 50)\n",
      "(477, 50)\n",
      "15\n",
      "(477, 50)\n",
      "(477, 50)\n",
      "16\n",
      "(477, 50)\n",
      "(477, 50)\n",
      "17\n",
      "(477, 50)\n",
      "(477, 50)\n",
      "18\n",
      "(477, 50)\n",
      "(477, 50)\n",
      "19\n",
      "(477, 50)\n",
      "(477, 50)\n",
      "20\n",
      "(477, 50)\n",
      "(477, 50)\n",
      "21\n",
      "(477, 50)\n",
      "(477, 50)\n",
      "22\n",
      "(477, 50)\n",
      "(477, 50)\n",
      "23\n",
      "(477, 50)\n",
      "(477, 50)\n",
      "24\n",
      "(477, 50)\n",
      "(477, 50)\n",
      "25\n",
      "(477, 50)\n",
      "(477, 50)\n",
      "27\n",
      "(477, 50)\n",
      "(477, 50)\n",
      "28\n",
      "(477, 50)\n",
      "(477, 50)\n",
      "29\n",
      "(477, 50)\n",
      "(477, 50)\n",
      "30\n",
      "(477, 50)\n",
      "(477, 50)\n",
      "31\n",
      "(477, 50)\n",
      "(477, 50)\n",
      "32\n",
      "(477, 50)\n",
      "(477, 50)\n",
      "33\n",
      "(477, 50)\n",
      "(477, 50)\n"
     ]
    }
   ],
   "source": [
    "data = {} \n",
    "for sub in subjects:\n",
    "    print(sub)\n",
    "    run_data = {} \n",
    "    for run in range(1,3): # run = 1,2\n",
    "        #print(run) \n",
    "        if sub < 10:\n",
    "            run_data[run] = pd.read_csv(os.path.join(denoised_dir,'Averaged_ROI', f'sub-0{sub}_task-encoding_run-{run}_Average_ROI_n50.csv'))\n",
    "        else:\n",
    "            run_data[run] = pd.read_csv(os.path.join(denoised_dir,'Averaged_ROI', f'sub-{sub}_task-encoding_run-{run}_Average_ROI_n50.csv'))\n",
    "        print(run_data[run].shape)\n",
    "    sub_data = np.stack([run_data[1].to_numpy(), run_data[2].to_numpy()], axis = 0)\n",
    "    data[sub] = np.array(sub_data)   # (2,117, 50) \n",
    "        \n",
    "    \n",
    "    \n",
    "\n",
    "# data = []\n",
    "# for subj in subj_list:\n",
    "#     sub_data = []\n",
    "#     for run in range(1,4):\n",
    "#         sub_data.append(pd.read_csv(os.path.join(data_dir, 'fmriprep', subj, 'func', f'{subj}_run-{run}_nodeTimeSeries.csv')))\n",
    "#     sub_data = pd.concat(sub_data)\n",
    "#     data.append(sub_data.values)\n",
    "# data = np.array(data)\n"
   ]
  },
  {
   "cell_type": "code",
   "execution_count": 362,
   "id": "8640dd48-ad3a-4c87-916a-cb54f6ff5c36",
   "metadata": {},
   "outputs": [
    {
     "name": "stdout",
     "output_type": "stream",
     "text": [
      "(2, 477, 50)\n"
     ]
    }
   ],
   "source": [
    "print(data[2].shape)\n",
    "n_subs, n_ts, n_nodes = data[2].shape"
   ]
  },
  {
   "cell_type": "code",
   "execution_count": 376,
   "id": "9cd39c9e-c888-4c67-90b8-6be77c255829",
   "metadata": {},
   "outputs": [
    {
     "ename": "ValueError",
     "evalue": "Expected 2D array, got 1D array instead:\narray=[-0.7269192 -1.7704142].\nReshape your data either using array.reshape(-1, 1) if your data has a single feature or array.reshape(1, -1) if it contains a single sample.",
     "output_type": "error",
     "traceback": [
      "\u001b[0;31m---------------------------------------------------------------------------\u001b[0m",
      "\u001b[0;31mValueError\u001b[0m                                Traceback (most recent call last)",
      "\u001b[0;32m/tmp/ipykernel_2840/2306202438.py\u001b[0m in \u001b[0;36m<module>\u001b[0;34m\u001b[0m\n\u001b[1;32m      4\u001b[0m     \u001b[0;32mfor\u001b[0m \u001b[0mnode\u001b[0m \u001b[0;32min\u001b[0m \u001b[0mrange\u001b[0m\u001b[0;34m(\u001b[0m\u001b[0mn_nodes\u001b[0m\u001b[0;34m)\u001b[0m\u001b[0;34m:\u001b[0m\u001b[0;34m\u001b[0m\u001b[0;34m\u001b[0m\u001b[0m\n\u001b[1;32m      5\u001b[0m         \u001b[0;32mfor\u001b[0m \u001b[0mn_t\u001b[0m \u001b[0;32min\u001b[0m \u001b[0mrange\u001b[0m\u001b[0;34m(\u001b[0m\u001b[0mn_ts\u001b[0m\u001b[0;34m)\u001b[0m\u001b[0;34m:\u001b[0m\u001b[0;34m\u001b[0m\u001b[0;34m\u001b[0m\u001b[0m\n\u001b[0;32m----> 6\u001b[0;31m             \u001b[0msimilarity_matrices\u001b[0m\u001b[0;34m.\u001b[0m\u001b[0mappend\u001b[0m\u001b[0;34m(\u001b[0m\u001b[0mAdjacency\u001b[0m\u001b[0;34m(\u001b[0m\u001b[0;36m1\u001b[0m \u001b[0;34m-\u001b[0m \u001b[0mpairwise_distances\u001b[0m\u001b[0;34m(\u001b[0m\u001b[0mdata\u001b[0m\u001b[0;34m[\u001b[0m\u001b[0msub\u001b[0m\u001b[0;34m]\u001b[0m\u001b[0;34m[\u001b[0m\u001b[0;34m:\u001b[0m\u001b[0;34m,\u001b[0m \u001b[0mn_t\u001b[0m\u001b[0;34m,\u001b[0m \u001b[0mnode\u001b[0m\u001b[0;34m]\u001b[0m\u001b[0;34m,\u001b[0m \u001b[0mmetric\u001b[0m\u001b[0;34m=\u001b[0m\u001b[0;34m'correlation'\u001b[0m\u001b[0;34m)\u001b[0m\u001b[0;34m,\u001b[0m \u001b[0mmatrix_type\u001b[0m\u001b[0;34m=\u001b[0m\u001b[0;34m'similarity'\u001b[0m\u001b[0;34m)\u001b[0m\u001b[0;34m)\u001b[0m\u001b[0;34m\u001b[0m\u001b[0;34m\u001b[0m\u001b[0m\n\u001b[0m\u001b[1;32m      7\u001b[0m     \u001b[0msub_similarity_matrices\u001b[0m\u001b[0;34m[\u001b[0m\u001b[0msub\u001b[0m\u001b[0;34m]\u001b[0m \u001b[0;34m=\u001b[0m  \u001b[0mAdjacency\u001b[0m\u001b[0;34m(\u001b[0m\u001b[0msimilarity_matrices\u001b[0m\u001b[0;34m)\u001b[0m\u001b[0;34m\u001b[0m\u001b[0;34m\u001b[0m\u001b[0m\n",
      "\u001b[0;32m~/.conda/envs/fmri01/lib/python3.7/site-packages/sklearn/metrics/pairwise.py\u001b[0m in \u001b[0;36mpairwise_distances\u001b[0;34m(X, Y, metric, n_jobs, force_all_finite, **kwds)\u001b[0m\n\u001b[1;32m   1876\u001b[0m \u001b[0;34m\u001b[0m\u001b[0m\n\u001b[1;32m   1877\u001b[0m         X, Y = check_pairwise_arrays(\n\u001b[0;32m-> 1878\u001b[0;31m             \u001b[0mX\u001b[0m\u001b[0;34m,\u001b[0m \u001b[0mY\u001b[0m\u001b[0;34m,\u001b[0m \u001b[0mdtype\u001b[0m\u001b[0;34m=\u001b[0m\u001b[0mdtype\u001b[0m\u001b[0;34m,\u001b[0m \u001b[0mforce_all_finite\u001b[0m\u001b[0;34m=\u001b[0m\u001b[0mforce_all_finite\u001b[0m\u001b[0;34m\u001b[0m\u001b[0;34m\u001b[0m\u001b[0m\n\u001b[0m\u001b[1;32m   1879\u001b[0m         )\n\u001b[1;32m   1880\u001b[0m \u001b[0;34m\u001b[0m\u001b[0m\n",
      "\u001b[0;32m~/.conda/envs/fmri01/lib/python3.7/site-packages/sklearn/metrics/pairwise.py\u001b[0m in \u001b[0;36mcheck_pairwise_arrays\u001b[0;34m(X, Y, precomputed, dtype, accept_sparse, force_all_finite, copy)\u001b[0m\n\u001b[1;32m    151\u001b[0m             \u001b[0mcopy\u001b[0m\u001b[0;34m=\u001b[0m\u001b[0mcopy\u001b[0m\u001b[0;34m,\u001b[0m\u001b[0;34m\u001b[0m\u001b[0;34m\u001b[0m\u001b[0m\n\u001b[1;32m    152\u001b[0m             \u001b[0mforce_all_finite\u001b[0m\u001b[0;34m=\u001b[0m\u001b[0mforce_all_finite\u001b[0m\u001b[0;34m,\u001b[0m\u001b[0;34m\u001b[0m\u001b[0;34m\u001b[0m\u001b[0m\n\u001b[0;32m--> 153\u001b[0;31m             \u001b[0mestimator\u001b[0m\u001b[0;34m=\u001b[0m\u001b[0mestimator\u001b[0m\u001b[0;34m,\u001b[0m\u001b[0;34m\u001b[0m\u001b[0;34m\u001b[0m\u001b[0m\n\u001b[0m\u001b[1;32m    154\u001b[0m         )\n\u001b[1;32m    155\u001b[0m     \u001b[0;32melse\u001b[0m\u001b[0;34m:\u001b[0m\u001b[0;34m\u001b[0m\u001b[0;34m\u001b[0m\u001b[0m\n",
      "\u001b[0;32m~/.conda/envs/fmri01/lib/python3.7/site-packages/sklearn/utils/validation.py\u001b[0m in \u001b[0;36mcheck_array\u001b[0;34m(array, accept_sparse, accept_large_sparse, dtype, order, copy, force_all_finite, ensure_2d, allow_nd, ensure_min_samples, ensure_min_features, estimator)\u001b[0m\n\u001b[1;32m    771\u001b[0m                     \u001b[0;34m\"Reshape your data either using array.reshape(-1, 1) if \"\u001b[0m\u001b[0;34m\u001b[0m\u001b[0;34m\u001b[0m\u001b[0m\n\u001b[1;32m    772\u001b[0m                     \u001b[0;34m\"your data has a single feature or array.reshape(1, -1) \"\u001b[0m\u001b[0;34m\u001b[0m\u001b[0;34m\u001b[0m\u001b[0m\n\u001b[0;32m--> 773\u001b[0;31m                     \u001b[0;34m\"if it contains a single sample.\"\u001b[0m\u001b[0;34m.\u001b[0m\u001b[0mformat\u001b[0m\u001b[0;34m(\u001b[0m\u001b[0marray\u001b[0m\u001b[0;34m)\u001b[0m\u001b[0;34m\u001b[0m\u001b[0;34m\u001b[0m\u001b[0m\n\u001b[0m\u001b[1;32m    774\u001b[0m                 )\n\u001b[1;32m    775\u001b[0m \u001b[0;34m\u001b[0m\u001b[0m\n",
      "\u001b[0;31mValueError\u001b[0m: Expected 2D array, got 1D array instead:\narray=[-0.7269192 -1.7704142].\nReshape your data either using array.reshape(-1, 1) if your data has a single feature or array.reshape(1, -1) if it contains a single sample."
     ]
    }
   ],
   "source": [
    "sub_similarity_matrices = {}\n",
    "for sub in subjects:\n",
    "    similarity_matrices = []\n",
    "    for node in range(n_nodes):\n",
    "        for n_t in range(n_ts):\n",
    "            similarity_matrices.append(Adjacency(1 - pairwise_distances(data[sub][:, n_t, node], metric='correlation'), matrix_type='similarity'))\n",
    "    sub_similarity_matrices[sub] =  Adjacency(similarity_matrices)"
   ]
  },
  {
   "cell_type": "code",
   "execution_count": 372,
   "id": "cac36e2f-71db-459c-b912-acd3c07ea16b",
   "metadata": {},
   "outputs": [
    {
     "data": {
      "text/plain": [
       "<bound method Adjacency.shape of nltools.data.adjacency.Adjacency(shape=(50, 1), square_shape=(2, 2), Y=0, is_symmetric=True,matrix_type=similarity)>"
      ]
     },
     "execution_count": 372,
     "metadata": {},
     "output_type": "execute_result"
    }
   ],
   "source": [
    "sub_similarity_matrices[sub].shape"
   ]
  },
  {
   "cell_type": "code",
   "execution_count": 375,
   "id": "a4451332-b0d9-4ef3-8eb0-d29e2698cee1",
   "metadata": {},
   "outputs": [
    {
     "data": {
      "image/png": "[encoded data removed]",
      "text/plain": [
       "<Figure size 700x25000 with 6 Axes>"
      ]
     },
     "metadata": {},
     "output_type": "display_data"
    }
   ],
   "source": [
    "sub_similarity_matrices[sub].plot(vmin=-.25, vmax=.25, cmap='RdBu_r')"
   ]
  },
  {
   "cell_type": "code",
   "execution_count": 288,
   "id": "646a10e0-ea31-4918-bbf4-8dfc60cb1aa6",
   "metadata": {
    "collapsed": true,
    "jupyter": {
     "outputs_hidden": true
    },
    "tags": []
   },
   "outputs": [
    {
     "name": "stderr",
     "output_type": "stream",
     "text": [
      "100%|███████████████████████████████████████████████████████████████████████████████████| 50/50 [58:49<00:00, 70.58s/it]\n",
      "/home/sincerely/.conda/envs/fmri01/lib/python3.7/site-packages/nilearn/__init__.py:69: FutureWarning: Python 3.7 support is deprecated and will be removed in release 0.12 of Nilearn. Consider switching to Python 3.9 or 3.10.\n",
      "  _python_deprecation_warnings()\n",
      "/home/sincerely/.conda/envs/fmri01/lib/python3.7/site-packages/numpy/lib/nanfunctions.py:1120: RuntimeWarning: All-NaN slice encountered\n",
      "  overwrite_input=overwrite_input)\n",
      "/home/sincerely/.conda/envs/fmri01/lib/python3.7/site-packages/nilearn/__init__.py:69: FutureWarning: Python 3.7 support is deprecated and will be removed in release 0.12 of Nilearn. Consider switching to Python 3.9 or 3.10.\n",
      "  _python_deprecation_warnings()\n",
      "/home/sincerely/.conda/envs/fmri01/lib/python3.7/site-packages/numpy/lib/nanfunctions.py:1120: RuntimeWarning: All-NaN slice encountered\n",
      "  overwrite_input=overwrite_input)\n",
      "/home/sincerely/.conda/envs/fmri01/lib/python3.7/site-packages/nilearn/__init__.py:69: FutureWarning: Python 3.7 support is deprecated and will be removed in release 0.12 of Nilearn. Consider switching to Python 3.9 or 3.10.\n",
      "  _python_deprecation_warnings()\n",
      "/home/sincerely/.conda/envs/fmri01/lib/python3.7/site-packages/numpy/lib/nanfunctions.py:1120: RuntimeWarning: All-NaN slice encountered\n",
      "  overwrite_input=overwrite_input)\n",
      "/home/sincerely/.conda/envs/fmri01/lib/python3.7/site-packages/nilearn/__init__.py:69: FutureWarning: Python 3.7 support is deprecated and will be removed in release 0.12 of Nilearn. Consider switching to Python 3.9 or 3.10.\n",
      "  _python_deprecation_warnings()\n",
      "/home/sincerely/.conda/envs/fmri01/lib/python3.7/site-packages/numpy/lib/nanfunctions.py:1120: RuntimeWarning: All-NaN slice encountered\n",
      "  overwrite_input=overwrite_input)\n",
      "/home/sincerely/.conda/envs/fmri01/lib/python3.7/site-packages/nilearn/__init__.py:69: FutureWarning: Python 3.7 support is deprecated and will be removed in release 0.12 of Nilearn. Consider switching to Python 3.9 or 3.10.\n",
      "  _python_deprecation_warnings()\n",
      "/home/sincerely/.conda/envs/fmri01/lib/python3.7/site-packages/numpy/lib/nanfunctions.py:1120: RuntimeWarning: All-NaN slice encountered\n",
      "  overwrite_input=overwrite_input)\n",
      "/home/sincerely/.conda/envs/fmri01/lib/python3.7/site-packages/nilearn/__init__.py:69: FutureWarning: Python 3.7 support is deprecated and will be removed in release 0.12 of Nilearn. Consider switching to Python 3.9 or 3.10.\n",
      "  _python_deprecation_warnings()\n",
      "/home/sincerely/.conda/envs/fmri01/lib/python3.7/site-packages/numpy/lib/nanfunctions.py:1120: RuntimeWarning: All-NaN slice encountered\n",
      "  overwrite_input=overwrite_input)\n",
      "/home/sincerely/.conda/envs/fmri01/lib/python3.7/site-packages/nilearn/__init__.py:69: FutureWarning: Python 3.7 support is deprecated and will be removed in release 0.12 of Nilearn. Consider switching to Python 3.9 or 3.10.\n",
      "  _python_deprecation_warnings()\n",
      "/home/sincerely/.conda/envs/fmri01/lib/python3.7/site-packages/numpy/lib/nanfunctions.py:1120: RuntimeWarning: All-NaN slice encountered\n",
      "  overwrite_input=overwrite_input)\n",
      "/home/sincerely/.conda/envs/fmri01/lib/python3.7/site-packages/nilearn/__init__.py:69: FutureWarning: Python 3.7 support is deprecated and will be removed in release 0.12 of Nilearn. Consider switching to Python 3.9 or 3.10.\n",
      "  _python_deprecation_warnings()\n",
      "/home/sincerely/.conda/envs/fmri01/lib/python3.7/site-packages/numpy/lib/nanfunctions.py:1120: RuntimeWarning: All-NaN slice encountered\n",
      "  overwrite_input=overwrite_input)\n",
      "/home/sincerely/.conda/envs/fmri01/lib/python3.7/site-packages/nilearn/__init__.py:69: FutureWarning: Python 3.7 support is deprecated and will be removed in release 0.12 of Nilearn. Consider switching to Python 3.9 or 3.10.\n",
      "  _python_deprecation_warnings()\n",
      "/home/sincerely/.conda/envs/fmri01/lib/python3.7/site-packages/numpy/lib/nanfunctions.py:1120: RuntimeWarning: All-NaN slice encountered\n",
      "  overwrite_input=overwrite_input)\n",
      "/home/sincerely/.conda/envs/fmri01/lib/python3.7/site-packages/nilearn/__init__.py:69: FutureWarning: Python 3.7 support is deprecated and will be removed in release 0.12 of Nilearn. Consider switching to Python 3.9 or 3.10.\n",
      "  _python_deprecation_warnings()\n",
      "/home/sincerely/.conda/envs/fmri01/lib/python3.7/site-packages/numpy/lib/nanfunctions.py:1120: RuntimeWarning: All-NaN slice encountered\n",
      "  overwrite_input=overwrite_input)\n",
      "/home/sincerely/.conda/envs/fmri01/lib/python3.7/site-packages/nilearn/__init__.py:69: FutureWarning: Python 3.7 support is deprecated and will be removed in release 0.12 of Nilearn. Consider switching to Python 3.9 or 3.10.\n",
      "  _python_deprecation_warnings()\n",
      "/home/sincerely/.conda/envs/fmri01/lib/python3.7/site-packages/numpy/lib/nanfunctions.py:1120: RuntimeWarning: All-NaN slice encountered\n",
      "  overwrite_input=overwrite_input)\n",
      "/home/sincerely/.conda/envs/fmri01/lib/python3.7/site-packages/nilearn/__init__.py:69: FutureWarning: Python 3.7 support is deprecated and will be removed in release 0.12 of Nilearn. Consider switching to Python 3.9 or 3.10.\n",
      "  _python_deprecation_warnings()\n",
      "/home/sincerely/.conda/envs/fmri01/lib/python3.7/site-packages/numpy/lib/nanfunctions.py:1120: RuntimeWarning: All-NaN slice encountered\n",
      "  overwrite_input=overwrite_input)\n",
      "/home/sincerely/.conda/envs/fmri01/lib/python3.7/site-packages/nilearn/__init__.py:69: FutureWarning: Python 3.7 support is deprecated and will be removed in release 0.12 of Nilearn. Consider switching to Python 3.9 or 3.10.\n",
      "  _python_deprecation_warnings()\n",
      "/home/sincerely/.conda/envs/fmri01/lib/python3.7/site-packages/numpy/lib/nanfunctions.py:1120: RuntimeWarning: All-NaN slice encountered\n",
      "  overwrite_input=overwrite_input)\n",
      "/home/sincerely/.conda/envs/fmri01/lib/python3.7/site-packages/nilearn/__init__.py:69: FutureWarning: Python 3.7 support is deprecated and will be removed in release 0.12 of Nilearn. Consider switching to Python 3.9 or 3.10.\n",
      "  _python_deprecation_warnings()\n",
      "/home/sincerely/.conda/envs/fmri01/lib/python3.7/site-packages/numpy/lib/nanfunctions.py:1120: RuntimeWarning: All-NaN slice encountered\n",
      "  overwrite_input=overwrite_input)\n",
      "/home/sincerely/.conda/envs/fmri01/lib/python3.7/site-packages/nilearn/__init__.py:69: FutureWarning: Python 3.7 support is deprecated and will be removed in release 0.12 of Nilearn. Consider switching to Python 3.9 or 3.10.\n",
      "  _python_deprecation_warnings()\n",
      "/home/sincerely/.conda/envs/fmri01/lib/python3.7/site-packages/numpy/lib/nanfunctions.py:1120: RuntimeWarning: All-NaN slice encountered\n",
      "  overwrite_input=overwrite_input)\n",
      "/home/sincerely/.conda/envs/fmri01/lib/python3.7/site-packages/nilearn/__init__.py:69: FutureWarning: Python 3.7 support is deprecated and will be removed in release 0.12 of Nilearn. Consider switching to Python 3.9 or 3.10.\n",
      "  _python_deprecation_warnings()\n",
      "/home/sincerely/.conda/envs/fmri01/lib/python3.7/site-packages/numpy/lib/nanfunctions.py:1120: RuntimeWarning: All-NaN slice encountered\n",
      "  overwrite_input=overwrite_input)\n",
      "/home/sincerely/.conda/envs/fmri01/lib/python3.7/site-packages/nilearn/__init__.py:69: FutureWarning: Python 3.7 support is deprecated and will be removed in release 0.12 of Nilearn. Consider switching to Python 3.9 or 3.10.\n",
      "  _python_deprecation_warnings()\n",
      "/home/sincerely/.conda/envs/fmri01/lib/python3.7/site-packages/numpy/lib/nanfunctions.py:1120: RuntimeWarning: All-NaN slice encountered\n",
      "  overwrite_input=overwrite_input)\n",
      "/home/sincerely/.conda/envs/fmri01/lib/python3.7/site-packages/nilearn/__init__.py:69: FutureWarning: Python 3.7 support is deprecated and will be removed in release 0.12 of Nilearn. Consider switching to Python 3.9 or 3.10.\n",
      "  _python_deprecation_warnings()\n",
      "/home/sincerely/.conda/envs/fmri01/lib/python3.7/site-packages/numpy/lib/nanfunctions.py:1120: RuntimeWarning: All-NaN slice encountered\n",
      "  overwrite_input=overwrite_input)\n",
      "/home/sincerely/.conda/envs/fmri01/lib/python3.7/site-packages/nilearn/__init__.py:69: FutureWarning: Python 3.7 support is deprecated and will be removed in release 0.12 of Nilearn. Consider switching to Python 3.9 or 3.10.\n",
      "  _python_deprecation_warnings()\n",
      "/home/sincerely/.conda/envs/fmri01/lib/python3.7/site-packages/numpy/lib/nanfunctions.py:1120: RuntimeWarning: All-NaN slice encountered\n",
      "  overwrite_input=overwrite_input)\n",
      "/home/sincerely/.conda/envs/fmri01/lib/python3.7/site-packages/nilearn/__init__.py:69: FutureWarning: Python 3.7 support is deprecated and will be removed in release 0.12 of Nilearn. Consider switching to Python 3.9 or 3.10.\n",
      "  _python_deprecation_warnings()\n",
      "/home/sincerely/.conda/envs/fmri01/lib/python3.7/site-packages/numpy/lib/nanfunctions.py:1120: RuntimeWarning: All-NaN slice encountered\n",
      "  overwrite_input=overwrite_input)\n",
      "/home/sincerely/.conda/envs/fmri01/lib/python3.7/site-packages/nilearn/__init__.py:69: FutureWarning: Python 3.7 support is deprecated and will be removed in release 0.12 of Nilearn. Consider switching to Python 3.9 or 3.10.\n",
      "  _python_deprecation_warnings()\n",
      "/home/sincerely/.conda/envs/fmri01/lib/python3.7/site-packages/numpy/lib/nanfunctions.py:1120: RuntimeWarning: All-NaN slice encountered\n",
      "  overwrite_input=overwrite_input)\n",
      "/home/sincerely/.conda/envs/fmri01/lib/python3.7/site-packages/nilearn/__init__.py:69: FutureWarning: Python 3.7 support is deprecated and will be removed in release 0.12 of Nilearn. Consider switching to Python 3.9 or 3.10.\n",
      "  _python_deprecation_warnings()\n",
      "/home/sincerely/.conda/envs/fmri01/lib/python3.7/site-packages/numpy/lib/nanfunctions.py:1120: RuntimeWarning: All-NaN slice encountered\n",
      "  overwrite_input=overwrite_input)\n",
      "/home/sincerely/.conda/envs/fmri01/lib/python3.7/site-packages/nilearn/__init__.py:69: FutureWarning: Python 3.7 support is deprecated and will be removed in release 0.12 of Nilearn. Consider switching to Python 3.9 or 3.10.\n",
      "  _python_deprecation_warnings()\n",
      "/home/sincerely/.conda/envs/fmri01/lib/python3.7/site-packages/numpy/lib/nanfunctions.py:1120: RuntimeWarning: All-NaN slice encountered\n",
      "  overwrite_input=overwrite_input)\n",
      "/home/sincerely/.conda/envs/fmri01/lib/python3.7/site-packages/nilearn/__init__.py:69: FutureWarning: Python 3.7 support is deprecated and will be removed in release 0.12 of Nilearn. Consider switching to Python 3.9 or 3.10.\n",
      "  _python_deprecation_warnings()\n",
      "/home/sincerely/.conda/envs/fmri01/lib/python3.7/site-packages/numpy/lib/nanfunctions.py:1120: RuntimeWarning: All-NaN slice encountered\n",
      "  overwrite_input=overwrite_input)\n"
     ]
    }
   ],
   "source": [
    "from tqdm import tqdm\n",
    "isc_r, isc_p = {}, {}\n",
    "for roi in tqdm(range(50)):\n",
    "    sub_r, sub_p = {}, {}\n",
    "    for sub in subjects:\n",
    "        story_r, story_p = {}, {} \n",
    "        sub_data = {}\n",
    "        for j, story in enumerate(['run', 'bli', 'dre', 'nei']):\n",
    "            sub_data['audio'] = ROIs[roi][sub][story]['audio']\n",
    "            sub_data['visual'] = ROIs[roi][sub][story]['visual']\n",
    "\n",
    "            #Calculating ISC\n",
    "            story_stats = isc(pd.DataFrame(sub_data), n_bootstraps=5000, metric='median', method='bootstrap', exclude_self_corr=True)\n",
    "            story_r[j], story_p[j] = story_stats['isc'], story_stats['p']\n",
    "        sub_r[sub], sub_p[sub] = story_r, story_p\n",
    "    isc_r[roi], isc_p[roi] = sub_r, sub_p"
   ]
  },
  {
   "cell_type": "code",
   "execution_count": 311,
   "id": "c676b16d-6ddc-487a-bdf2-5371254a09ca",
   "metadata": {},
   "outputs": [
    {
     "ename": "KeyError",
     "evalue": "1",
     "output_type": "error",
     "traceback": [
      "\u001b[0;31m---------------------------------------------------------------------------\u001b[0m",
      "\u001b[0;31mKeyError\u001b[0m                                  Traceback (most recent call last)",
      "\u001b[0;32m/tmp/ipykernel_2840/4257610577.py\u001b[0m in \u001b[0;36m<module>\u001b[0;34m\u001b[0m\n\u001b[0;32m----> 1\u001b[0;31m \u001b[0misc_r\u001b[0m\u001b[0;34m[\u001b[0m\u001b[0;36m1\u001b[0m\u001b[0;34m]\u001b[0m\u001b[0;34m\u001b[0m\u001b[0;34m\u001b[0m\u001b[0m\n\u001b[0m",
      "\u001b[0;31mKeyError\u001b[0m: 1"
     ]
    }
   ],
   "source": [
    "isc_r[1]"
   ]
  },
  {
   "cell_type": "code",
   "execution_count": 291,
   "id": "6b4032ec-287a-4f4b-9c16-0b73a4ad3b0c",
   "metadata": {},
   "outputs": [
    {
     "data": {
      "text/plain": [
       "(117, 2)"
      ]
     },
     "execution_count": 291,
     "metadata": {},
     "output_type": "execute_result"
    }
   ],
   "source": [
    "pd.DataFrame(sub_data).shape"
   ]
  },
  {
   "cell_type": "markdown",
   "id": "424e95d6-4e4f-4ef0-9105-40bfd06f5c9c",
   "metadata": {},
   "source": [
    "# 3. Compute RSA"
   ]
  },
  {
   "cell_type": "code",
   "execution_count": null,
   "id": "b205f208-004c-4e73-a0cf-9c21a352dc8d",
   "metadata": {},
   "outputs": [],
   "source": [
    "isrsa_nn, isrsa_annak = {}, {}\n",
    "for node in range(len(similarity_matrices)):\n",
    "    isrsa_nn[node] = similarity_matrices[node].similarity(behav_sim_nn, metric='spearman', n_permute=1, n_jobs=1 )['correlation']\n",
    "    isrsa_annak[node] = similarity_matrices[node].similarity(behav_sim_annak, metric='spearman', n_permute=1, n_jobs=1 )['correlation']\n",
    "\n",
    "isrsa_nn_brain = roi_to_brain(pd.Series(isrsa_nn), expand_mask(mask))\n",
    "isrsa_annak_brain = roi_to_brain(pd.Series(isrsa_annak), expand_mask(mask))"
   ]
  }
 ],
 "metadata": {
  "kernelspec": {
   "display_name": "Python 3 (ipykernel)",
   "language": "python",
   "name": "python3"
  },
  "language_info": {
   "codemirror_mode": {
    "name": "ipython",
    "version": 3
   },
   "file_extension": ".py",
   "mimetype": "text/x-python",
   "name": "python",
   "nbconvert_exporter": "python",
   "pygments_lexer": "ipython3",
   "version": "3.7.15"
  }
 },
 "nbformat": 4,
 "nbformat_minor": 5
}
