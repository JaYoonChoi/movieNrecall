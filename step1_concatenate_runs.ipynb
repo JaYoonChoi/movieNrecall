{
 "cells": [
  {
   "cell_type": "code",
   "execution_count": 2,
   "id": "d86ed9cd-95d0-443c-88e2-d425933c7113",
   "metadata": {},
   "outputs": [],
   "source": [
    "import nibabel as nib\n",
    "import numpy as np\n",
    "import glob\n",
    "import os\n",
    "\n",
    "#May_dir = '/mnt/c/Users/since/Desktop/KdramaMay/'\n",
    "base_dir = '/mnt/c/Users/since/Desktop/KdramaMay/'"
   ]
  },
  {
   "cell_type": "code",
   "execution_count": 3,
   "id": "cafb1c82-36aa-4a09-b842-d3bf061ae7a2",
   "metadata": {
    "tags": []
   },
   "outputs": [
    {
     "name": "stdout",
     "output_type": "stream",
     "text": [
      "[1, 2, 3, 4, 5, 6, 7, 8, 10, 11, 12, 13, 14, 15, 16, 17, 18, 19, 20, 21, 22, 23, 24, 25, 26, 27, 28, 29, 30, 31, 32, 33, 34, 35, 38, 39, 40, 42, 43, 44, 45, 46, 48, 49, 51, 52, 54, 55, 57, 58, 59, 64, 65, 66, 67, 68, 69, 70, 71, 72, 74, 75, 76]\n"
     ]
    }
   ],
   "source": [
    "#Subject check \n",
    "\n",
    "data_dir = os.path.join(base_dir, 'data', 'derivatives')\n",
    "file_list = glob.glob(os.path.join(data_dir, 'sub-*', 'func', f'*task-encoding_run-1_space-MNI152NLin6Asym_res-2_desc-brain_mask.nii.gz'))\n",
    "\n",
    "sub_sm =[] \n",
    "for filename in file_list: \n",
    "    sub = os.path.basename(filename).split('_')[0]\n",
    "    sub = os.path.basename(sub).split('-')[1]\n",
    "    sub_sm.append(int(sub)) \n",
    "print(sub_sm)\n",
    "# sub_sm_exclude = [0]\n",
    "# sub_sm = np.delete(sub_sm, sub_sm_exclude)\n",
    "# #print(subject)\n",
    "# print(sub_sm)"
   ]
  },
  {
   "cell_type": "code",
   "execution_count": 2,
   "id": "f92a4fb2-c34b-4eac-aebe-48c66b2fb3f3",
   "metadata": {},
   "outputs": [
    {
     "name": "stdout",
     "output_type": "stream",
     "text": [
      "73\n",
      "(91, 109, 91, 477) (91, 109, 91, 477)\n",
      "Concatenation complete. File saved as concatenated_file.nii.gz\n"
     ]
    }
   ],
   "source": [
    "import nibabel as nib\n",
    "import numpy as np\n",
    "import glob\n",
    "import os\n",
    "\n",
    "base_dir = '/mnt/c/Users/since/Desktop/KdramaMay/'\n",
    "\n",
    "sub_sm = [73]\n",
    "for sub in sub_sm: \n",
    "    print(sub)\n",
    "    encoding_files = glob.glob(os.path.join(base_dir,'denoised', f'sub-*{sub}_task-encoding_run-*_4scNsm.nii.gz'))\n",
    "\n",
    "    # Load the NIfTI files\n",
    "    nii1 = nib.load(encoding_files[0])\n",
    "    nii2 = nib.load(encoding_files[0])\n",
    "\n",
    "    # Get the data arrays from the NIfTI files\n",
    "    data1 = nii1.get_fdata()\n",
    "    data2 = nii2.get_fdata()\n",
    "    print(data1.shape, data2.shape)\n",
    "\n",
    "    # Concatenate the data along the desired axis\n",
    "    # Adjust axis as needed (0, 1, 2 for x, y, z; 3 for time/4D)\n",
    "    concatenated_data = np.concatenate((data1, data2), axis=3)  # Example concatenation along the 4th dimension\n",
    "\n",
    "    # Create a new NIfTI image from the concatenated data\n",
    "    concatenated_nii = nib.Nifti1Image(concatenated_data, nii1.affine)\n",
    "\n",
    "    # Save the new NIfTI image to a file\n",
    "    concat_img_path = os.path.join(base_dir,'GLM','data', f\"sub-{sub}_task-encoding_concatenated.nii.gz\")\n",
    "    nib.save(concatenated_nii, concat_img_path)\n",
    "\n",
    "    print('Concatenation complete. File saved as concatenated_file.nii.gz')"
   ]
  },
  {
   "cell_type": "code",
   "execution_count": null,
   "id": "cc3e32f3-3fe6-4752-91bf-c255cb04bf0a",
   "metadata": {},
   "outputs": [],
   "source": []
  }
 ],
 "metadata": {
  "kernelspec": {
   "display_name": "fmri01",
   "language": "python",
   "name": "fmri01"
  },
  "language_info": {
   "codemirror_mode": {
    "name": "ipython",
    "version": 3
   },
   "file_extension": ".py",
   "mimetype": "text/x-python",
   "name": "python",
   "nbconvert_exporter": "python",
   "pygments_lexer": "ipython3",
   "version": "3.7.15"
  }
 },
 "nbformat": 4,
 "nbformat_minor": 5
}
